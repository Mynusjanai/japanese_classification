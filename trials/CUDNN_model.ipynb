{
 "cells": [
  {
   "cell_type": "code",
   "execution_count": 1,
   "id": "857ad901",
   "metadata": {
    "ExecuteTime": {
     "end_time": "2021-05-10T18:53:55.813835Z",
     "start_time": "2021-05-10T18:53:52.279957Z"
    }
   },
   "outputs": [],
   "source": [
    "from pathlib import Path\n",
    "from sklearn.ensemble import GradientBoostingClassifier\n",
    "from sklearn.ensemble import RandomForestClassifier\n",
    "import seaborn as sns\n",
    "from sklearn.ensemble import GradientBoostingRegressor\n",
    "from sklearn.ensemble import RandomForestRegressor\n",
    "import matplotlib.pyplot as plt\n",
    "# ^^^ pyforest auto-imports - don't write above this line\n",
    "import pyforest\n",
    "import struct\n",
    "import skimage.transform\n",
    "import tensorflow as tf\n",
    "import datetime\n",
    "import numpy as np\n",
    "\n",
    "\n",
    "# Dependency imports\n",
    "from tensorflow.keras import datasets, layers, models\n",
    "from tensorflow.keras import backend as K\n",
    "from tensorflow.keras.regularizers import l2\n",
    "from tensorflow.keras.optimizers import SGD\n",
    "from tensorflow.keras.wrappers import scikit_learn\n",
    "from tensorflow.keras.callbacks import EarlyStopping, ReduceLROnPlateau\n",
    "from tensorflow.keras.preprocessing.image import ImageDataGenerator\n",
    "from tensorflow.keras.layers import Dense, Dropout, Activation, Flatten, LSTM\n",
    "from tensorflow.keras.models import Sequential\n",
    "\n",
    "from PIL import Image\n",
    "from sklearn.metrics import confusion_matrix\n",
    "from sklearn.model_selection import train_test_split, cross_val_score\n",
    "from sklearn.preprocessing import OneHotEncoder\n",
    "\n",
    "# Notebook Extentions\n",
    "%load_ext tensorboard"
   ]
  },
  {
   "cell_type": "code",
   "execution_count": 2,
   "id": "59d04c04",
   "metadata": {
    "ExecuteTime": {
     "end_time": "2021-05-10T18:54:00.482522Z",
     "start_time": "2021-05-10T18:54:00.477638Z"
    }
   },
   "outputs": [
    {
     "name": "stdout",
     "output_type": "stream",
     "text": [
      "1.19.2\n"
     ]
    }
   ],
   "source": [
    "print(np.__version__)"
   ]
  },
  {
   "cell_type": "markdown",
   "id": "f2a3507b",
   "metadata": {},
   "source": [
    "# cuDNN Model"
   ]
  },
  {
   "cell_type": "markdown",
   "id": "318dda88",
   "metadata": {},
   "source": [
    "## cuDNN Model Prep"
   ]
  },
  {
   "cell_type": "code",
   "execution_count": 3,
   "id": "2df3a314",
   "metadata": {
    "ExecuteTime": {
     "end_time": "2021-05-10T18:54:15.660074Z",
     "start_time": "2021-05-10T18:54:04.862106Z"
    }
   },
   "outputs": [],
   "source": [
    "X_train = np.load('data/japanese_X_train.npz')['arr_0']\n",
    "X_val = np.load('data/japanese_X_validation.npz')['arr_0']\n",
    "y_train = np.load('data/japanese_y_train.npz')['arr_0']\n",
    "y_val = np.load('data/japanese_y_validation.npz')['arr_0']"
   ]
  },
  {
   "cell_type": "code",
   "execution_count": 4,
   "id": "2cdf6e22",
   "metadata": {
    "ExecuteTime": {
     "end_time": "2021-05-10T18:54:17.980417Z",
     "start_time": "2021-05-10T18:54:17.975521Z"
    }
   },
   "outputs": [],
   "source": [
    "# Image dimensions\n",
    "img_row, img_col = 64, 64\n",
    "\n",
    "# Classes\n",
    "japanese_class = 3"
   ]
  },
  {
   "cell_type": "code",
   "execution_count": 6,
   "id": "b883e1e6",
   "metadata": {
    "ExecuteTime": {
     "end_time": "2021-05-10T18:55:03.016259Z",
     "start_time": "2021-05-10T18:55:03.011368Z"
    }
   },
   "outputs": [],
   "source": [
    "# Default shape for cuDNN is 'channels_last', this makes sure everything is in the right order\n",
    "\n",
    "if K.image_data_format() == 'channels_first':\n",
    "    japanese_X_train = X_train.reshape(X_train.shape[0], 1, img_row, img_col)\n",
    "    japanese_X_val = X_val.reshape(X_val.shape[0], 1, img_row, img_col)\n",
    "    japanese_shape = (1, img_row, img_col) \n",
    "else:\n",
    "    japanese_X_train = X_train.reshape(X_train.shape[0], img_row, img_col, 1)\n",
    "    japanese_X_val = X_val.reshape(X_val.shape[0], img_row, img_col, 1)\n",
    "    japanese_shape = (img_row, img_col, 1)"
   ]
  },
  {
   "cell_type": "code",
   "execution_count": 20,
   "id": "0cb5143c",
   "metadata": {
    "ExecuteTime": {
     "end_time": "2021-05-10T19:03:33.083987Z",
     "start_time": "2021-05-10T19:03:33.078139Z"
    }
   },
   "outputs": [
    {
     "data": {
      "text/plain": [
       "(138204, 64, 64)"
      ]
     },
     "execution_count": 20,
     "metadata": {},
     "output_type": "execute_result"
    }
   ],
   "source": [
    "X_train.shape"
   ]
  },
  {
   "cell_type": "code",
   "execution_count": 41,
   "id": "40140b22",
   "metadata": {
    "ExecuteTime": {
     "end_time": "2021-05-10T19:25:03.278685Z",
     "start_time": "2021-05-10T19:25:03.272818Z"
    }
   },
   "outputs": [
    {
     "data": {
      "text/plain": [
       "(34552, 64, 64)"
      ]
     },
     "execution_count": 41,
     "metadata": {},
     "output_type": "execute_result"
    }
   ],
   "source": [
    "X_val.shape"
   ]
  },
  {
   "cell_type": "code",
   "execution_count": 22,
   "id": "b3b9e474",
   "metadata": {
    "ExecuteTime": {
     "end_time": "2021-05-10T19:04:01.100592Z",
     "start_time": "2021-05-10T19:04:01.093737Z"
    }
   },
   "outputs": [
    {
     "data": {
      "text/plain": [
       "(64, 64)"
      ]
     },
     "execution_count": 22,
     "metadata": {},
     "output_type": "execute_result"
    }
   ],
   "source": [
    "X_train[0].shape"
   ]
  },
  {
   "cell_type": "code",
   "execution_count": 39,
   "id": "bc46bcb6",
   "metadata": {
    "ExecuteTime": {
     "end_time": "2021-05-10T19:24:19.471066Z",
     "start_time": "2021-05-10T19:24:18.578501Z"
    }
   },
   "outputs": [],
   "source": [
    "cudnn_model = models.Sequential()\n",
    "\n",
    "cudnn_model.add(LSTM(128, input_shape = (X_train.shape[1:]), return_sequences = True))\n",
    "cudnn_model.add(Dropout(0.2))\n",
    "\n",
    "cudnn_model.add(LSTM(128))\n",
    "cudnn_model.add(Dropout(0.2))\n",
    "\n",
    "cudnn_model.add(Flatten())\n",
    "cudnn_model.add(Dense(256, activation = 'relu'))\n",
    "cudnn_model.add(Dropout(0.2))\n",
    "cudnn_model.add(Dense(japanese_class, activation = 'softmax'))"
   ]
  },
  {
   "cell_type": "code",
   "execution_count": 40,
   "id": "f066c459",
   "metadata": {
    "ExecuteTime": {
     "end_time": "2021-05-10T19:24:21.739371Z",
     "start_time": "2021-05-10T19:24:21.731532Z"
    }
   },
   "outputs": [
    {
     "name": "stdout",
     "output_type": "stream",
     "text": [
      "Model: \"sequential_17\"\n",
      "_________________________________________________________________\n",
      "Layer (type)                 Output Shape              Param #   \n",
      "=================================================================\n",
      "lstm_25 (LSTM)               (None, 64, 128)           98816     \n",
      "_________________________________________________________________\n",
      "dropout_10 (Dropout)         (None, 64, 128)           0         \n",
      "_________________________________________________________________\n",
      "lstm_26 (LSTM)               (None, 128)               131584    \n",
      "_________________________________________________________________\n",
      "dropout_11 (Dropout)         (None, 128)               0         \n",
      "_________________________________________________________________\n",
      "flatten_2 (Flatten)          (None, 128)               0         \n",
      "_________________________________________________________________\n",
      "dense_4 (Dense)              (None, 256)               33024     \n",
      "_________________________________________________________________\n",
      "dropout_12 (Dropout)         (None, 256)               0         \n",
      "_________________________________________________________________\n",
      "dense_5 (Dense)              (None, 3)                 771       \n",
      "=================================================================\n",
      "Total params: 264,195\n",
      "Trainable params: 264,195\n",
      "Non-trainable params: 0\n",
      "_________________________________________________________________\n"
     ]
    }
   ],
   "source": [
    "cudnn_model.summary()"
   ]
  },
  {
   "cell_type": "code",
   "execution_count": 30,
   "id": "0402c23d",
   "metadata": {
    "ExecuteTime": {
     "end_time": "2021-05-10T19:14:00.374384Z",
     "start_time": "2021-05-10T19:14:00.363606Z"
    }
   },
   "outputs": [],
   "source": [
    "# Callbacks\n",
    "japanese_es = EarlyStopping(patience = 3, verbose = 1, restore_best_weights = True)\n",
    "japanese_lr = ReduceLROnPlateau(factor = 0.5, patience = 2, verbose = 1)\n",
    "\n",
    "# Tensorboard Callback\n",
    "japanese_log_dir = 'logs/cuDNN/' + datetime.datetime.now().strftime('Y%m%d-%H%M%S')\n",
    "tensorboard_callback = tf.keras.callbacks.TensorBoard(log_dir = japanese_log_dir, histogram_freq = 1)"
   ]
  },
  {
   "cell_type": "markdown",
   "id": "52ebd888",
   "metadata": {},
   "source": [
    "### Adding Variation with ImageDataGenerator\n",
    "- Tensorflow's ImageDataGenerator can augment images to create new vesions of the data, essentially artificially inserting variation into the data\n",
    "- Images can be rotated, zoomed, and flipped\n",
    "- This variation is used to avoid overfitting on the training set\n",
    "- Following augmentation is for a 2D cuDNN"
   ]
  },
  {
   "cell_type": "markdown",
   "id": "742d1530",
   "metadata": {},
   "source": [
    "### cuDNN Model Run"
   ]
  },
  {
   "cell_type": "code",
   "execution_count": 42,
   "id": "295597ae",
   "metadata": {
    "ExecuteTime": {
     "end_time": "2021-05-10T21:24:43.256462Z",
     "start_time": "2021-05-10T19:27:00.354066Z"
    }
   },
   "outputs": [
    {
     "name": "stdout",
     "output_type": "stream",
     "text": [
      "Epoch 1/30\n",
      "   1/4319 [..............................] - ETA: 0s - loss: 1.0981 - accuracy: 0.3125WARNING:tensorflow:From C:\\Users\\Administrator\\anaconda3\\envs\\tf_gpu\\lib\\site-packages\\tensorflow\\python\\ops\\summary_ops_v2.py:1277: stop (from tensorflow.python.eager.profiler) is deprecated and will be removed after 2020-07-01.\n",
      "Instructions for updating:\n",
      "use `tf.profiler.experimental.stop` instead.\n",
      "   2/4319 [..............................] - ETA: 19:10 - loss: 1.0902 - accuracy: 0.4844WARNING:tensorflow:Callbacks method `on_train_batch_end` is slow compared to the batch time (batch time: 0.1123s vs `on_train_batch_end` time: 0.4150s). Check your callbacks.\n",
      "4319/4319 [==============================] - 468s 108ms/step - loss: 0.1166 - accuracy: 0.9588 - val_loss: 0.0725 - val_accuracy: 0.9721\n",
      "Epoch 2/30\n",
      "4319/4319 [==============================] - 465s 108ms/step - loss: 0.0632 - accuracy: 0.9779 - val_loss: 0.0598 - val_accuracy: 0.9795\n",
      "Epoch 3/30\n",
      "4319/4319 [==============================] - 465s 108ms/step - loss: 0.0486 - accuracy: 0.9826 - val_loss: 0.0360 - val_accuracy: 0.9872\n",
      "Epoch 4/30\n",
      "4319/4319 [==============================] - 464s 107ms/step - loss: 0.0365 - accuracy: 0.9873 - val_loss: 0.0316 - val_accuracy: 0.9891\n",
      "Epoch 5/30\n",
      "4319/4319 [==============================] - 467s 108ms/step - loss: 0.0282 - accuracy: 0.9903 - val_loss: 0.0260 - val_accuracy: 0.9909\n",
      "Epoch 6/30\n",
      "4319/4319 [==============================] - 466s 108ms/step - loss: 0.0216 - accuracy: 0.9926 - val_loss: 0.0234 - val_accuracy: 0.9929\n",
      "Epoch 7/30\n",
      "4319/4319 [==============================] - 467s 108ms/step - loss: 0.0188 - accuracy: 0.9935 - val_loss: 0.0230 - val_accuracy: 0.9934\n",
      "Epoch 8/30\n",
      "4319/4319 [==============================] - 469s 109ms/step - loss: 0.0168 - accuracy: 0.9942 - val_loss: 0.0239 - val_accuracy: 0.9928\n",
      "Epoch 9/30\n",
      "4319/4319 [==============================] - 467s 108ms/step - loss: 0.0138 - accuracy: 0.9955 - val_loss: 0.0190 - val_accuracy: 0.9943\n",
      "Epoch 10/30\n",
      "4319/4319 [==============================] - 468s 108ms/step - loss: 0.0115 - accuracy: 0.9962 - val_loss: 0.0204 - val_accuracy: 0.9937\n",
      "Epoch 11/30\n",
      "4319/4319 [==============================] - ETA: 0s - loss: 0.0097 - accuracy: 0.9969\n",
      "Epoch 00011: ReduceLROnPlateau reducing learning rate to 0.0005000000237487257.\n",
      "4319/4319 [==============================] - 477s 110ms/step - loss: 0.0097 - accuracy: 0.9969 - val_loss: 0.0201 - val_accuracy: 0.9938\n",
      "Epoch 12/30\n",
      "4319/4319 [==============================] - 477s 110ms/step - loss: 0.0050 - accuracy: 0.9984 - val_loss: 0.0187 - val_accuracy: 0.9949\n",
      "Epoch 13/30\n",
      "4319/4319 [==============================] - 476s 110ms/step - loss: 0.0038 - accuracy: 0.9987 - val_loss: 0.0236 - val_accuracy: 0.9949\n",
      "Epoch 14/30\n",
      "4319/4319 [==============================] - ETA: 0s - loss: 0.0034 - accuracy: 0.9989\n",
      "Epoch 00014: ReduceLROnPlateau reducing learning rate to 0.0002500000118743628.\n",
      "4319/4319 [==============================] - 478s 111ms/step - loss: 0.0034 - accuracy: 0.9989 - val_loss: 0.0233 - val_accuracy: 0.9952\n",
      "Epoch 15/30\n",
      "4319/4319 [==============================] - ETA: 0s - loss: 0.0017 - accuracy: 0.9995Restoring model weights from the end of the best epoch.\n",
      "4319/4319 [==============================] - 478s 111ms/step - loss: 0.0017 - accuracy: 0.9995 - val_loss: 0.0271 - val_accuracy: 0.9955\n",
      "Epoch 00015: early stopping\n"
     ]
    }
   ],
   "source": [
    "opt = tf.keras.optimizers.Adam(lr = 1e-3, decay = 1e-5)\n",
    "\n",
    "cudnn_model.compile(loss = 'categorical_crossentropy', optimizer = opt, metrics = ['accuracy'])\n",
    "\n",
    "cudnn_results = cudnn_model.fit(X_train, y_train, batch_size = 32,\\\n",
    "          epochs = 30, callbacks = (japanese_es, japanese_lr, tensorboard_callback), validation_data = (X_val, y_val))"
   ]
  },
  {
   "cell_type": "code",
   "execution_count": 43,
   "id": "30a1a6c5",
   "metadata": {
    "ExecuteTime": {
     "end_time": "2021-05-10T21:37:20.242456Z",
     "start_time": "2021-05-10T21:37:20.151632Z"
    }
   },
   "outputs": [],
   "source": [
    "cudnn_model.save('models/cudnn_model.h5')"
   ]
  },
  {
   "cell_type": "markdown",
   "id": "7f184039",
   "metadata": {},
   "source": [
    "### cuDNN Model Evaluation"
   ]
  },
  {
   "cell_type": "code",
   "execution_count": 44,
   "id": "91a8c9c3",
   "metadata": {
    "ExecuteTime": {
     "end_time": "2021-05-10T21:49:58.216305Z",
     "start_time": "2021-05-10T21:49:58.211400Z"
    }
   },
   "outputs": [],
   "source": [
    "cudnn_history = cudnn_results.history\n",
    "cudnn_training_loss = cudnn_history['loss']\n",
    "cudnn_val_loss = cudnn_history['val_loss']\n",
    "cudnn_training_accuracy = cudnn_history['accuracy']\n",
    "cudnn_val_accuracy = cudnn_history['val_accuracy']"
   ]
  },
  {
   "cell_type": "code",
   "execution_count": 46,
   "id": "742c51fb",
   "metadata": {
    "ExecuteTime": {
     "end_time": "2021-05-10T21:50:44.573662Z",
     "start_time": "2021-05-10T21:50:43.973099Z"
    }
   },
   "outputs": [
    {
     "data": {
      "application/javascript": [
       "\n",
       "        if (window._pyforest_update_imports_cell) { window._pyforest_update_imports_cell('from pathlib import Path\\nfrom sklearn.ensemble import GradientBoostingClassifier\\nfrom sklearn.ensemble import RandomForestClassifier\\nimport seaborn as sns\\nfrom sklearn.ensemble import GradientBoostingRegressor\\nfrom sklearn.ensemble import RandomForestRegressor\\nimport matplotlib.pyplot as plt'); }\n",
       "    "
      ],
      "text/plain": [
       "<IPython.core.display.Javascript object>"
      ]
     },
     "metadata": {},
     "output_type": "display_data"
    },
    {
     "data": {
      "application/javascript": [
       "\n",
       "        if (window._pyforest_update_imports_cell) { window._pyforest_update_imports_cell('from pathlib import Path\\nfrom sklearn.ensemble import GradientBoostingClassifier\\nfrom sklearn.ensemble import RandomForestClassifier\\nimport seaborn as sns\\nfrom sklearn.ensemble import GradientBoostingRegressor\\nfrom sklearn.ensemble import RandomForestRegressor\\nimport matplotlib.pyplot as plt'); }\n",
       "    "
      ],
      "text/plain": [
       "<IPython.core.display.Javascript object>"
      ]
     },
     "metadata": {},
     "output_type": "display_data"
    },
    {
     "data": {
      "application/javascript": [
       "\n",
       "        if (window._pyforest_update_imports_cell) { window._pyforest_update_imports_cell('from pathlib import Path\\nfrom sklearn.ensemble import GradientBoostingClassifier\\nfrom sklearn.ensemble import RandomForestClassifier\\nimport seaborn as sns\\nfrom sklearn.ensemble import GradientBoostingRegressor\\nfrom sklearn.ensemble import RandomForestRegressor\\nimport matplotlib.pyplot as plt'); }\n",
       "    "
      ],
      "text/plain": [
       "<IPython.core.display.Javascript object>"
      ]
     },
     "metadata": {},
     "output_type": "display_data"
    },
    {
     "data": {
      "application/javascript": [
       "\n",
       "        if (window._pyforest_update_imports_cell) { window._pyforest_update_imports_cell('from pathlib import Path\\nfrom sklearn.ensemble import GradientBoostingClassifier\\nfrom sklearn.ensemble import RandomForestClassifier\\nimport seaborn as sns\\nfrom sklearn.ensemble import GradientBoostingRegressor\\nfrom sklearn.ensemble import RandomForestRegressor\\nimport matplotlib.pyplot as plt'); }\n",
       "    "
      ],
      "text/plain": [
       "<IPython.core.display.Javascript object>"
      ]
     },
     "metadata": {},
     "output_type": "display_data"
    },
    {
     "data": {
      "application/javascript": [
       "\n",
       "        if (window._pyforest_update_imports_cell) { window._pyforest_update_imports_cell('from pathlib import Path\\nfrom sklearn.ensemble import GradientBoostingClassifier\\nfrom sklearn.ensemble import RandomForestClassifier\\nimport seaborn as sns\\nfrom sklearn.ensemble import GradientBoostingRegressor\\nfrom sklearn.ensemble import RandomForestRegressor\\nimport matplotlib.pyplot as plt'); }\n",
       "    "
      ],
      "text/plain": [
       "<IPython.core.display.Javascript object>"
      ]
     },
     "metadata": {},
     "output_type": "display_data"
    },
    {
     "data": {
      "application/javascript": [
       "\n",
       "        if (window._pyforest_update_imports_cell) { window._pyforest_update_imports_cell('from pathlib import Path\\nfrom sklearn.ensemble import GradientBoostingClassifier\\nfrom sklearn.ensemble import RandomForestClassifier\\nimport seaborn as sns\\nfrom sklearn.ensemble import GradientBoostingRegressor\\nfrom sklearn.ensemble import RandomForestRegressor\\nimport matplotlib.pyplot as plt'); }\n",
       "    "
      ],
      "text/plain": [
       "<IPython.core.display.Javascript object>"
      ]
     },
     "metadata": {},
     "output_type": "display_data"
    },
    {
     "data": {
      "image/png": "[encoded data removed]",
      "text/plain": [
       "<Figure size 1080x360 with 2 Axes>"
      ]
     },
     "metadata": {
      "needs_background": "light"
     },
     "output_type": "display_data"
    }
   ],
   "source": [
    "fig, (ax1, ax2) = plt.subplots(1,2,figsize=(15,5))\n",
    "\n",
    "\n",
    "sns.lineplot(x = list(range(len(cudnn_training_loss))),\n",
    "             y = cudnn_training_loss, color = 'purple', alpha = 0.6, label='training', ax = ax1)\n",
    "sns.lineplot(x = list(range(len(cudnn_val_loss))),\n",
    "             y = cudnn_val_loss, color = 'green', alpha = 0.6, linestyle = 'dashed', label = 'validation', ax = ax1)\n",
    "sns.lineplot(x = list(range(len(cudnn_training_loss))),\n",
    "             y = cudnn_training_accuracy, color='r', alpha = 0.6, label='training',ax = ax2)\n",
    "sns.lineplot(x = list(range(len(cudnn_val_loss))),\n",
    "             y = cudnn_val_accuracy, color = 'b', alpha = 0.6, linestyle = 'dashed', label = 'validation',ax = ax2)\n",
    "# plt.savefig('img/cudnn_loss_acc')\n",
    "ax1.legend();"
   ]
  },
  {
   "cell_type": "code",
   "execution_count": null,
   "id": "a50b6d3c",
   "metadata": {},
   "outputs": [],
   "source": []
  }
 ],
 "metadata": {
  "kernelspec": {
   "display_name": "Python 3",
   "language": "python",
   "name": "python3"
  },
  "language_info": {
   "codemirror_mode": {
    "name": "ipython",
    "version": 3
   },
   "file_extension": ".py",
   "mimetype": "text/x-python",
   "name": "python",
   "nbconvert_exporter": "python",
   "pygments_lexer": "ipython3",
   "version": "3.8.5"
  },
  "toc": {
   "base_numbering": 1,
   "nav_menu": {},
   "number_sections": true,
   "sideBar": true,
   "skip_h1_title": false,
   "title_cell": "Table of Contents",
   "title_sidebar": "Contents",
   "toc_cell": false,
   "toc_position": {},
   "toc_section_display": true,
   "toc_window_display": false
  },
  "varInspector": {
   "cols": {
    "lenName": 16,
    "lenType": 16,
    "lenVar": 40
   },
   "kernels_config": {
    "python": {
     "delete_cmd_postfix": "",
     "delete_cmd_prefix": "del ",
     "library": "var_list.py",
     "varRefreshCmd": "print(var_dic_list())"
    },
    "r": {
     "delete_cmd_postfix": ") ",
     "delete_cmd_prefix": "rm(",
     "library": "var_list.r",
     "varRefreshCmd": "cat(var_dic_list()) "
    }
   },
   "types_to_exclude": [
    "module",
    "function",
    "builtin_function_or_method",
    "instance",
    "_Feature"
   ],
   "window_display": false
  }
 },
 "nbformat": 4,
 "nbformat_minor": 5
}
