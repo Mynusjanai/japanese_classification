{
 "cells": [
  {
   "cell_type": "code",
   "execution_count": 4,
   "id": "bba818f2",
   "metadata": {
    "ExecuteTime": {
     "end_time": "2021-05-10T18:50:03.525335Z",
     "start_time": "2021-05-10T18:50:03.514590Z"
    }
   },
   "outputs": [
    {
     "name": "stdout",
     "output_type": "stream",
     "text": [
      "The tensorboard extension is already loaded. To reload it, use:\n",
      "  %reload_ext tensorboard\n"
     ]
    }
   ],
   "source": [
    "from sklearn.ensemble import RandomForestRegressor\n",
    "from sklearn.ensemble import RandomForestClassifier\n",
    "import seaborn as sns\n",
    "from sklearn.ensemble import GradientBoostingClassifier\n",
    "from sklearn.ensemble import GradientBoostingRegressor\n",
    "import matplotlib.pyplot as plt\n",
    "from pathlib import Path\n",
    "# ^^^ pyforest auto-imports - don't write above this line\n",
    "import pyforest\n",
    "import struct\n",
    "import skimage.transform\n",
    "import tensorflow as tf\n",
    "import datetime\n",
    "import numpy as np\n",
    "\n",
    "\n",
    "# Dependency imports\n",
    "from tensorflow.keras import datasets, layers, models\n",
    "from tensorflow.keras import backend as K\n",
    "from tensorflow.keras.regularizers import l2\n",
    "from tensorflow.keras.optimizers import SGD\n",
    "from tensorflow.keras.wrappers import scikit_learn\n",
    "from tensorflow.keras.callbacks import EarlyStopping, ReduceLROnPlateau\n",
    "from tensorflow.keras.preprocessing.image import ImageDataGenerator\n",
    "from tensorflow.keras.layers import Dense, Dropout, Activation, Flatten\n",
    "from PIL import Image\n",
    "from sklearn.metrics import confusion_matrix\n",
    "from sklearn.model_selection import train_test_split, cross_val_score\n",
    "from sklearn.preprocessing import OneHotEncoder\n",
    "\n",
    "# Notebook Extentions\n",
    "%load_ext tensorboard"
   ]
  },
  {
   "cell_type": "code",
   "execution_count": 5,
   "id": "bf52910b",
   "metadata": {
    "ExecuteTime": {
     "end_time": "2021-05-10T18:50:12.749173Z",
     "start_time": "2021-05-10T18:50:12.744296Z"
    }
   },
   "outputs": [
    {
     "name": "stdout",
     "output_type": "stream",
     "text": [
      "1.20.1\n"
     ]
    }
   ],
   "source": [
    "print(np.__version__)"
   ]
  },
  {
   "cell_type": "markdown",
   "id": "fea756c5",
   "metadata": {},
   "source": [
    "# CNN Model"
   ]
  },
  {
   "cell_type": "markdown",
   "id": "140e7456",
   "metadata": {},
   "source": [
    "### CNN Model Prep"
   ]
  },
  {
   "cell_type": "code",
   "execution_count": 2,
   "id": "bff0247d",
   "metadata": {
    "ExecuteTime": {
     "end_time": "2021-05-05T19:19:30.167746Z",
     "start_time": "2021-05-05T19:19:19.952701Z"
    }
   },
   "outputs": [],
   "source": [
    "X_train = np.load('data/japanese_X_train.npz')['arr_0']\n",
    "X_val = np.load('data/japanese_X_validation.npz')['arr_0']\n",
    "y_train = np.load('data/japanese_y_train.npz')['arr_0']\n",
    "y_val = np.load('data/japanese_y_validation.npz')['arr_0']"
   ]
  },
  {
   "cell_type": "code",
   "execution_count": 3,
   "id": "d22a4a19",
   "metadata": {
    "ExecuteTime": {
     "end_time": "2021-05-05T19:19:31.614236Z",
     "start_time": "2021-05-05T19:19:31.610343Z"
    }
   },
   "outputs": [],
   "source": [
    "# Image dimensions\n",
    "img_row, img_col = 64, 64\n",
    "\n",
    "# Classes\n",
    "japanese_class = 3"
   ]
  },
  {
   "cell_type": "code",
   "execution_count": 4,
   "id": "250ab02b",
   "metadata": {
    "ExecuteTime": {
     "end_time": "2021-05-05T19:19:32.070317Z",
     "start_time": "2021-05-05T19:19:32.062487Z"
    }
   },
   "outputs": [],
   "source": [
    "# Default shape for CNN is 'channels_last', this makes sure everything is in the right order\n",
    "\n",
    "if K.image_data_format() == 'channels_first':\n",
    "    japanese_X_train = X_train.reshape(X_train.shape[0], 1, img_row, img_col)\n",
    "    japanese_X_val = X_val.reshape(X_val.shape[0], 1, img_row, img_col)\n",
    "    japanese_shape = (1, img_row, img_col) \n",
    "else:\n",
    "    japanese_X_train = X_train.reshape(X_train.shape[0], img_row, img_col, 1)\n",
    "    japanese_X_val = X_val.reshape(X_val.shape[0], img_row, img_col, 1)\n",
    "    japanese_shape = (img_row, img_col, 1)"
   ]
  },
  {
   "cell_type": "code",
   "execution_count": 5,
   "id": "2d6d92b2",
   "metadata": {
    "ExecuteTime": {
     "end_time": "2021-05-05T19:19:32.988240Z",
     "start_time": "2021-05-05T19:19:32.740217Z"
    }
   },
   "outputs": [],
   "source": [
    "cnn_model = models.Sequential()\n",
    "\n",
    "cnn_model.add(layers.Conv2D(32, (3, 3), activation = 'relu', padding = 'same', input_shape = japanese_shape, data_format = 'channels_last'))\n",
    "cnn_model.add(layers.MaxPooling2D((2, 2)))\n",
    "cnn_model.add(layers.Conv2D(32, (3, 3), activation = 'relu', padding = 'same'))\n",
    "cnn_model.add(Dropout(0.2))\n",
    "\n",
    "cnn_model.add(layers.Conv2D(64, (3, 3), activation = 'relu', padding = 'same'))\n",
    "cnn_model.add(layers.MaxPooling2D((2, 2)))\n",
    "cnn_model.add(layers.Conv2D(128, (3, 3), activation = 'relu', padding = 'same'))\n",
    "cnn_model.add(Dropout(0.2))\n",
    "\n",
    "cnn_model.add(Flatten())\n",
    "cnn_model.add(Dense(256, activation = 'relu'))\n",
    "cnn_model.add(Dropout(0.2))\n",
    "cnn_model.add(Dense(japanese_class, activation = 'softmax'))"
   ]
  },
  {
   "cell_type": "code",
   "execution_count": 6,
   "id": "ab893884",
   "metadata": {
    "ExecuteTime": {
     "end_time": "2021-05-05T19:19:33.400008Z",
     "start_time": "2021-05-05T19:19:33.390231Z"
    },
    "scrolled": true
   },
   "outputs": [
    {
     "name": "stdout",
     "output_type": "stream",
     "text": [
      "Model: \"sequential\"\n",
      "_________________________________________________________________\n",
      "Layer (type)                 Output Shape              Param #   \n",
      "=================================================================\n",
      "conv2d (Conv2D)              (None, 64, 64, 32)        320       \n",
      "_________________________________________________________________\n",
      "max_pooling2d (MaxPooling2D) (None, 32, 32, 32)        0         \n",
      "_________________________________________________________________\n",
      "conv2d_1 (Conv2D)            (None, 32, 32, 32)        9248      \n",
      "_________________________________________________________________\n",
      "dropout (Dropout)            (None, 32, 32, 32)        0         \n",
      "_________________________________________________________________\n",
      "conv2d_2 (Conv2D)            (None, 32, 32, 64)        18496     \n",
      "_________________________________________________________________\n",
      "max_pooling2d_1 (MaxPooling2 (None, 16, 16, 64)        0         \n",
      "_________________________________________________________________\n",
      "conv2d_3 (Conv2D)            (None, 16, 16, 128)       73856     \n",
      "_________________________________________________________________\n",
      "dropout_1 (Dropout)          (None, 16, 16, 128)       0         \n",
      "_________________________________________________________________\n",
      "flatten (Flatten)            (None, 32768)             0         \n",
      "_________________________________________________________________\n",
      "dense (Dense)                (None, 256)               8388864   \n",
      "_________________________________________________________________\n",
      "dropout_2 (Dropout)          (None, 256)               0         \n",
      "_________________________________________________________________\n",
      "dense_1 (Dense)              (None, 3)                 771       \n",
      "=================================================================\n",
      "Total params: 8,491,555\n",
      "Trainable params: 8,491,555\n",
      "Non-trainable params: 0\n",
      "_________________________________________________________________\n"
     ]
    }
   ],
   "source": [
    "cnn_model.summary()"
   ]
  },
  {
   "cell_type": "code",
   "execution_count": 7,
   "id": "df8dd9a6",
   "metadata": {
    "ExecuteTime": {
     "end_time": "2021-05-05T19:19:34.117742Z",
     "start_time": "2021-05-05T19:19:34.106991Z"
    }
   },
   "outputs": [],
   "source": [
    "# Callbacks\n",
    "japanese_es = EarlyStopping(patience = 5, verbose = 1, restore_best_weights = True)\n",
    "japanese_lr = ReduceLROnPlateau(factor = 0.5, patience = 3, verbose = 1)\n",
    "\n",
    "# Tensorboard Callback\n",
    "japanese_log_dir = 'logs/CNN/' + datetime.datetime.now().strftime('Y%m%d-%H%M%S')\n",
    "tensorboard_callback = tf.keras.callbacks.TensorBoard(log_dir = japanese_log_dir, histogram_freq = 1)"
   ]
  },
  {
   "cell_type": "markdown",
   "id": "52ebd888",
   "metadata": {
    "heading_collapsed": true
   },
   "source": [
    "### Adding Variation with ImageDataGenerator\n",
    "- Tensorflow's ImageDataGenerator can augment images to create new vesions of the data, essentially artificially inserting variation into the data\n",
    "- Images can be rotated, zoomed, and flipped\n",
    "- This variation is used to avoid overfitting on the training set\n",
    "- Following augmentation is for a 2D CNN"
   ]
  },
  {
   "cell_type": "code",
   "execution_count": 8,
   "id": "d25f6cb8",
   "metadata": {
    "ExecuteTime": {
     "end_time": "2021-05-05T19:19:35.464283Z",
     "start_time": "2021-05-05T19:19:35.458426Z"
    },
    "hidden": true
   },
   "outputs": [
    {
     "data": {
      "text/plain": [
       "(34552, 64, 64, 1)"
      ]
     },
     "execution_count": 8,
     "metadata": {},
     "output_type": "execute_result"
    }
   ],
   "source": [
    "japanese_X_val.shape"
   ]
  },
  {
   "cell_type": "code",
   "execution_count": 9,
   "id": "280fd25d",
   "metadata": {
    "ExecuteTime": {
     "end_time": "2021-05-05T19:19:35.840265Z",
     "start_time": "2021-05-05T19:19:35.833414Z"
    },
    "hidden": true
   },
   "outputs": [
    {
     "data": {
      "text/plain": [
       "(138204, 64, 64, 1)"
      ]
     },
     "execution_count": 9,
     "metadata": {},
     "output_type": "execute_result"
    }
   ],
   "source": [
    "japanese_X_train.shape"
   ]
  },
  {
   "cell_type": "code",
   "execution_count": 10,
   "id": "56fce221",
   "metadata": {
    "ExecuteTime": {
     "end_time": "2021-05-05T19:19:36.259197Z",
     "start_time": "2021-05-05T19:19:36.253341Z"
    },
    "hidden": true
   },
   "outputs": [
    {
     "data": {
      "text/plain": [
       "(34552, 3)"
      ]
     },
     "execution_count": 10,
     "metadata": {},
     "output_type": "execute_result"
    }
   ],
   "source": [
    "y_val.shape"
   ]
  },
  {
   "cell_type": "markdown",
   "id": "742d1530",
   "metadata": {},
   "source": [
    "### CNN Model Run"
   ]
  },
  {
   "cell_type": "code",
   "execution_count": 11,
   "id": "295597ae",
   "metadata": {
    "ExecuteTime": {
     "end_time": "2021-05-05T21:59:28.588367Z",
     "start_time": "2021-05-05T19:19:56.687503Z"
    },
    "collapsed": true
   },
   "outputs": [
    {
     "name": "stdout",
     "output_type": "stream",
     "text": [
      "Epoch 1/30\n",
      "   1/4319 [..............................] - ETA: 0s - loss: 1.1000 - accuracy: 0.2188WARNING:tensorflow:From C:\\Users\\Administrator\\anaconda3\\envs\\tf_gpu\\lib\\site-packages\\tensorflow\\python\\ops\\summary_ops_v2.py:1277: stop (from tensorflow.python.eager.profiler) is deprecated and will be removed after 2020-07-01.\n",
      "Instructions for updating:\n",
      "use `tf.profiler.experimental.stop` instead.\n",
      "4319/4319 [==============================] - 1081s 250ms/step - loss: 0.0660 - accuracy: 0.9755 - val_loss: 0.0239 - val_accuracy: 0.9915\n",
      "Epoch 2/30\n",
      "4319/4319 [==============================] - 1062s 246ms/step - loss: 0.0337 - accuracy: 0.9885 - val_loss: 0.0154 - val_accuracy: 0.9947\n",
      "Epoch 3/30\n",
      "4319/4319 [==============================] - 1052s 244ms/step - loss: 0.0238 - accuracy: 0.9919 - val_loss: 0.0118 - val_accuracy: 0.9961\n",
      "Epoch 4/30\n",
      "4319/4319 [==============================] - 1054s 244ms/step - loss: 0.0196 - accuracy: 0.9937 - val_loss: 0.0088 - val_accuracy: 0.9972\n",
      "Epoch 5/30\n",
      "4319/4319 [==============================] - 1059s 245ms/step - loss: 0.0164 - accuracy: 0.9945 - val_loss: 0.0126 - val_accuracy: 0.9957\n",
      "Epoch 6/30\n",
      "4319/4319 [==============================] - 1069s 248ms/step - loss: 0.0148 - accuracy: 0.9953 - val_loss: 0.0094 - val_accuracy: 0.9973\n",
      "Epoch 7/30\n",
      "4319/4319 [==============================] - ETA: 0s - loss: 0.0138 - accuracy: 0.9955\n",
      "Epoch 00007: ReduceLROnPlateau reducing learning rate to 0.0005000000237487257.\n",
      "4319/4319 [==============================] - 1061s 246ms/step - loss: 0.0138 - accuracy: 0.9955 - val_loss: 0.0139 - val_accuracy: 0.9969\n",
      "Epoch 8/30\n",
      "4319/4319 [==============================] - 1060s 245ms/step - loss: 0.0076 - accuracy: 0.9977 - val_loss: 0.0143 - val_accuracy: 0.9965\n",
      "Epoch 9/30\n",
      "4319/4319 [==============================] - ETA: 0s - loss: 0.0068 - accuracy: 0.9979Restoring model weights from the end of the best epoch.\n",
      "4319/4319 [==============================] - 1070s 248ms/step - loss: 0.0068 - accuracy: 0.9979 - val_loss: 0.0320 - val_accuracy: 0.9940\n",
      "Epoch 00009: early stopping\n"
     ]
    }
   ],
   "source": [
    "datagen = ImageDataGenerator(rotation_range=15, zoom_range=0.2)\n",
    "datagen.fit(japanese_X_train)\n",
    "\n",
    "cnn_model.compile(loss = 'categorical_crossentropy', optimizer = 'adam', metrics = ['accuracy'])\n",
    "\n",
    "cnn_results = cnn_model.fit(datagen.flow(japanese_X_train, y_train, batch_size = 32),\n",
    "          epochs = 30, callbacks = (japanese_es, japanese_lr, tensorboard_callback), validation_data = (japanese_X_val, y_val))"
   ]
  },
  {
   "cell_type": "code",
   "execution_count": 12,
   "id": "e89a9c67",
   "metadata": {
    "ExecuteTime": {
     "end_time": "2021-05-05T23:07:14.234360Z",
     "start_time": "2021-05-05T23:07:13.710937Z"
    }
   },
   "outputs": [],
   "source": [
    "cnn_model.save('models/cnn_model.h5')"
   ]
  },
  {
   "cell_type": "markdown",
   "id": "7f184039",
   "metadata": {
    "heading_collapsed": true
   },
   "source": [
    "### CNN Model Evaluation"
   ]
  },
  {
   "cell_type": "code",
   "execution_count": 13,
   "id": "91a8c9c3",
   "metadata": {
    "ExecuteTime": {
     "end_time": "2021-05-05T23:09:38.761463Z",
     "start_time": "2021-05-05T23:09:38.756581Z"
    },
    "hidden": true
   },
   "outputs": [],
   "source": [
    "cnn_history = cnn_results.history\n",
    "cnn_training_loss = cnn_history['loss']\n",
    "cnn_val_loss = cnn_history['val_loss']\n",
    "cnn_training_accuracy = cnn_history['accuracy']\n",
    "cnn_val_accuracy = cnn_history['val_accuracy']"
   ]
  },
  {
   "cell_type": "code",
   "execution_count": 15,
   "id": "742c51fb",
   "metadata": {
    "ExecuteTime": {
     "end_time": "2021-05-05T23:15:07.148595Z",
     "start_time": "2021-05-05T23:15:05.952316Z"
    },
    "hidden": true
   },
   "outputs": [
    {
     "data": {
      "application/javascript": [
       "\n",
       "        if (window._pyforest_update_imports_cell) { window._pyforest_update_imports_cell('from sklearn.ensemble import RandomForestRegressor\\nfrom sklearn.ensemble import RandomForestClassifier\\nfrom sklearn.ensemble import GradientBoostingClassifier\\nfrom sklearn.ensemble import GradientBoostingRegressor\\nimport matplotlib.pyplot as plt\\nfrom pathlib import Path'); }\n",
       "    "
      ],
      "text/plain": [
       "<IPython.core.display.Javascript object>"
      ]
     },
     "metadata": {},
     "output_type": "display_data"
    },
    {
     "data": {
      "application/javascript": [
       "\n",
       "        if (window._pyforest_update_imports_cell) { window._pyforest_update_imports_cell('from sklearn.ensemble import RandomForestRegressor\\nfrom sklearn.ensemble import RandomForestClassifier\\nimport seaborn as sns\\nfrom sklearn.ensemble import GradientBoostingClassifier\\nfrom sklearn.ensemble import GradientBoostingRegressor\\nimport matplotlib.pyplot as plt\\nfrom pathlib import Path'); }\n",
       "    "
      ],
      "text/plain": [
       "<IPython.core.display.Javascript object>"
      ]
     },
     "metadata": {},
     "output_type": "display_data"
    },
    {
     "data": {
      "application/javascript": [
       "\n",
       "        if (window._pyforest_update_imports_cell) { window._pyforest_update_imports_cell('from sklearn.ensemble import RandomForestRegressor\\nfrom sklearn.ensemble import RandomForestClassifier\\nimport seaborn as sns\\nfrom sklearn.ensemble import GradientBoostingClassifier\\nfrom sklearn.ensemble import GradientBoostingRegressor\\nimport matplotlib.pyplot as plt\\nfrom pathlib import Path'); }\n",
       "    "
      ],
      "text/plain": [
       "<IPython.core.display.Javascript object>"
      ]
     },
     "metadata": {},
     "output_type": "display_data"
    },
    {
     "data": {
      "application/javascript": [
       "\n",
       "        if (window._pyforest_update_imports_cell) { window._pyforest_update_imports_cell('from sklearn.ensemble import RandomForestRegressor\\nfrom sklearn.ensemble import RandomForestClassifier\\nimport seaborn as sns\\nfrom sklearn.ensemble import GradientBoostingClassifier\\nfrom sklearn.ensemble import GradientBoostingRegressor\\nimport matplotlib.pyplot as plt\\nfrom pathlib import Path'); }\n",
       "    "
      ],
      "text/plain": [
       "<IPython.core.display.Javascript object>"
      ]
     },
     "metadata": {},
     "output_type": "display_data"
    },
    {
     "data": {
      "application/javascript": [
       "\n",
       "        if (window._pyforest_update_imports_cell) { window._pyforest_update_imports_cell('from sklearn.ensemble import RandomForestRegressor\\nfrom sklearn.ensemble import RandomForestClassifier\\nimport seaborn as sns\\nfrom sklearn.ensemble import GradientBoostingClassifier\\nfrom sklearn.ensemble import GradientBoostingRegressor\\nimport matplotlib.pyplot as plt\\nfrom pathlib import Path'); }\n",
       "    "
      ],
      "text/plain": [
       "<IPython.core.display.Javascript object>"
      ]
     },
     "metadata": {},
     "output_type": "display_data"
    },
    {
     "data": {
      "application/javascript": [
       "\n",
       "        if (window._pyforest_update_imports_cell) { window._pyforest_update_imports_cell('from sklearn.ensemble import RandomForestRegressor\\nfrom sklearn.ensemble import RandomForestClassifier\\nimport seaborn as sns\\nfrom sklearn.ensemble import GradientBoostingClassifier\\nfrom sklearn.ensemble import GradientBoostingRegressor\\nimport matplotlib.pyplot as plt\\nfrom pathlib import Path'); }\n",
       "    "
      ],
      "text/plain": [
       "<IPython.core.display.Javascript object>"
      ]
     },
     "metadata": {},
     "output_type": "display_data"
    },
    {
     "data": {
      "image/png": "[encoded data removed]",
      "text/plain": [
       "<Figure size 1080x360 with 2 Axes>"
      ]
     },
     "metadata": {
      "needs_background": "light"
     },
     "output_type": "display_data"
    }
   ],
   "source": [
    "fig, (ax1, ax2) = plt.subplots(1,2,figsize=(15,5))\n",
    "\n",
    "\n",
    "sns.lineplot(x = list(range(len(cnn_training_loss))),\n",
    "             y = cnn_training_loss, color = 'purple', alpha = 0.6, label='training', ax = ax1)\n",
    "sns.lineplot(x = list(range(len(cnn_val_loss))),\n",
    "             y = cnn_val_loss, color = 'green', alpha = 0.6, linestyle = 'dashed', label = 'validation', ax = ax1)\n",
    "sns.lineplot(x = list(range(len(cnn_training_loss))),\n",
    "             y = cnn_training_accuracy, color='r', alpha = 0.6, label='training',ax = ax2)\n",
    "sns.lineplot(x = list(range(len(cnn_val_loss))),\n",
    "             y = cnn_val_accuracy, color = 'b', alpha = 0.6, linestyle = 'dashed', label = 'validation',ax = ax2)\n",
    "plt.savefig('img/cnn_loss_acc')\n",
    "ax1.legend();"
   ]
  },
  {
   "cell_type": "code",
   "execution_count": null,
   "id": "d4c651bd",
   "metadata": {
    "hidden": true
   },
   "outputs": [],
   "source": []
  }
 ],
 "metadata": {
  "kernelspec": {
   "display_name": "Python 3",
   "language": "python",
   "name": "python3"
  },
  "language_info": {
   "codemirror_mode": {
    "name": "ipython",
    "version": 3
   },
   "file_extension": ".py",
   "mimetype": "text/x-python",
   "name": "python",
   "nbconvert_exporter": "python",
   "pygments_lexer": "ipython3",
   "version": "3.8.8"
  },
  "toc": {
   "base_numbering": 1,
   "nav_menu": {},
   "number_sections": true,
   "sideBar": true,
   "skip_h1_title": false,
   "title_cell": "Table of Contents",
   "title_sidebar": "Contents",
   "toc_cell": false,
   "toc_position": {},
   "toc_section_display": true,
   "toc_window_display": false
  },
  "varInspector": {
   "cols": {
    "lenName": 16,
    "lenType": 16,
    "lenVar": 40
   },
   "kernels_config": {
    "python": {
     "delete_cmd_postfix": "",
     "delete_cmd_prefix": "del ",
     "library": "var_list.py",
     "varRefreshCmd": "print(var_dic_list())"
    },
    "r": {
     "delete_cmd_postfix": ") ",
     "delete_cmd_prefix": "rm(",
     "library": "var_list.r",
     "varRefreshCmd": "cat(var_dic_list()) "
    }
   },
   "types_to_exclude": [
    "module",
    "function",
    "builtin_function_or_method",
    "instance",
    "_Feature"
   ],
   "window_display": false
  }
 },
 "nbformat": 4,
 "nbformat_minor": 5
}
