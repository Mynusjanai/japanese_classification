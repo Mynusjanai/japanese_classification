{
 "cells": [
  {
   "cell_type": "code",
   "execution_count": 2,
   "id": "extraordinary-freeware",
   "metadata": {
    "ExecuteTime": {
     "end_time": "2021-05-12T15:32:49.869904Z",
     "start_time": "2021-05-12T15:32:48.561418Z"
    }
   },
   "outputs": [],
   "source": [
    "import pandas as pd\n",
    "# ^^^ pyforest auto-imports - don't write above this line\n",
    "import pyforest\n",
    "import struct\n",
    "import skimage.transform\n",
    "import tensorflow as tf\n",
    "import datetime\n",
    "import warnings\n",
    "import pickle\n",
    "\n",
    "# Dependency imports\n",
    "from collections import Counter\n",
    "from PIL import Image\n",
    "from imblearn.over_sampling import SMOTE\n",
    "from sklearn.preprocessing import OneHotEncoder, StandardScaler, MinMaxScaler\n",
    "from sklearn.tree import DecisionTreeClassifier\n",
    "from sklearn.ensemble import BaggingClassifier, RandomForestClassifier,\\\n",
    "ExtraTreesClassifier, VotingClassifier\n",
    "from sklearn.model_selection import train_test_split, KFold, GridSearchCV,\\\n",
    "cross_val_score, RandomizedSearchCV\n",
    "from sklearn.metrics import f1_score, confusion_matrix,\\\n",
    "recall_score, precision_score, accuracy_score, log_loss,\\\n",
    "roc_curve, roc_auc_score, classification_report\n",
    "\n",
    "\n",
    "# Notebook Extentions\n",
    "%load_ext tensorboard\n",
    "%matplotlib inline\n",
    "\n",
    "warnings.filterwarnings('ignore')\n",
    "pd.options.display.max_columns = 100"
   ]
  },
  {
   "cell_type": "code",
   "execution_count": 3,
   "id": "handy-agriculture",
   "metadata": {
    "ExecuteTime": {
     "end_time": "2021-05-12T15:33:01.973294Z",
     "start_time": "2021-05-12T15:32:52.020463Z"
    }
   },
   "outputs": [],
   "source": [
    "X_train = np.load('../data/japanese_X_train.npz')['arr_0']\n",
    "X_val = np.load('../data/japanese_X_validation.npz')['arr_0']\n",
    "y_train = np.load('../data/japanese_y_train.npz')['arr_0']\n",
    "y_val = np.load('../data/japanese_y_validation.npz')['arr_0']"
   ]
  },
  {
   "cell_type": "code",
   "execution_count": 4,
   "id": "numeric-membrane",
   "metadata": {
    "ExecuteTime": {
     "end_time": "2021-05-12T15:34:01.800738Z",
     "start_time": "2021-05-12T15:34:01.788772Z"
    }
   },
   "outputs": [],
   "source": [
    "# Adjusting image dimensions\n",
    "train_samples, train_sample_X, train_sample_y = X_train.shape\n",
    "X_train = X_train.reshape((train_samples, train_sample_X * train_sample_y))\n",
    "\n",
    "val_samples, val_sample_X, val_sample_y = X_val.shape\n",
    "X_val = X_val.reshape((val_samples, val_sample_X * val_sample_y))"
   ]
  },
  {
   "cell_type": "code",
   "execution_count": 5,
   "id": "rising-trigger",
   "metadata": {
    "ExecuteTime": {
     "end_time": "2021-05-12T15:39:47.734584Z",
     "start_time": "2021-05-12T15:34:03.705311Z"
    }
   },
   "outputs": [
    {
     "data": {
      "text/plain": [
       "RandomForestClassifier(class_weight='balanced', max_depth=32,\n",
       "                       min_samples_split=5, random_state=42)"
      ]
     },
     "execution_count": 5,
     "metadata": {},
     "output_type": "execute_result"
    }
   ],
   "source": [
    "random_forest = RandomForestClassifier(n_estimators = 100, max_depth = 32, random_state = 42, min_samples_split = 5,\\\n",
    "                                       class_weight = 'balanced')\n",
    "\n",
    "random_forest.fit(X_train, y_train)"
   ]
  },
  {
   "cell_type": "code",
   "execution_count": 6,
   "id": "concrete-debate",
   "metadata": {
    "ExecuteTime": {
     "end_time": "2021-05-12T15:44:56.201454Z",
     "start_time": "2021-05-12T15:39:57.988523Z"
    }
   },
   "outputs": [
    {
     "data": {
      "text/plain": [
       "array([0.94501519, 0.93937202, 0.94428365, 0.94109986, 0.94269175])"
      ]
     },
     "execution_count": 6,
     "metadata": {},
     "output_type": "execute_result"
    }
   ],
   "source": [
    "cross_val_score(estimator = random_forest, X = X_val, y = y_val, cv = 5)"
   ]
  },
  {
   "cell_type": "code",
   "execution_count": 7,
   "id": "acute-migration",
   "metadata": {
    "ExecuteTime": {
     "end_time": "2021-05-12T15:46:04.883393Z",
     "start_time": "2021-05-12T15:46:04.663236Z"
    }
   },
   "outputs": [],
   "source": [
    "# pickle_out = open('../models/random_forest.pickle','wb')\n",
    "# pickle.dump(random_forest, pickle_out)\n",
    "# pickle_out.close()"
   ]
  }
 ],
 "metadata": {
  "kernelspec": {
   "display_name": "Python 3",
   "language": "python",
   "name": "python3"
  },
  "language_info": {
   "codemirror_mode": {
    "name": "ipython",
    "version": 3
   },
   "file_extension": ".py",
   "mimetype": "text/x-python",
   "name": "python",
   "nbconvert_exporter": "python",
   "pygments_lexer": "ipython3",
   "version": "3.8.5"
  },
  "toc": {
   "base_numbering": 1,
   "nav_menu": {},
   "number_sections": true,
   "sideBar": true,
   "skip_h1_title": false,
   "title_cell": "Table of Contents",
   "title_sidebar": "Contents",
   "toc_cell": false,
   "toc_position": {},
   "toc_section_display": true,
   "toc_window_display": false
  },
  "varInspector": {
   "cols": {
    "lenName": 16,
    "lenType": 16,
    "lenVar": 40
   },
   "kernels_config": {
    "python": {
     "delete_cmd_postfix": "",
     "delete_cmd_prefix": "del ",
     "library": "var_list.py",
     "varRefreshCmd": "print(var_dic_list())"
    },
    "r": {
     "delete_cmd_postfix": ") ",
     "delete_cmd_prefix": "rm(",
     "library": "var_list.r",
     "varRefreshCmd": "cat(var_dic_list()) "
    }
   },
   "types_to_exclude": [
    "module",
    "function",
    "builtin_function_or_method",
    "instance",
    "_Feature"
   ],
   "window_display": false
  }
 },
 "nbformat": 4,
 "nbformat_minor": 5
}
