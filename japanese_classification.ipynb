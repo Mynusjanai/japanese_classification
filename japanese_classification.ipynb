{
 "cells": [
  {
   "cell_type": "code",
   "execution_count": 1,
   "id": "c0c9b140",
   "metadata": {
    "ExecuteTime": {
     "end_time": "2021-05-03T20:35:03.028863Z",
     "start_time": "2021-05-03T20:34:59.896847Z"
    }
   },
   "outputs": [],
   "source": [
    "import numpy as np\n",
    "# ^^^ pyforest auto-imports - don't write above this line\n",
    "import pyforest\n",
    "import struct\n",
    "import skimage.transform\n",
    "import tensorflow as tf\n",
    "import datetime\n",
    "\n",
    "# Dependency imports\n",
    "from tensorflow.keras import datasets, layers, models\n",
    "from tensorflow.keras import backend as K\n",
    "from tensorflow.keras.regularizers import l2\n",
    "from tensorflow.keras.optimizers import SGD\n",
    "from tensorflow.keras.wrappers import scikit_learn\n",
    "from tensorflow.keras.callbacks import EarlyStopping, ReduceLROnPlateau\n",
    "from tensorflow.keras.preprocessing.image import ImageDataGenerator\n",
    "from tensorflow.keras.layers import Dense, Dropout, Activation, Flatten\n",
    "from PIL import Image\n",
    "from sklearn.metrics import confusion_matrix\n",
    "from sklearn.model_selection import train_test_split, cross_val_score\n",
    "from sklearn.preprocessing import OneHotEncoder\n",
    "\n",
    "# Notebook Extentions\n",
    "%load_ext tensorboard"
   ]
  },
  {
   "cell_type": "markdown",
   "id": "f560d4d6",
   "metadata": {},
   "source": [
    "# Japanese Language Classification"
   ]
  },
  {
   "cell_type": "markdown",
   "id": "57204c88",
   "metadata": {},
   "source": [
    "![title_banner](img/title_banner.jpg)"
   ]
  },
  {
   "cell_type": "markdown",
   "id": "c9e590b2",
   "metadata": {},
   "source": [
    "## Agenda"
   ]
  },
  {
   "cell_type": "markdown",
   "id": "6a7f16f0",
   "metadata": {},
   "source": [
    "- This project is designed to take image recognition of Japanese characters, and create a learning model that can classify the characters based on the read input.\n",
    "- Using the three main Japanese language writing systems (Kanji, Hiragana, Katakana), as well as the linguistically depreciated writing system of kuzushiji - used in Japan for over a thousand years since the 8th century.\n",
    "- The data is from the ETL Character Database, which includes over a billion total of Japanese characters hand-written and reorganized by the National Institute of Advanced Industrial Science and Technology (AIST)."
   ]
  },
  {
   "cell_type": "markdown",
   "id": "c1dce2cc",
   "metadata": {},
   "source": [
    "### The Writing Systems of Japan"
   ]
  },
  {
   "cell_type": "markdown",
   "id": "b9f73357",
   "metadata": {},
   "source": [
    "- **Kanji:**\n",
    "    - Kanji entered Japan in the 8th century via Chinese monks who also brought other traditions with them such as tea and Buddhism. Kanji is based on comparable Chinese characters that convey meaning from pictographic images.<br><br>\n",
    "\n",
    "- **Hiragana:**\n",
    "    - Phonetic writing system taking the mostly curviture root aspects of some kanji characters to represent a phonetic representation of sounds. There are 46 individual hiragana characters used today (alongside 29 diphthongs).<br><br>\n",
    "\n",
    "- **Katakana:**\n",
    "    - Much like hiragana, katakana is phonetically identical to hiragana. Katakana takes the angular aspects of some kanji characters and is mainly used for foreign words, onamatepeia, and sounds. Katakana contains the same amound of phonetic characters as hiragana.<br><br>\n",
    "\n",
    "- **Kuzushiji:**\n",
    "    - A cursive writing style, over 3 million books, on a diverse array of topics such as literature, science, mathematics and cooking written in kuzushiji are preserved today. However, the standardization of Japanese textbooks known as the “Elementary School Order” in 1900, removed Kuzushiji from regular school curriculum, as modern japanese print became popular. As a result, most Japanese natives today cannot read books written or printed in kuzushiji just 120 years ago."
   ]
  },
  {
   "cell_type": "markdown",
   "id": "f7fa9ee5",
   "metadata": {},
   "source": [
    "## Data"
   ]
  },
  {
   "cell_type": "markdown",
   "id": "7cd05476",
   "metadata": {},
   "source": [
    "### Data Information"
   ]
  },
  {
   "cell_type": "markdown",
   "id": "75bc8a53",
   "metadata": {},
   "source": [
    "- Each file contains 5 data sets except ETL8G_33.\n",
    "- Each data set contains 956 characters written by a writer.\n",
    "- Each writer wrote 10 sheets (genkouyoushi) per data set."
   ]
  },
  {
   "cell_type": "markdown",
   "id": "bca660c9",
   "metadata": {},
   "source": [
    "### Japanese Character Dataset Information"
   ]
  },
  {
   "cell_type": "markdown",
   "id": "fe87b462",
   "metadata": {},
   "source": [
    "- **Hiragana (ETL 8):**\n",
    "    - 71 hiragana characters (46 unique + 29 diphthongs)\n",
    "    - 160 writers\n",
    "    - 8199 records (genkouyoushi sheets) \n",
    "    - 1,254,120,000 unique handwritten hiragana characters (shared with kanji chars in the same files)<br><br>\n",
    "    \n",
    "- **Kanji (ETL 8):**\n",
    "    - 883 daily use kanji\n",
    "    - 160 writers\n",
    "    - 8199 records \n",
    "    - 152,878,411 unique handwritten kanji (shared with hiragana chars in the same files)<br><br>\n",
    "    \n",
    "- **Katakana (ETL 1):**\n",
    "    - 46 katakana characters (46 unique, dipthongs not included as they are phonetically identical to hiragana)\n",
    "    - 1411 writers\n",
    "    - 2052 records\n",
    "    - 2,436,366 unique handwritten katakana characters"
   ]
  },
  {
   "cell_type": "markdown",
   "id": "bbd5cef2",
   "metadata": {},
   "source": [
    "### Import & Read Hiragana"
   ]
  },
  {
   "cell_type": "code",
   "execution_count": 2,
   "id": "a2883d10",
   "metadata": {
    "ExecuteTime": {
     "end_time": "2021-05-03T20:36:30.275400Z",
     "start_time": "2021-05-03T20:36:30.267393Z"
    }
   },
   "outputs": [],
   "source": [
    "hira_kanji_record = 8199"
   ]
  },
  {
   "cell_type": "code",
   "execution_count": 3,
   "id": "7c483343",
   "metadata": {
    "ExecuteTime": {
     "end_time": "2021-05-03T20:36:30.761957Z",
     "start_time": "2021-05-03T20:36:30.750956Z"
    }
   },
   "outputs": [],
   "source": [
    "# Reading the Hiragana ETL8G File\n",
    "def read_ETL8G(f):\n",
    "    s = f.read(hira_kanji_record)\n",
    "    r = struct.unpack('>2H8sI4B4H2B30x8128s11x', s)\n",
    "    iF = Image.frombytes('F', (128, 127), r[14], 'bit', 4)\n",
    "    iL = iF.convert('L')\n",
    "    return r + (iL,)"
   ]
  },
  {
   "cell_type": "code",
   "execution_count": 4,
   "id": "52cb61d0",
   "metadata": {
    "ExecuteTime": {
     "end_time": "2021-05-03T20:36:31.306057Z",
     "start_time": "2021-05-03T20:36:31.286107Z"
    }
   },
   "outputs": [],
   "source": [
    "# Function to read the binary code present in each of the 33 files included in the ETL8G folder\n",
    "def read_hiragana():\n",
    "    # Characters = 71, writers = 160, y = 127, x = 128\n",
    "    hiragana = np.zeros([71, 160, 127, 128], dtype = np.uint8)\n",
    "\n",
    "    for j in range(1, 33):\n",
    "        filename = 'data/ETL8G/ETL8G_{:02d}'.format(j)\n",
    "        with open(filename, 'rb') as f:\n",
    "            for id_dataset in range(5):\n",
    "                moji = 0\n",
    "                for i in range(956):\n",
    "                    r = read_ETL8G(f)\n",
    "                    if b'.HIRA' in r[2] or b'.WO.' in r[2]:\n",
    "                        if not b'KAI' in r[2] and not b'HEI' in r[2]:\n",
    "                            hiragana[moji, (j - 1) * 5 + id_dataset] = np.array(r[-1])\n",
    "                            moji += 1\n",
    "    np.savez_compressed('data/hiragana.npz', hiragana)"
   ]
  },
  {
   "cell_type": "code",
   "execution_count": 5,
   "id": "2f84f05d",
   "metadata": {
    "ExecuteTime": {
     "end_time": "2021-05-03T20:36:35.310520Z",
     "start_time": "2021-05-03T20:36:35.300547Z"
    }
   },
   "outputs": [],
   "source": [
    "# Running the Function Above\n",
    "# read_hiragana()"
   ]
  },
  {
   "cell_type": "code",
   "execution_count": 6,
   "id": "308e9251",
   "metadata": {
    "ExecuteTime": {
     "end_time": "2021-05-03T20:36:36.340952Z",
     "start_time": "2021-05-03T20:36:35.886984Z"
    }
   },
   "outputs": [],
   "source": [
    "hiragana_data = np.load('data/hiragana.npz')\n",
    "hira_test = hiragana_data.f.arr_0"
   ]
  },
  {
   "cell_type": "code",
   "execution_count": 7,
   "id": "3b77e214",
   "metadata": {
    "ExecuteTime": {
     "end_time": "2021-05-03T20:36:37.133293Z",
     "start_time": "2021-05-03T20:36:37.117334Z"
    }
   },
   "outputs": [
    {
     "data": {
      "text/plain": [
       "(71, 160, 127, 128)"
      ]
     },
     "execution_count": 7,
     "metadata": {},
     "output_type": "execute_result"
    }
   ],
   "source": [
    "hira_test.shape"
   ]
  },
  {
   "cell_type": "markdown",
   "id": "0592d628",
   "metadata": {},
   "source": [
    "### Import & Read Kanji"
   ]
  },
  {
   "cell_type": "code",
   "execution_count": 8,
   "id": "adfbf098",
   "metadata": {
    "ExecuteTime": {
     "end_time": "2021-05-03T20:36:40.159471Z",
     "start_time": "2021-05-03T20:36:40.153487Z"
    }
   },
   "outputs": [],
   "source": [
    "def read_kanji():\n",
    "    # Characters = 883, writers = 160, y = 127, x = 128\n",
    "    kanji = np.zeros([883, 160, 127, 128], dtype=np.uint8)\n",
    "    for i in range(1, 33):\n",
    "        filename = 'data/ETL8G/ETL8G_{:02d}'.format(i)\n",
    "        with open(filename, 'rb') as f:\n",
    "            for dataset in range(5):\n",
    "                char = 0\n",
    "                for j in range(956):\n",
    "                    r = read_ETL8G(f)\n",
    "                    if not (b'.HIRA' in r[2] or b'.WO.' in r[2]): \n",
    "                        kanji[char, (i - 1) * 5 + dataset] = np.array(r[-1])\n",
    "                        char += 1\n",
    "    np.savez_compressed('data/kanji.npz', kanji)"
   ]
  },
  {
   "cell_type": "code",
   "execution_count": 9,
   "id": "c368f203",
   "metadata": {
    "ExecuteTime": {
     "end_time": "2021-05-03T20:36:40.794556Z",
     "start_time": "2021-05-03T20:36:40.777572Z"
    },
    "scrolled": true
   },
   "outputs": [],
   "source": [
    "# read_kanji()"
   ]
  },
  {
   "cell_type": "code",
   "execution_count": 10,
   "id": "9ccb6bb8",
   "metadata": {
    "ExecuteTime": {
     "end_time": "2021-05-03T20:36:47.375080Z",
     "start_time": "2021-05-03T20:36:41.243897Z"
    }
   },
   "outputs": [],
   "source": [
    "kanji_data = np.load('data/kanji.npz')\n",
    "kanji_test = kanji_data.f.arr_0"
   ]
  },
  {
   "cell_type": "code",
   "execution_count": 11,
   "id": "55343f91",
   "metadata": {
    "ExecuteTime": {
     "end_time": "2021-05-03T20:36:49.861707Z",
     "start_time": "2021-05-03T20:36:49.848741Z"
    }
   },
   "outputs": [
    {
     "data": {
      "text/plain": [
       "(883, 160, 127, 128)"
      ]
     },
     "execution_count": 11,
     "metadata": {},
     "output_type": "execute_result"
    }
   ],
   "source": [
    "kanji_test.shape"
   ]
  },
  {
   "cell_type": "markdown",
   "id": "5645ba60",
   "metadata": {},
   "source": [
    "### Import & Read Katakana"
   ]
  },
  {
   "cell_type": "code",
   "execution_count": 12,
   "id": "d0aba732",
   "metadata": {
    "ExecuteTime": {
     "end_time": "2021-05-03T20:36:52.996000Z",
     "start_time": "2021-05-03T20:36:52.979983Z"
    }
   },
   "outputs": [],
   "source": [
    "kana_record = 2052"
   ]
  },
  {
   "cell_type": "code",
   "execution_count": 13,
   "id": "92c70d2a",
   "metadata": {
    "ExecuteTime": {
     "end_time": "2021-05-03T20:36:53.443697Z",
     "start_time": "2021-05-03T20:36:53.425746Z"
    }
   },
   "outputs": [],
   "source": [
    "# Reading in the Katakana ETL1 File\n",
    "def read_ETL1(total_sheets, f):\n",
    "    s = f.read(kana_record)\n",
    "    r = struct.unpack('>H2sH6BI4H4B4x2016s4x', s)\n",
    "    iF = Image.frombytes('F', (64, 63), r[18], 'bit', 4)\n",
    "    iL = iF.convert('L')\n",
    "    return r + (iL,)"
   ]
  },
  {
   "cell_type": "code",
   "execution_count": 14,
   "id": "c231d2f3",
   "metadata": {
    "ExecuteTime": {
     "end_time": "2021-05-03T20:36:54.065204Z",
     "start_time": "2021-05-03T20:36:53.978437Z"
    }
   },
   "outputs": [],
   "source": [
    "def read_katakana():\n",
    "    # Character type = 46, writers = 1411, y = 63, x = 64\n",
    "    katakana = np.zeros([46, 1411, 63, 64], dtype=np.uint8)\n",
    "    counter = 0\n",
    "    moji = 0\n",
    "    for k in range(7, 14):\n",
    "        filename = 'data/ETL1/ETL1C_{:02d}'.format(k)\n",
    "        with open(filename, 'rb') as f:\n",
    "            total_sheets = 0\n",
    "            categories = 8\n",
    "            if k == 13:\n",
    "                categories = 3\n",
    "            for j in range(categories):\n",
    "                incrimenter = 0\n",
    "                person = 0\n",
    "                sheets = 1411\n",
    "                if k == 9 and j == 4:\n",
    "                    sheets = 1410\n",
    "                elif k == 12 and j == 1:\n",
    "                    sheets = 1410\n",
    "                for i in range(sheets):\n",
    "                    r = read_ETL1(total_sheets, f)\n",
    "                    total_sheets += sheets\n",
    "                    if k < 11 or (k >= 11 and b' I' not in r[1] and b' E' not in r[1] and b'WI' not in r[1] and b' U' not in r[1] and b'WE' not in r[1]):\n",
    "                        pixels = np.array(r[-1])\n",
    "                        for row in pixels:\n",
    "                            for i in range(len(row)):\n",
    "                                if row[i] == 1 or row[i] == 2:\n",
    "                                    row[i] = 0\n",
    "                        katakana[moji, person] = pixels\n",
    "                        incrimenter = 1\n",
    "                        person += 1\n",
    "                moji += incrimenter\n",
    "    np.savez_compressed('data/katakana.npz', katakana)"
   ]
  },
  {
   "cell_type": "code",
   "execution_count": 15,
   "id": "24c8761c",
   "metadata": {
    "ExecuteTime": {
     "end_time": "2021-05-03T20:36:55.810323Z",
     "start_time": "2021-05-03T20:36:55.804339Z"
    }
   },
   "outputs": [],
   "source": [
    "# read_katakana()"
   ]
  },
  {
   "cell_type": "code",
   "execution_count": 16,
   "id": "b8c16d49",
   "metadata": {
    "ExecuteTime": {
     "end_time": "2021-05-03T20:36:57.725876Z",
     "start_time": "2021-05-03T20:36:57.007023Z"
    }
   },
   "outputs": [],
   "source": [
    "katakana_data = np.load('data/katakana.npz')\n",
    "kana_test = katakana_data.f.arr_0"
   ]
  },
  {
   "cell_type": "code",
   "execution_count": 17,
   "id": "b42edbb7",
   "metadata": {
    "ExecuteTime": {
     "end_time": "2021-05-03T20:36:58.270987Z",
     "start_time": "2021-05-03T20:36:58.253007Z"
    }
   },
   "outputs": [
    {
     "data": {
      "text/plain": [
       "(46, 1411, 63, 64)"
      ]
     },
     "execution_count": 17,
     "metadata": {},
     "output_type": "execute_result"
    }
   ],
   "source": [
    "kana_test.shape"
   ]
  },
  {
   "cell_type": "markdown",
   "id": "06b4a3ed",
   "metadata": {},
   "source": [
    "## Visualizing Characters"
   ]
  },
  {
   "cell_type": "markdown",
   "id": "458dfc1e",
   "metadata": {},
   "source": [
    "### Visualizing Hiragana"
   ]
  },
  {
   "cell_type": "code",
   "execution_count": 18,
   "id": "411c2edf",
   "metadata": {
    "ExecuteTime": {
     "end_time": "2021-05-03T20:37:05.884581Z",
     "start_time": "2021-05-03T20:37:05.869622Z"
    }
   },
   "outputs": [],
   "source": [
    "# Visualizing Hiragana\n",
    "def visualize_hiragana():\n",
    "    for j in range(1, 2):\n",
    "        filename = 'data/ETL8G/ETL8G_{:02d}'.format(j)\n",
    "        with open(filename, 'rb') as f:\n",
    "            for id_dataset in range(1):\n",
    "                new_img = Image.new('L', (128*32, 128*30))\n",
    "                for i in range(956):\n",
    "                    r = read_ETL8G(f)\n",
    "                    if b'.HIRA' in r[2]:\n",
    "                        print(r[:4])"
   ]
  },
  {
   "cell_type": "code",
   "execution_count": 20,
   "id": "90e5c587",
   "metadata": {
    "ExecuteTime": {
     "end_time": "2021-05-03T20:37:12.560099Z",
     "start_time": "2021-05-03T20:37:12.428421Z"
    },
    "collapsed": true
   },
   "outputs": [
    {
     "name": "stdout",
     "output_type": "stream",
     "text": [
      "(1, 9250, b'A.HIRA  ', 1)\n",
      "(1, 9252, b'I.HIRA  ', 16)\n",
      "(1, 9254, b'U.HIRA  ', 31)\n",
      "(1, 9256, b'E.HIRA  ', 46)\n",
      "(1, 9258, b'O.HIRA  ', 61)\n",
      "(1, 9259, b'KA.HIRA ', 76)\n",
      "(1, 19007, b'HEI.HIRA', 83)\n",
      "(1, 9260, b'GA.HIRA ', 91)\n",
      "(2, 9261, b'KI.HIRA ', 1)\n",
      "(2, 9262, b'GI.HIRA ', 16)\n",
      "(2, 9263, b'KU.HIRA ', 31)\n",
      "(2, 9264, b'GU.HIRA ', 46)\n",
      "(2, 9265, b'KE.HIRA ', 61)\n",
      "(2, 9266, b'GE.HIRA ', 76)\n",
      "(2, 9267, b'KO.HIRA ', 91)\n",
      "(3, 9268, b'GO.HIRA ', 193)\n",
      "(3, 9269, b'SA.HIRA ', 208)\n",
      "(3, 9270, b'ZA.HIRA ', 223)\n",
      "(3, 9271, b'SHI.HIRA', 238)\n",
      "(3, 9272, b'JI.HIRA ', 253)\n",
      "(3, 9273, b'SU.HIRA ', 268)\n",
      "(3, 9274, b'ZU.HIRA ', 283)\n",
      "(4, 9275, b'SE.HIRA ', 289)\n",
      "(4, 9276, b'ZE.HIRA ', 304)\n",
      "(4, 9277, b'SO.HIRA ', 319)\n",
      "(4, 9278, b'ZO.HIRA ', 334)\n",
      "(4, 9279, b'TA.HIRA ', 349)\n",
      "(4, 9280, b'DA.HIRA ', 364)\n",
      "(4, 9281, b'CHI.HIRA', 378)\n",
      "(5, 9282, b'JI.HIRA ', 385)\n",
      "(5, 9284, b'TSU.HIRA', 400)\n",
      "(5, 9285, b'ZU.HIRA ', 415)\n",
      "(5, 9286, b'TE.HIRA ', 430)\n",
      "(5, 9287, b'DE.HIRA ', 445)\n",
      "(5, 9288, b'TO.HIRA ', 460)\n",
      "(5, 9289, b'DO.HIRA ', 475)\n",
      "(6, 9290, b'NA.HIRA ', 480)\n",
      "(6, 9291, b'NI.HIRA ', 495)\n",
      "(6, 9292, b'NU.HIRA ', 510)\n",
      "(6, 9293, b'NE.HIRA ', 525)\n",
      "(6, 9294, b'NO.HIRA ', 540)\n",
      "(6, 9295, b'HA.HIRA ', 555)\n",
      "(6, 9296, b'BA.HIRA ', 570)\n",
      "(7, 9297, b'PA.HIRA ', 576)\n",
      "(7, 9298, b'HI.HIRA ', 591)\n",
      "(7, 9299, b'BI.HIRA ', 606)\n",
      "(7, 9300, b'PI.HIRA ', 621)\n",
      "(7, 9301, b'FU.HIRA ', 636)\n",
      "(7, 9302, b'BU.HIRA ', 651)\n",
      "(7, 9303, b'PU.HIRA ', 666)\n",
      "(8, 9304, b'HE.HIRA ', 671)\n",
      "(8, 9305, b'BE.HIRA ', 686)\n",
      "(8, 9306, b'PE.HIRA ', 701)\n",
      "(8, 9307, b'HO.HIRA ', 716)\n",
      "(8, 9308, b'BO.HIRA ', 731)\n",
      "(8, 9309, b'PO.HIRA ', 746)\n",
      "(8, 9310, b'MA.HIRA ', 761)\n",
      "(9, 9311, b'MI.HIRA ', 766)\n",
      "(9, 9312, b'MU.HIRA ', 781)\n",
      "(9, 9313, b'ME.HIRA ', 796)\n",
      "(9, 9314, b'MO.HIRA ', 811)\n",
      "(9, 9316, b'YA.HIRA ', 826)\n",
      "(9, 9318, b'YU.HIRA ', 841)\n",
      "(9, 9320, b'YO.HIRA ', 856)\n",
      "(10, 9321, b'RA.HIRA ', 861)\n",
      "(10, 13099, b'KAI.HIRA', 870)\n",
      "(10, 9322, b'RI.HIRA ', 876)\n",
      "(10, 9323, b'RU.HIRA ', 891)\n",
      "(10, 9324, b'RE.HIRA ', 906)\n",
      "(10, 9325, b'RO.HIRA ', 921)\n",
      "(10, 9327, b'WA.HIRA ', 936)\n",
      "(10, 9331, b'N.HIRA  ', 956)\n"
     ]
    }
   ],
   "source": [
    "visualize_hiragana()"
   ]
  },
  {
   "cell_type": "code",
   "execution_count": 21,
   "id": "7cf10ab9",
   "metadata": {
    "ExecuteTime": {
     "end_time": "2021-05-03T20:37:28.272135Z",
     "start_time": "2021-05-03T20:37:28.264158Z"
    }
   },
   "outputs": [],
   "source": [
    "def one_kana():\n",
    "    filename = 'data/ETL8G/ETL8G_01'\n",
    "    counter = 0\n",
    "    with open(filename, 'rb') as f:\n",
    "        for id_dataset in range(5):\n",
    "            for i in range(956):\n",
    "                r = read_ETL8G(f)\n",
    "                if b'.WO.' in r[2]:\n",
    "                    iE = Image.eval(r[-1], lambda x: 255-x*16)\n",
    "                    fn = 'img/kana_visualization.png'.format((r[0]-1)%20+1, hex(r[1])[-4:])\n",
    "                    # iE.save(fn, 'PNG')"
   ]
  },
  {
   "cell_type": "code",
   "execution_count": 22,
   "id": "19de8e70",
   "metadata": {
    "ExecuteTime": {
     "end_time": "2021-05-03T20:37:29.625863Z",
     "start_time": "2021-05-03T20:37:29.109213Z"
    }
   },
   "outputs": [],
   "source": [
    "one_kana()"
   ]
  },
  {
   "cell_type": "markdown",
   "id": "b1e2f07d",
   "metadata": {},
   "source": [
    "- Kana Sample Visualization ![kana](img/kana_visualization.png)"
   ]
  },
  {
   "cell_type": "markdown",
   "id": "5fb5da4f",
   "metadata": {},
   "source": [
    "### Visualizing Kanji"
   ]
  },
  {
   "cell_type": "code",
   "execution_count": 23,
   "id": "544c9bf1",
   "metadata": {
    "ExecuteTime": {
     "end_time": "2021-05-03T20:37:31.543039Z",
     "start_time": "2021-05-03T20:37:31.526083Z"
    }
   },
   "outputs": [],
   "source": [
    "def visualize_kanji():\n",
    "    for j in range(1, 2):\n",
    "        filename = 'data/ETL8G/ETL8G_{:02d}'.format(j)\n",
    "        with open(filename, 'rb') as f:\n",
    "            for id_dataset in range(1):\n",
    "                new_img = Image.new('L', (128*32, 128*30))\n",
    "                for i in range(956):\n",
    "                    r = read_ETL8G(f)\n",
    "                    if not (b'.HIRA' in r[2] or b'.WO.' in r[2]):\n",
    "                        print(r[:4])"
   ]
  },
  {
   "cell_type": "code",
   "execution_count": 25,
   "id": "7fb5b669",
   "metadata": {
    "ExecuteTime": {
     "end_time": "2021-05-03T20:37:36.386041Z",
     "start_time": "2021-05-03T20:37:36.133716Z"
    },
    "collapsed": true
   },
   "outputs": [
    {
     "name": "stdout",
     "output_type": "stream",
     "text": [
      "(1, 12326, b'AI.MEDER', 2)\n",
      "(1, 12369, b'I.YUDANE', 3)\n",
      "(1, 12397, b'ICHI.HIT', 4)\n",
      "(1, 12608, b'UN.KUMO ', 5)\n",
      "(1, 12639, b'EN.MARU ', 6)\n",
      "(1, 12838, b'OU.KIMI ', 7)\n",
      "(1, 12863, b'KA.NANI ', 8)\n",
      "(1, 12880, b'KA.HI   ', 9)\n",
      "(1, 12913, b'KAI.AU  ', 10)\n",
      "(1, 13100, b'KAI.KIZA', 11)\n",
      "(1, 13143, b'KAKU.KAW', 12)\n",
      "(1, 13361, b'KAN.TSUK', 13)\n",
      "(1, 13403, b'KAN.YAKA', 14)\n",
      "(1, 13429, b'KI.MARE ', 15)\n",
      "(1, 13613, b'KI.SHIRU', 17)\n",
      "(1, 13657, b'KYUU.YAS', 18)\n",
      "(1, 13677, b'GYUU.USH', 19)\n",
      "(1, 13862, b'KYOU.TOM', 20)\n",
      "(1, 13898, b'KYOKU.MA', 21)\n",
      "(1, 13927, b'KU.     ', 22)\n",
      "(1, 14136, b'KEI.TSUN', 23)\n",
      "(1, 14173, b'GEI.UERU', 24)\n",
      "(1, 14196, b'KEN.WARI', 25)\n",
      "(1, 14385, b'KEN.KEWA', 26)\n",
      "(1, 14405, b'KO.INISH', 27)\n",
      "(1, 14444, b'GO.KATAR', 28)\n",
      "(1, 14461, b'KOU.KUCH', 29)\n",
      "(1, 14657, b'KOU.MINA', 30)\n",
      "(1, 14695, b'GOU.AU  ', 32)\n",
      "(1, 14906, b'SA.SHIRA', 33)\n",
      "(1, 14938, b'SAI.NA  ', 34)\n",
      "(1, 14974, b'SATSU.HA', 35)\n",
      "(1, 15165, b'SAN.KAIK', 36)\n",
      "(1, 15183, b'SHI.HAJI', 37)\n",
      "(1, 15200, b'SHI.SHIN', 38)\n",
      "(1, 15217, b'SHI.MOTO', 39)\n",
      "(1, 15395, b'JI.OSAME', 40)\n",
      "(1, 15425, b'SHITSU.T', 41)\n",
      "(1, 15461, b'JAKU.YOW', 42)\n",
      "(1, 15483, b'JU.NURER', 43)\n",
      "(1, 15660, b'SYUU.NAR', 44)\n",
      "(1, 15696, b'SYUTSU.D', 45)\n",
      "(1, 15723, b'SYO.ATSU', 47)\n",
      "(1, 15918, b'SYOU.CHI', 48)\n",
      "(1, 15951, b'SYOU.AYA', 49)\n",
      "(1, 15989, b'JOU.KATA', 50)\n",
      "(1, 16188, b'SHIN.FUK', 51)\n",
      "(1, 16222, b'ZU.E    ', 52)\n",
      "(1, 16431, b'SEI.TADA', 53)\n",
      "(1, 16445, b'SEI.TATS', 54)\n",
      "(1, 16469, b'SEKI.SEM', 55)\n",
      "(1, 16485, b'ZETSU.SH', 56)\n",
      "(1, 16682, b'SEN.ERAB', 57)\n",
      "(1, 16722, b'SOU.KURA', 58)\n",
      "(1, 16765, b'ZOU.MASU', 59)\n",
      "(1, 16944, b'ZOKU.YAK', 60)\n",
      "(1, 16959, b'TA.OOI  ', 62)\n",
      "(1, 16994, b'TAI.KUMI', 63)\n",
      "(1, 17211, b'TAN.MIJI', 64)\n",
      "(1, 17245, b'CHIKU.TA', 65)\n",
      "(1, 17273, b'CYO.TAKU', 66)\n",
      "(1, 17470, b'CYOKU.NA', 67)\n",
      "(1, 17523, b'TEI.SAGE', 68)\n",
      "(1, 17726, b'TEN.MEGU', 69)\n",
      "(1, 17754, b'DO.TSUCH', 70)\n",
      "(1, 17785, b'TOU.HITO', 71)\n",
      "(1, 17976, b'DOU.WARA', 72)\n",
      "(1, 18018, b'NAI.IRU ', 73)\n",
      "(1, 18222, b'NETSU.AT', 74)\n",
      "(1, 18255, b'BA.UMA  ', 75)\n",
      "(1, 18474, b'HATAKE. ', 77)\n",
      "(1, 18518, b'BAN.TSUG', 78)\n",
      "(1, 18558, b'BI.UTSUK', 79)\n",
      "(1, 18750, b'HYOU.HAK', 80)\n",
      "(1, 18779, b'FU.NUNO ', 81)\n",
      "(1, 18977, b'FUKU.HIM', 82)\n",
      "(1, 19035, b'BEN.KANM', 84)\n",
      "(1, 19233, b'HOU.NORI', 85)\n",
      "(1, 19304, b'MAI.TSUN', 86)\n",
      "(1, 19518, b'MEI.NANO', 87)\n",
      "(1, 19548, b'MOKU.ME ', 88)\n",
      "(1, 19746, b'YU.OKURU', 89)\n",
      "(1, 19782, b'YOU.IRER', 90)\n",
      "(1, 19809, b'YOKU.ABI', 92)\n",
      "(1, 20012, b'RYAKU.OS', 93)\n",
      "(1, 20048, b'RYOKU.MI', 94)\n",
      "(1, 20083, b'RETSU.TS', 95)\n",
      "(1, 20291, b'WA.HANAS', 96)\n",
      "(2, 9315, b'YA.SHIRA', 2)\n",
      "(2, 12333, b'AKU.NIKU', 3)\n",
      "(2, 12373, b'I.KOKORO', 4)\n",
      "(2, 12405, b'IN.SHIRU', 5)\n",
      "(2, 12612, b'EI.ITONA', 6)\n",
      "(2, 12640, b'EN.SONO ', 7)\n",
      "(2, 12843, b'OU.KI   ', 8)\n",
      "(2, 12865, b'KA.ATAI ', 9)\n",
      "(2, 12886, b'KA.HANA ', 10)\n",
      "(2, 12914, b'KAI.TOKU', 11)\n",
      "(2, 13101, b'KAI.BAI ', 12)\n",
      "(2, 13144, b'GAKU.MAN', 13)\n",
      "(2, 13364, b'KAN.MIKI', 14)\n",
      "(2, 13407, b'GAN.KISH', 15)\n",
      "(2, 13434, b'KI.HATA ', 17)\n",
      "(2, 13614, b'KI.TOUTO', 18)\n",
      "(2, 13660, b'KYUU.MIY', 19)\n",
      "(2, 13678, b'KYO.SARU', 20)\n",
      "(2, 13864, b'KYOU.KAN', 21)\n",
      "(2, 13899, b'KYOKU.MU', 22)\n",
      "(2, 13928, b'KU.     ', 23)\n",
      "(2, 14139, b'KEI.ANI ', 24)\n",
      "(2, 14183, b'KETSU.AK', 25)\n",
      "(2, 14202, b'KEN.TATE', 26)\n",
      "(2, 14387, b'KEN.SHIR', 27)\n",
      "(2, 14407, b'KO.KATAM', 28)\n",
      "(2, 14445, b'GO.AYAMA', 29)\n",
      "(2, 14462, b'KOU.MUKU', 30)\n",
      "(2, 14660, b'KOU.KAMI', 32)\n",
      "(2, 14704, b'KOKU.TSU', 33)\n",
      "(2, 14918, b'SAI.FUTA', 34)\n",
      "(2, 14941, b'SAI.KIWA', 35)\n",
      "(2, 15137, b'SATSU.SH', 36)\n",
      "(2, 15167, b'SAN.TASU', 37)\n",
      "(2, 15184, b'SHI.ANE ', 38)\n",
      "(2, 15201, b'SHI.UJI ', 39)\n",
      "(2, 15221, b'SHI.HA  ', 40)\n",
      "(2, 15400, b'JI.SHIME', 41)\n",
      "(2, 15426, b'JITSU.MI', 42)\n",
      "(2, 15463, b'SYU.NUSH', 43)\n",
      "(2, 15485, b'SYUU.OSA', 44)\n",
      "(2, 15664, b'SYUU.OOI', 45)\n",
      "(2, 15697, b'JUTSU.MI', 47)\n",
      "(2, 15729, b'SYO.KAKU', 48)\n",
      "(2, 15919, b'SYOU.SUK', 49)\n",
      "(2, 15962, b'SYOU.AKA', 50)\n",
      "(2, 16162, b'SYOKU.TA', 51)\n",
      "(2, 16189, b'SHIN.NOB', 52)\n",
      "(2, 16228, b'SUI.OSU ', 53)\n",
      "(2, 16432, b'SEI.TOTO', 54)\n",
      "(2, 16446, b'SEI.NISH', 55)\n",
      "(2, 16470, b'SEKI.AKA', 56)\n",
      "(2, 16488, b'SEN.SAKI', 57)\n",
      "(2, 16684, b'SEN.SUKI', 58)\n",
      "(2, 16731, b'SOU.OMOI', 59)\n",
      "(2, 16930, b'ZOU.KAKU', 60)\n",
      "(2, 16946, b'ZOKU.YAK', 62)\n",
      "(2, 16960, b'TA.HANAH', 63)\n",
      "(2, 16997, b'DAI.KAWA', 64)\n",
      "(2, 17220, b'DAN.MARU', 65)\n",
      "(2, 17251, b'CYA.    ', 66)\n",
      "(2, 17274, b'CYOU.HIN', 67)\n",
      "(2, 17474, b'CHIN.YAT', 68)\n",
      "(2, 17528, b'TEI.NORI', 69)\n",
      "(2, 17728, b'TEN.BOCH', 70)\n",
      "(2, 17758, b'TOU.NAKA', 71)\n",
      "(2, 17786, b'TOU.KOTA', 72)\n",
      "(2, 17979, b'DOU.MICH', 73)\n",
      "(2, 18030, b'NAN.MINA', 74)\n",
      "(2, 18223, b'NEN.MINO', 75)\n",
      "(2, 18258, b'HAI.OGAM', 77)\n",
      "(2, 18476, b'HACHI.YA', 78)\n",
      "(2, 18525, b'HI.INA  ', 79)\n",
      "(2, 18721, b'BI.HANA ', 80)\n",
      "(2, 18754, b'BYOU.YAM', 81)\n",
      "(2, 18780, b'FU.KURA ', 82)\n",
      "(2, 18979, b'FUKU.KAS', 83)\n",
      "(2, 19013, b'HEI.    ', 84)\n",
      "(2, 19037, b'HO.YASUN', 85)\n",
      "(2, 19245, b'HOU.YUTA', 86)\n",
      "(2, 19318, b'MATSU.SU', 87)\n",
      "(2, 19519, b'MEI.OOSE', 88)\n",
      "(2, 19556, b'MON.TOU ', 89)\n",
      "(2, 19750, b'YUU.ISAM', 90)\n",
      "(2, 19787, b'YOU.HIKA', 92)\n",
      "(2, 19816, b'RAI.KURU', 93)\n",
      "(2, 20014, b'RYUU.NAG', 94)\n",
      "(2, 20051, b'RIN.HAYA', 95)\n",
      "(2, 20093, b'REN.NERI', 96)\n",
      "(3, 12341, b'ATSU.OSA', 194)\n",
      "(3, 12375, b'I.KAERU ', 195)\n",
      "(3, 12407, b'IN.KAZU ', 196)\n",
      "(3, 12617, b'EI.SAKAE', 197)\n",
      "(3, 12644, b'EN.NOBIR', 198)\n",
      "(3, 12847, b'OKU.OSHI', 199)\n",
      "(3, 12867, b'KA.KUWAE', 200)\n",
      "(3, 12889, b'KA.HASU ', 201)\n",
      "(3, 12915, b'KAI.MAWA', 202)\n",
      "(3, 13104, b'GAI.SOTO', 203)\n",
      "(3, 13146, b'GAKU.TAN', 204)\n",
      "(3, 13366, b'KAN.    ', 205)\n",
      "(3, 13411, b'GAN.MANA', 206)\n",
      "(3, 13436, b'KI.CHIGI', 207)\n",
      "(3, 13615, b'KI.OKIRU', 209)\n",
      "(3, 13662, b'KYUU.ISO', 210)\n",
      "(3, 13679, b'KYO.IRU ', 211)\n",
      "(3, 13869, b'KYOU.SAK', 212)\n",
      "(3, 13900, b'GYOKU.TA', 213)\n",
      "(3, 13932, b'KU.NIGAI', 214)\n",
      "(3, 14143, b'KEI.KATA', 215)\n",
      "(3, 14184, b'KETSU.SA', 216)\n",
      "(3, 14203, b'KEN.NORI', 217)\n",
      "(3, 14389, b'GEN.KOUB', 218)\n",
      "(3, 14410, b'KO.ONORE', 219)\n",
      "(3, 14446, b'GO.MAMOR', 220)\n",
      "(3, 14625, b'KOU.KIMI', 221)\n",
      "(3, 14668, b'KOU.TAGA', 222)\n",
      "(3, 14705, b'KOKU.KUN', 224)\n",
      "(3, 14919, b'SAI.MOTT', 225)\n",
      "(3, 14943, b'ZAI.ARU ', 226)\n",
      "(3, 15142, b'SATSU.KO', 227)\n",
      "(3, 15168, b'SAN.SUI ', 228)\n",
      "(3, 15186, b'SHI.KO  ', 229)\n",
      "(3, 15204, b'SHI.WATA', 230)\n",
      "(3, 15222, b'JI.KOTO ', 231)\n",
      "(3, 15402, b'JI.MIMI ', 232)\n",
      "(3, 15435, b'SYA.YADO', 233)\n",
      "(3, 15464, b'SYU.TORU', 234)\n",
      "(3, 15486, b'SYUU.MEG', 235)\n",
      "(3, 15669, b'SYUU.MEG', 236)\n",
      "(3, 15698, b'JUTSU.NO', 237)\n",
      "(3, 9317, b'YU.SHIRA', 239)\n",
      "(3, 15732, b'SYO.MORO', 240)\n",
      "(3, 15925, b'SYOU.UKE', 241)\n",
      "(3, 15965, b'SYOU.KAT', 242)\n",
      "(3, 16165, b'SYOKU.OR', 243)\n",
      "(3, 16191, b'SHIN.MAK', 244)\n",
      "(3, 16229, b'SUI.MIZU', 245)\n",
      "(3, 16433, b'SEI.HOSH', 246)\n",
      "(3, 16447, b'SEI.MAKO', 247)\n",
      "(3, 16474, b'SETSU.KI', 248)\n",
      "(3, 16489, b'SEN.CHI ', 249)\n",
      "(3, 16688, b'ZEN.MAE ', 250)\n",
      "(3, 16737, b'SOU.HAYA', 251)\n",
      "(3, 16932, b'ZOU.ITAR', 252)\n",
      "(3, 16947, b'ZOKU.TSU', 254)\n",
      "(3, 16967, b'TA.UTSU ', 255)\n",
      "(3, 16998, b'DAI.UTEN', 256)\n",
      "(3, 17223, b'DAN.TATS', 257)\n",
      "(3, 17253, b'CYAKU.KI', 258)\n",
      "(3, 17442, b'CYOU.TOB', 259)\n",
      "(3, 17481, b'TSUI.OU ', 260)\n",
      "(3, 17704, b'TEKI.ADA', 261)\n",
      "(3, 17729, b'DEN.TSUT', 262)\n",
      "(3, 17759, b'TOU.FUYU', 263)\n",
      "(3, 17789, b'TOU.SUJI', 264)\n",
      "(3, 17980, b'DOU.AKAG', 265)\n",
      "(3, 18033, b'NAN.KATA', 266)\n",
      "(3, 18224, b'NEN.OMOU', 267)\n",
      "(3, 18260, b'HAI.YABU', 269)\n",
      "(3, 18479, b'HATSU.HA', 270)\n",
      "(3, 18529, b'HI.KANAS', 271)\n",
      "(3, 18732, b'HITSU.KA', 272)\n",
      "(3, 18755, b'BYOU.NOG', 273)\n",
      "(3, 18787, b'FU.CHICH', 274)\n",
      "(3, 18985, b'BUTSU.HO', 275)\n",
      "(3, 19014, b'BEI.KOME', 276)\n",
      "(3, 19042, b'HO.ARUKU', 277)\n",
      "(3, 19261, b'BOU.SARA', 278)\n",
      "(3, 19324, b'MAN.YORO', 279)\n",
      "(3, 19520, b'MEI.AKAR', 280)\n",
      "(3, 19559, b'MON.KADO', 281)\n",
      "(3, 19751, b'YUU.TOMO', 282)\n",
      "(3, 19789, b'YOU.SAMA', 284)\n",
      "(3, 19822, b'RAKU.OCH', 285)\n",
      "(3, 20017, b'RYUU.TOD', 286)\n",
      "(3, 20055, b'RIN.NOZO', 287)\n",
      "(3, 20258, b'REN.TSUR', 288)\n",
      "(4, 12354, b'AN.YASUN', 290)\n",
      "(4, 12379, b'I.KOTONA', 291)\n",
      "(4, 12408, b'IN.YORU ', 292)\n",
      "(4, 12618, b'EI.NAGAI', 293)\n",
      "(4, 12649, b'EN.NOBER', 294)\n",
      "(4, 12848, b'OKU.YA  ', 295)\n",
      "(4, 12868, b'KA.YOI  ', 296)\n",
      "(4, 12893, b'KA.KOKOR', 297)\n",
      "(4, 12919, b'KAI.KOKO', 298)\n",
      "(4, 13106, b'GAI.SOKO', 299)\n",
      "(4, 13147, b'GAKU.HIT', 300)\n",
      "(4, 13367, b'KAN.NARA', 301)\n",
      "(4, 13412, b'GAN.IWA ', 302)\n",
      "(4, 13601, b'KI.HATA ', 303)\n",
      "(4, 13627, b'GI.WAZA ', 305)\n",
      "(4, 13663, b'KYUU.SUK', 306)\n",
      "(4, 13683, b'KYO.AGER', 307)\n",
      "(4, 13871, b'KYOU.TSU', 308)\n",
      "(4, 13904, b'KIN.TSUT', 309)\n",
      "(4, 13937, b'GU.SONAE', 310)\n",
      "(4, 14145, b'KEI.ARAW', 311)\n",
      "(4, 14185, b'KETSU.IS', 312)\n",
      "(4, 14369, b'KEN.SHIR', 313)\n",
      "(4, 14390, b'GEN.HARA', 314)\n",
      "(4, 14411, b'KO.KURA ', 315)\n",
      "(4, 14450, b'KOU.MAJI', 316)\n",
      "(4, 14631, b'KOU.    ', 317)\n",
      "(4, 14669, b'KOU.KANG', 318)\n",
      "(4, 14706, b'KOKU.TAN', 320)\n",
      "(4, 14922, b'SAI.TSUM', 321)\n",
      "(4, 14944, b'ZAI.MARU', 322)\n",
      "(4, 15144, b'ZATSU.MA', 323)\n",
      "(4, 15172, b'ZAN.SOKO', 324)\n",
      "(4, 15188, b'SHI.    ', 325)\n",
      "(4, 15205, b'SHI.ITO ', 326)\n",
      "(4, 15223, b'JI.NIRU ', 327)\n",
      "(4, 15403, b'JI.MIZUK', 328)\n",
      "(4, 15436, b'SYA.UTSU', 329)\n",
      "(4, 15465, b'SYU.MAMO', 330)\n",
      "(4, 15649, b'SYUU.MUN', 331)\n",
      "(4, 15672, b'SYUU.ATS', 332)\n",
      "(4, 15701, b'SYUN.HAR', 333)\n",
      "(4, 15733, b'JO.TASUK', 335)\n",
      "(4, 15927, b'SYOU.MAN', 336)\n",
      "(4, 15966, b'SYOU.HOM', 337)\n",
      "(4, 16166, b'SYOKU.TS', 338)\n",
      "(4, 16192, b'SHIN.KAM', 339)\n",
      "(4, 16244, b'SUU.KAZO', 340)\n",
      "(4, 16434, b'SEI.HARE', 341)\n",
      "(4, 16452, b'SEI.AO  ', 342)\n",
      "(4, 16476, b'SETSU.MA', 343)\n",
      "(4, 16491, b'SEN.NOBE', 344)\n",
      "(4, 16689, b'ZEN.YOI ', 345)\n",
      "(4, 16744, b'SOU.ARAS', 346)\n",
      "(4, 16934, b'SOKU.KAT', 347)\n",
      "(4, 16948, b'SOTSU.NI', 348)\n",
      "(4, 16974, b'TAI.KARA', 350)\n",
      "(4, 16999, b'DAI.OOKI', 351)\n",
      "(4, 17227, b'DAN.OTOK', 352)\n",
      "(4, 17254, b'CYUU.UCH', 353)\n",
      "(4, 17445, b'CYOU.HAR', 354)\n",
      "(4, 17484, b'TSUU.TOO', 355)\n",
      "(4, 17706, b'TEKI.AKI', 356)\n",
      "(4, 17732, b'DEN.TA  ', 357)\n",
      "(4, 17761, b'TOU.KATA', 358)\n",
      "(4, 17956, b'TOU.TAZU', 359)\n",
      "(4, 17984, b'TOKU.ERU', 360)\n",
      "(4, 18035, b'NI.FUTAT', 361)\n",
      "(4, 18227, b'NEN.MOER', 362)\n",
      "(4, 18267, b'HAI.NARA', 363)\n",
      "(4, 18493, b'HAN.WAKE', 365)\n",
      "(4, 18534, b'HI.NARAB', 366)\n",
      "(4, 18734, b'HITSU.FU', 367)\n",
      "(4, 18762, b'HIN.SHIN', 368)\n",
      "(4, 18793, b'FU.OU   ', 369)\n",
      "(4, 18986, b'BUTSU.MO', 370)\n",
      "(4, 19020, b'BETSU.WA', 371)\n",
      "(4, 19044, b'HO.OGINA', 372)\n",
      "(4, 19262, b'BOU.NOZO', 373)\n",
      "(4, 19326, b'MAN.MICH', 374)\n",
      "(4, 19521, b'MEI.CHIK', 375)\n",
      "(4, 19563, b'YA.YO   ', 376)\n",
      "(4, 19757, b'YUU.ARU ', 377)\n",
      "(4, 9319, b'YO.SHIRA', 379)\n",
      "(4, 19790, b'YOU.NADA', 380)\n",
      "(4, 19832, b'RI.YOI  ', 381)\n",
      "(4, 20025, b'RYO.TABI', 382)\n",
      "(4, 20056, b'RIN.WA  ', 383)\n",
      "(4, 20265, b'RO.MICHI', 384)\n",
      "(5, 12357, b'AN.KURAI', 386)\n",
      "(5, 12380, b'I.UTSURU', 387)\n",
      "(5, 12410, b'IN.HIKU ', 388)\n",
      "(5, 12619, b'EI.OYOGU', 389)\n",
      "(5, 12659, b'EN.TOOZA', 390)\n",
      "(5, 12856, b'ON.MEGUM', 391)\n",
      "(5, 12870, b'KA.NATSU', 392)\n",
      "(5, 12895, b'KA.TAKAR', 393)\n",
      "(5, 12926, b'KAI.ARAT', 394)\n",
      "(5, 13126, b'KAKU.ONO', 395)\n",
      "(5, 13160, b'KATSU.IK', 396)\n",
      "(5, 13375, b'KAN.YORO', 397)\n",
      "(5, 13417, b'GAN.KAO ', 398)\n",
      "(5, 13602, b'KI.TOTSU', 399)\n",
      "(5, 13631, b'GI.UTAGA', 401)\n",
      "(5, 13665, b'KYUU.MOT', 402)\n",
      "(5, 13686, b'KYO.YURU', 403)\n",
      "(5, 13877, b'KYOU.OSH', 404)\n",
      "(5, 13905, b'KIN.TOTO', 405)\n",
      "(5, 13941, b'KUU.ANA ', 406)\n",
      "(5, 14153, b'KEI.UYAM', 407)\n",
      "(5, 14187, b'KETSU.MU', 408)\n",
      "(5, 14370, b'KEN.OMOR', 409)\n",
      "(5, 14391, b'GEN.KIBI', 410)\n",
      "(5, 14413, b'KO.TO   ', 411)\n",
      "(5, 14453, b'KOU.UTAG', 412)\n",
      "(5, 14633, b'KOU.TAKU', 413)\n",
      "(5, 14674, b'KOU.WATA', 414)\n",
      "(5, 14709, b'KOKU.KUR', 416)\n",
      "(5, 14925, b'SAI.WAZU', 417)\n",
      "(5, 14945, b'ZAI.TSUM', 418)\n",
      "(5, 15152, b'SAN.MITS', 419)\n",
      "(5, 15173, b'SHI.TSUK', 420)\n",
      "(5, 15189, b'SHI.MIYA', 421)\n",
      "(5, 15206, b'SHI.KAMI', 422)\n",
      "(5, 15225, b'JI.KO   ', 423)\n",
      "(5, 15405, b'JI.KOTOB', 424)\n",
      "(5, 15442, b'SYA.YASH', 425)\n",
      "(5, 15466, b'SYU.TE  ', 426)\n",
      "(5, 15650, b'SYUU.TSU', 427)\n",
      "(5, 15675, b'JUU.TODO', 428)\n",
      "(5, 15712, b'JUN.HITO', 429)\n",
      "(5, 15735, b'JO.ONNA ', 431)\n",
      "(5, 15932, b'SYOU.AKI', 432)\n",
      "(5, 15973, b'JOU.UE  ', 433)\n",
      "(5, 16167, b'SYOKU.IR', 434)\n",
      "(5, 16195, b'SHIN.OMI', 435)\n",
      "(5, 16420, b'SE.YO   ', 436)\n",
      "(5, 16437, b'SEI.TADA', 437)\n",
      "(5, 16453, b'SEI.SHIZ', 438)\n",
      "(5, 16478, b'SETSU.OR', 439)\n",
      "(5, 16492, b'SEN.MOPP', 440)\n",
      "(5, 16691, b'ZEN.MOER', 441)\n",
      "(5, 16746, b'SOU.MIRU', 442)\n",
      "(5, 16935, b'SOKU.NOR', 443)\n",
      "(5, 16952, b'SON.TAMO', 444)\n",
      "(5, 16976, b'TAI.MUKA', 446)\n",
      "(5, 17000, b'DAI.TSUI', 447)\n",
      "(5, 17228, b'DAN.KATA', 448)\n",
      "(5, 17257, b'CYUU.MAG', 449)\n",
      "(5, 17451, b'CYOU.ASA', 450)\n",
      "(5, 17507, b'TEI.HIKU', 451)\n",
      "(5, 17708, b'TEKI.YUK', 452)\n",
      "(5, 17733, b'DEN.INAZ', 453)\n",
      "(5, 17767, b'TOU.SHIM', 454)\n",
      "(5, 17964, b'TOU.ATAM', 455)\n",
      "(5, 17985, b'TOKU.   ', 456)\n",
      "(5, 18037, b'NI.FUTAT', 457)\n",
      "(5, 18236, b'NOU.IRER', 458)\n",
      "(5, 18268, b'BAI.SOMU', 459)\n",
      "(5, 18494, b'HAN.NAKA', 461)\n",
      "(5, 18537, b'HI.KAWA ', 462)\n",
      "(5, 18740, b'HYAKU.MO', 463)\n",
      "(5, 18767, b'HIN.MAZU', 464)\n",
      "(5, 18800, b'BU.TAKES', 465)\n",
      "(5, 18988, b'FUN.WAKE', 466)\n",
      "(5, 19025, b'HEN.KAWA', 467)\n",
      "(5, 19048, b'BO.HAKA ', 468)\n",
      "(5, 19271, b'BOU.KAER', 469)\n",
      "(5, 19491, b'MI.AJIWA', 470)\n",
      "(5, 19522, b'MEI.MAYO', 471)\n",
      "(5, 19566, b'YA.NO   ', 472)\n",
      "(5, 19763, b'YUU.YORU', 473)\n",
      "(5, 19793, b'YOU.MOCH', 474)\n",
      "(5, 19837, b'RI.SUJI ', 476)\n",
      "(5, 20030, b'RYOU.FUT', 477)\n",
      "(5, 20064, b'RUI.TAGU', 478)\n",
      "(5, 20267, b'ROU.TSUK', 479)\n",
      "(6, 12358, b'AN.TSUKU', 481)\n",
      "(6, 12383, b'I.      ', 482)\n",
      "(6, 12411, b'IN.NOMU ', 483)\n",
      "(6, 12625, b'EI.HANAB', 484)\n",
      "(6, 12662, b'EN.SHIO ', 485)\n",
      "(6, 12857, b'ON.ATATA', 486)\n",
      "(6, 12872, b'KA.IE   ', 487)\n",
      "(6, 12897, b'KA.SUGIR', 488)\n",
      "(6, 13091, b'KAI.KASE', 489)\n",
      "(6, 13128, b'KAKU.HIR', 490)\n",
      "(6, 13172, b'KABU.SYU', 491)\n",
      "(6, 13377, b'KAN.KARA', 492)\n",
      "(6, 13418, b'GAN.NEGA', 493)\n",
      "(6, 13604, b'KI.IKI  ', 494)\n",
      "(6, 9283, b'TSU.SHIR', 496)\n",
      "(6, 13633, b'GI.YOI  ', 497)\n",
      "(6, 13669, b'KYUU.TAM', 498)\n",
      "(6, 13689, b'GYO.SUNA', 499)\n",
      "(6, 13878, b'KYOU.HAS', 500)\n",
      "(6, 13912, b'KIN.TODO', 501)\n",
      "(6, 14127, b'KUN.KIMI', 502)\n",
      "(6, 14154, b'KEI.KAGE', 503)\n",
      "(6, 14188, b'KETSU.CH', 504)\n",
      "(6, 14372, b'KEN.INU ', 505)\n",
      "(6, 14394, b'GEN.HERU', 506)\n",
      "(6, 14414, b'KO.KOTO ', 507)\n",
      "(6, 14455, b'KOU.HIKA', 508)\n",
      "(6, 14636, b'KOU.SAIW', 509)\n",
      "(6, 14676, b'KOU.MICH', 511)\n",
      "(6, 14883, b'KON.IMA ', 512)\n",
      "(6, 14926, b'SAI.TORU', 513)\n",
      "(6, 14946, b'ZAI.TAKA', 514)\n",
      "(6, 15154, b'SAN.MAJI', 515)\n",
      "(6, 15176, b'SHI.TSUK', 516)\n",
      "(6, 15190, b'SHI.KOKO', 517)\n",
      "(6, 15210, b'SHI.ITAR', 518)\n",
      "(6, 15226, b'JI.UMU  ', 519)\n",
      "(6, 15408, b'SHIKI.NO', 520)\n",
      "(6, 15444, b'SYA.MONO', 521)\n",
      "(6, 15471, b'SYU.TANE', 522)\n",
      "(6, 15651, b'SYUU.SHI', 523)\n",
      "(6, 15677, b'JUU.TOO ', 524)\n",
      "(6, 15715, b'JUN.KIIT', 526)\n",
      "(6, 15736, b'JO.NOBER', 527)\n",
      "(6, 15939, b'SYOU.KIE', 528)\n",
      "(6, 15976, b'JOU.NORU', 529)\n",
      "(6, 16169, b'SYOKU.KU', 530)\n",
      "(6, 16198, b'SHIN.MIZ', 531)\n",
      "(6, 16423, b'ZE.KORE ', 532)\n",
      "(6, 16438, b'SEI.KIYO', 533)\n",
      "(6, 16455, b'ZEI.MITS', 534)\n",
      "(6, 16479, b'SETSU.MO', 535)\n",
      "(6, 16494, b'SEN.KAWA', 536)\n",
      "(6, 16692, b'ZEN.MATT', 537)\n",
      "(6, 16749, b'SOU.FUSA', 538)\n",
      "(6, 16937, b'SOKU.IKI', 539)\n",
      "(6, 16953, b'SON.MAGO', 541)\n",
      "(6, 16979, b'TAI.OBI ', 542)\n",
      "(6, 17002, b'DAI.HITA', 543)\n",
      "(6, 17230, b'CHI.SHIR', 544)\n",
      "(6, 17259, b'CYUU.HIR', 545)\n",
      "(6, 17454, b'CYOU.MAC', 546)\n",
      "(6, 17508, b'TEI.TODO', 547)\n",
      "(6, 17716, b'TETSU.KU', 548)\n",
      "(6, 17740, b'TO.KACHI', 549)\n",
      "(6, 17770, b'TOU.NAGE', 550)\n",
      "(6, 17967, b'DOU.HATA', 551)\n",
      "(6, 17987, b'TOKU.OUS', 552)\n",
      "(6, 18041, b'NIKU.SHI', 553)\n",
      "(6, 18237, b'NOU.ATAU', 554)\n",
      "(6, 18275, b'BAI.KAU ', 556)\n",
      "(6, 18495, b'HAN.KAES', 557)\n",
      "(6, 18542, b'HI.KOERU', 558)\n",
      "(6, 18742, b'HYOU.TAW', 559)\n",
      "(6, 18772, b'FU.INAYA', 560)\n",
      "(6, 18804, b'BU.WAKER', 561)\n",
      "(6, 18995, b'FUN.FURU', 562)\n",
      "(6, 19028, b'HEN.AMU ', 563)\n",
      "(6, 19052, b'BO.HAHA ', 564)\n",
      "(6, 19273, b'BOU.TSUT', 565)\n",
      "(6, 19492, b'MI.IMADA', 566)\n",
      "(6, 19524, b'MEI.NAKU', 567)\n",
      "(6, 19570, b'YAKU.TSU', 568)\n",
      "(6, 19767, b'YUU.ASOB', 569)\n",
      "(6, 19797, b'YOU.HA  ', 571)\n",
      "(6, 20004, b'RI.SATO ', 572)\n",
      "(6, 20033, b'RYOU.HAK', 573)\n",
      "(6, 20065, b'REI.IITS', 574)\n",
      "(6, 20279, b'ROU.OIRU', 575)\n",
      "(7, 12362, b'I.OMOU  ', 577)\n",
      "(7, 12388, b'I.NOKOSU', 578)\n",
      "(7, 12577, b'IN.     ', 579)\n",
      "(7, 12626, b'EI.MAMOR', 580)\n",
      "(7, 12667, b'OU.NAKAB', 581)\n",
      "(7, 12859, b'ON.OTO  ', 582)\n",
      "(7, 12874, b'KA.SHINA', 583)\n",
      "(7, 12902, b'GA.WARE ', 584)\n",
      "(7, 13092, b'KAI.UMI ', 585)\n",
      "(7, 13130, b'KAKU.TAD', 586)\n",
      "(7, 13352, b'KAN.SAMU', 587)\n",
      "(7, 13385, b'KAN.FUE ', 588)\n",
      "(7, 13422, b'KI.YOROK', 589)\n",
      "(7, 13605, b'KI.YUGE ', 590)\n",
      "(7, 13636, b'GI.HAKAR', 592)\n",
      "(7, 13670, b'KYUU.KIW', 593)\n",
      "(7, 13691, b'GYO.UO  ', 594)\n",
      "(7, 13885, b'KYOU.OKO', 595)\n",
      "(7, 13921, b'KIN.CHIK', 596)\n",
      "(7, 14129, b'KUN.OSHI', 597)\n",
      "(7, 14159, b'KEI.KAKE', 598)\n",
      "(7, 14190, b'GETSU.TS', 599)\n",
      "(7, 14374, b'KEN.MIGA', 600)\n",
      "(7, 14397, b'GEN.ARAW', 601)\n",
      "(7, 14416, b'KO.MIZUU', 602)\n",
      "(7, 14456, b'KOU.OOYA', 603)\n",
      "(7, 14637, b'KOU.HIRO', 604)\n",
      "(7, 14678, b'KOU.    ', 605)\n",
      "(7, 14892, b'KON.    ', 607)\n",
      "(7, 14929, b'SAI.WATA', 608)\n",
      "(7, 14948, b'SAKA.HAN', 609)\n",
      "(7, 15155, b'SAN.YAMA', 610)\n",
      "(7, 15178, b'SHI.TSUK', 611)\n",
      "(7, 15191, b'SHI.OMOU', 612)\n",
      "(7, 15211, b'SHI.MIRU', 613)\n",
      "(7, 15227, b'JI.TERA ', 614)\n",
      "(7, 15409, b'SHIKI.SH', 615)\n",
      "(7, 15445, b'SYA.WABI', 616)\n",
      "(7, 15474, b'SYU.SAKE', 617)\n",
      "(7, 15652, b'SYUU.OSA', 618)\n",
      "(7, 15678, b'JUU.SHIT', 619)\n",
      "(7, 15719, b'JUN.SUNA', 620)\n",
      "(7, 15740, b'JO.NOZOK', 622)\n",
      "(7, 15942, b'SYOU.YAK', 623)\n",
      "(7, 15980, b'JOU.BA  ', 624)\n",
      "(7, 16174, b'SHIN.MAK', 625)\n",
      "(7, 16200, b'SHIN.MI ', 626)\n",
      "(7, 16425, b'SEI.OSAE', 627)\n",
      "(7, 16440, b'SEI.HAER', 628)\n",
      "(7, 16458, b'SEKI.MUS', 629)\n",
      "(7, 16481, b'SETSU.FU', 630)\n",
      "(7, 16495, b'SEN.TATA', 631)\n",
      "(7, 16708, b'SO.JIJI ', 632)\n",
      "(7, 16752, b'SOU.KUSA', 633)\n",
      "(7, 16940, b'SOKU.HAK', 634)\n",
      "(7, 16954, b'SON.TATT', 635)\n",
      "(7, 16980, b'TAI.MATS', 637)\n",
      "(7, 17187, b'TATSU.TO', 638)\n",
      "(7, 17231, b'CHI.TSUC', 639)\n",
      "(7, 17260, b'CYUU.HAS', 640)\n",
      "(7, 17458, b'CYOU.HAR', 641)\n",
      "(7, 17514, b'TEI.SADA', 642)\n",
      "(7, 17717, b'TEN.NORI', 643)\n",
      "(7, 17744, b'TO.NOBOR', 644)\n",
      "(7, 17772, b'TOU.HIGA', 645)\n",
      "(7, 17968, b'DOU.UGOK', 646)\n",
      "(7, 17991, b'DOKU.SOK', 647)\n",
      "(7, 18044, b'NICHI.HI', 648)\n",
      "(7, 18240, b'NOU.    ', 649)\n",
      "(7, 18276, b'BAI.URU ', 650)\n",
      "(7, 18500, b'HAN.ITA ', 652)\n",
      "(7, 18545, b'HI.TSUIY', 653)\n",
      "(7, 18744, b'HYOU.KOZ', 654)\n",
      "(7, 18773, b'FU.ATAER', 655)\n",
      "(7, 18807, b'FUU.KAZE', 656)\n",
      "(7, 18996, b'FUN.KONA', 657)\n",
      "(7, 19029, b'HEN.HOTO', 658)\n",
      "(7, 19057, b'HOU.TSUT', 659)\n",
      "(7, 19276, b'HOKU.KIT', 660)\n",
      "(7, 19502, b'MYAKU.SU', 661)\n",
      "(7, 19530, b'MEN.TSUR', 662)\n",
      "(7, 19571, b'YAKU.   ', 663)\n",
      "(7, 19772, b'YUU.SEKI', 664)\n",
      "(7, 19799, b'YOU.MOTO', 665)\n",
      "(7, 20006, b'RIKU.OKA', 667)\n",
      "(7, 20041, b'RYOU.YOI', 668)\n",
      "(7, 20067, b'REI.TAGU', 669)\n",
      "(7, 20283, b'ROKU.MUT', 670)\n",
      "(8, 12364, b'I.KURAI ', 672)\n",
      "(8, 12389, b'I.IYASU ', 673)\n",
      "(8, 12582, b'U.TASUKE', 674)\n",
      "(8, 12629, b'EKI.SHIR', 675)\n",
      "(8, 12669, b'OU.YUKU ', 676)\n",
      "(8, 12860, b'KA.SHITA', 677)\n",
      "(8, 12876, b'KA.HATAS', 678)\n",
      "(8, 12904, b'GA.KAGIR', 679)\n",
      "(8, 13094, b'KAI.SAKA', 680)\n",
      "(8, 13134, b'KAKU.KAT', 681)\n",
      "(8, 13353, b'KAN.KEZU', 682)\n",
      "(8, 13393, b'KAN.MIRU', 683)\n",
      "(8, 13423, b'KI.UTSUW', 684)\n",
      "(8, 13608, b'KI.SUE  ', 685)\n",
      "(8, 13650, b'KYAKU.MA', 687)\n",
      "(8, 13673, b'KYUU.SHI', 688)\n",
      "(8, 13694, b'KYOU.MIY', 689)\n",
      "(8, 13888, b'KYOU.KAG', 690)\n",
      "(8, 13922, b'KIN.    ', 691)\n",
      "(8, 14130, b'GUN.MURE', 692)\n",
      "(8, 14160, b'KEI.TATE', 693)\n",
      "(8, 14191, b'KEN.KUDA', 694)\n",
      "(8, 14376, b'KEN.KINU', 695)\n",
      "(8, 14400, b'GEN.KOTO', 696)\n",
      "(8, 14430, b'GO.ITSUT', 697)\n",
      "(8, 14457, b'KOU.ISAO', 698)\n",
      "(8, 14639, b'KOU.YASU', 699)\n",
      "(8, 14683, b'KOU.ARAG', 700)\n",
      "(8, 14894, b'KON.MAJI', 702)\n",
      "(8, 14930, b'SAI.WAZA', 703)\n",
      "(8, 14958, b'SAKU.TSU', 704)\n",
      "(8, 15158, b'SAN.CHIR', 705)\n",
      "(8, 15179, b'SHI.FUBI', 706)\n",
      "(8, 15192, b'SHI.YUBI', 707)\n",
      "(8, 15212, b'SHI.KOTO', 708)\n",
      "(8, 15229, b'JI.MOTSU', 709)\n",
      "(8, 15415, b'SHICHI.N', 710)\n",
      "(8, 15446, b'SYA.KURU', 711)\n",
      "(8, 15475, b'SYU.KUBI', 712)\n",
      "(8, 15654, b'SYUU.HIR', 713)\n",
      "(8, 15685, b'JUU.OMOI', 714)\n",
      "(8, 15720, b'SYO.ORU ', 715)\n",
      "(8, 15905, b'SYOU.TAE', 717)\n",
      "(8, 15944, b'SYOU.TER', 718)\n",
      "(8, 15983, b'JOU.TSUN', 719)\n",
      "(8, 16180, b'SHIN.KOK', 720)\n",
      "(8, 16202, b'SHIN.SUS', 721)\n",
      "(8, 16426, b'SEI.IKIO', 722)\n",
      "(8, 16442, b'SEI.SHIR', 723)\n",
      "(8, 16464, b'SEKI.ISH', 724)\n",
      "(8, 16482, b'SETSU.TO', 725)\n",
      "(8, 16501, b'SEN.ASAI', 726)\n",
      "(8, 16711, b'SO.SHIRO', 727)\n",
      "(8, 16758, b'SOU.HASH', 728)\n",
      "(8, 16941, b'SOKU.ASH', 729)\n",
      "(8, 16955, b'SON.HERU', 730)\n",
      "(8, 16982, b'TAI.SAMA', 732)\n",
      "(8, 17195, b'TANI.KOK', 733)\n",
      "(8, 17235, b'CHI.IKE ', 734)\n",
      "(8, 17261, b'CYUU.SOS', 735)\n",
      "(8, 17460, b'CYOU.TOT', 736)\n",
      "(8, 17516, b'TEI.SOKO', 737)\n",
      "(8, 17719, b'TEN.AME ', 738)\n",
      "(8, 17748, b'TO.MIYAK', 739)\n",
      "(8, 17778, b'TOU.YU  ', 740)\n",
      "(8, 17969, b'DOU.TOMO', 741)\n",
      "(8, 17992, b'DOKU.HIT', 742)\n",
      "(8, 18046, b'NYUU.IRU', 743)\n",
      "(8, 18248, b'HA.NAMI ', 744)\n",
      "(8, 18286, b'HAKU.HIR', 745)\n",
      "(8, 18503, b'HAN.ITA ', 747)\n",
      "(8, 18547, b'HI.SOSHI', 748)\n",
      "(8, 18745, b'HYOU.KOO', 749)\n",
      "(8, 18775, b'FU.OTOKO', 750)\n",
      "(8, 18812, b'FUKU.KAE', 751)\n",
      "(8, 19000, b'BUN.AYA ', 752)\n",
      "(8, 19030, b'HEN.KAER', 753)\n"
     ]
    },
    {
     "name": "stdout",
     "output_type": "stream",
     "text": [
      "(8, 19059, b'HOU.SHIR', 754)\n",
      "(8, 19282, b'BOKU.MAK', 755)\n",
      "(8, 19505, b'MIN.TAMI', 756)\n",
      "(8, 19532, b'MEN.OMO ', 757)\n",
      "(8, 19572, b'YAKU.KUS', 758)\n",
      "(8, 19773, b'YO.ATAER', 759)\n",
      "(8, 19803, b'YOU.HI  ', 760)\n",
      "(8, 20007, b'RITSU.NO', 762)\n",
      "(8, 20044, b'RYOU.HAK', 763)\n",
      "(8, 20068, b'REI.HIER', 764)\n",
      "(8, 20287, b'ROKU.SHI', 765)\n",
      "(9, 12365, b'I.YORI  ', 767)\n",
      "(9, 12393, b'IKU.SODA', 768)\n",
      "(9, 12587, b'U.AME   ', 769)\n",
      "(9, 12631, b'EKI.MASU', 770)\n",
      "(9, 12670, b'OU.KOTAE', 771)\n",
      "(9, 12861, b'KA.KAWAR', 772)\n",
      "(9, 12878, b'KA.UTAU ', 773)\n",
      "(9, 12906, b'GA.ME   ', 774)\n",
      "(9, 13096, b'KAI.    ', 775)\n",
      "(9, 13136, b'KAKU.OBO', 776)\n",
      "(9, 13355, b'KAN.SUSU', 777)\n",
      "(9, 13398, b'KAN.AIDA', 778)\n",
      "(9, 13424, b'KI.MOTOI', 779)\n",
      "(9, 13610, b'KI.OSAME', 780)\n",
      "(9, 13653, b'GYAKU.MU', 782)\n",
      "(9, 13675, b'KYUU.TAM', 783)\n",
      "(9, 13857, b'KYOU.SON', 784)\n",
      "(9, 13896, b'GYOU.WAZ', 785)\n",
      "(9, 13924, b'GIN.SHIR', 786)\n",
      "(9, 14131, b'GUN.TSUW', 787)\n",
      "(9, 14167, b'KEI.KAZO', 788)\n",
      "(9, 14194, b'KEN.TAKE', 789)\n",
      "(9, 14377, b'KEN.KAKE', 790)\n",
      "(9, 14402, b'GEN.KAGI', 791)\n",
      "(9, 14433, b'GO.UMA  ', 792)\n",
      "(9, 14458, b'KOU.NARA', 793)\n",
      "(9, 14651, b'KOU.KASE', 794)\n",
      "(9, 14690, b'KOU.TAKA', 795)\n",
      "(9, 14904, b'SA.HIDAR', 797)\n",
      "(9, 14935, b'SAI.MATS', 798)\n",
      "(9, 14962, b'SAKU.KIN', 799)\n",
      "(9, 15162, b'SAN.UMU ', 800)\n",
      "(9, 15181, b'SHI.YOTS', 801)\n",
      "(9, 15193, b'SHI.SASA', 802)\n",
      "(9, 15213, b'SHI.KARA', 803)\n",
      "(9, 15230, b'JI.TOKI ', 804)\n",
      "(9, 15418, b'SHITSU.U', 805)\n",
      "(9, 15450, b'SYAKU.KA', 806)\n",
      "(9, 15477, b'JU.UKERU', 807)\n",
      "(9, 15657, b'SYUU.AKI', 808)\n",
      "(9, 15689, b'SYUKU.YA', 809)\n",
      "(9, 15721, b'SYO.HAJI', 810)\n",
      "(9, 15910, b'SYOU.AKI', 812)\n",
      "(9, 15946, b'SYOU.MIR', 813)\n",
      "(9, 15984, b'JOU.KOKO', 814)\n",
      "(9, 16183, b'SHIN.ATA', 815)\n",
      "(9, 16205, b'JIN.HITO', 816)\n",
      "(9, 16429, b'SEI.SAGA', 817)\n",
      "(9, 16443, b'SEI.HIJI', 818)\n",
      "(9, 16465, b'SEKI.TSU', 819)\n",
      "(9, 16483, b'SETSU.YU', 820)\n",
      "(9, 16510, b'SEN.SUJI', 821)\n",
      "(9, 16712, b'SO.KUMIH', 822)\n",
      "(9, 16759, b'SOU.OKUR', 823)\n",
      "(9, 16942, b'SOKU.HAY', 824)\n",
      "(9, 16956, b'SON.MURA', 825)\n",
      "(9, 16991, b'TAI.KASU', 827)\n",
      "(9, 17201, b'TAN.HITO', 828)\n",
      "(9, 17238, b'CHI.OKU ', 829)\n",
      "(9, 17262, b'CYUU.MUS', 830)\n",
      "(9, 17465, b'CYOU.TAK', 831)\n",
      "(9, 17517, b'TEI.NIWA', 832)\n",
      "(9, 17720, b'TEN.NOBE', 833)\n",
      "(9, 17752, b'DO.TSUTO', 834)\n",
      "(9, 17781, b'TOU.TOMO', 835)\n",
      "(9, 17970, b'DOU.TAKA', 836)\n",
      "(9, 17993, b'DOKU.YOM', 837)\n",
      "(9, 18212, b'NIN.NINA', 838)\n",
      "(9, 18249, b'HA.WAKAR', 839)\n",
      "(9, 18290, b'HAKU.SHI', 840)\n",
      "(9, 18504, b'HAN.OKAS', 842)\n",
      "(9, 18548, b'HI.TOBU ', 843)\n",
      "(9, 18748, b'HYOU.FUD', 844)\n",
      "(9, 18776, b'FU.YOME ', 845)\n",
      "(9, 18813, b'FUKU.HAB', 846)\n",
      "(9, 19001, b'BUN.KIKU', 847)\n",
      "(9, 19032, b'BEN.TAYO', 848)\n",
      "(9, 19068, b'HOU.HANA', 849)\n",
      "(9, 19292, b'HON.MOTO', 850)\n",
      "(9, 19507, b'MU.TSUTO', 851)\n",
      "(9, 19539, b'MOU.KE  ', 852)\n",
      "(9, 19573, b'YAKU.WAK', 853)\n",
      "(9, 19774, b'YO.WARE ', 854)\n",
      "(9, 19804, b'YOU.YASH', 855)\n",
      "(9, 20008, b'RITSU.OO', 857)\n",
      "(9, 20046, b'RYOU.UNA', 858)\n",
      "(9, 20073, b'REI.    ', 859)\n",
      "(9, 20288, b'RON.AGET', 860)\n",
      "(10, 12367, b'I.KAKOMU', 862)\n",
      "(10, 12396, b'ICHI.HIT', 863)\n",
      "(10, 12607, b'UN.MEGUR', 864)\n",
      "(10, 12632, b'EKI.UMAY', 865)\n",
      "(10, 12835, b'OU.YOKO ', 866)\n",
      "(10, 12862, b'KA.KARIR', 867)\n",
      "(10, 12879, b'KA.KAWA ', 868)\n",
      "(10, 12908, b'GA.YOROK', 869)\n",
      "(10, 13137, b'KAKU.TSU', 871)\n",
      "(10, 13360, b'KAN.MATT', 872)\n",
      "(10, 13400, b'KAN.KANN', 873)\n",
      "(10, 13427, b'KI.YORU ', 874)\n",
      "(10, 13612, b'KI.BUNMA', 875)\n",
      "(10, 13655, b'KYUU.HIS', 877)\n",
      "(10, 13676, b'KYUU.FUR', 878)\n",
      "(10, 13861, b'KYOU.KIS', 879)\n",
      "(10, 13897, b'KYOKU.TS', 880)\n",
      "(10, 13925, b'KU.KOKON', 881)\n",
      "(10, 14132, b'GUN.KOOR', 882)\n",
      "(10, 14170, b'KEI.KARU', 883)\n",
      "(10, 14195, b'KEN.KANE', 884)\n",
      "(10, 14379, b'KEN.MIRU', 885)\n",
      "(10, 14404, b'KO.     ', 886)\n",
      "(10, 14437, b'GO.OKURE', 887)\n",
      "(10, 14460, b'KOU.ATSU', 888)\n",
      "(10, 14653, b'KOU.KAMA', 889)\n",
      "(10, 14694, b'GOU.SAKE', 890)\n",
      "(10, 14905, b'SA.TAGAU', 892)\n",
      "(10, 14937, b'SAI.HOSO', 893)\n",
      "(10, 14966, b'SAKU.MUC', 894)\n",
      "(10, 15163, b'SAN.KAZO', 895)\n",
      "(10, 15182, b'SHI.SAMU', 896)\n",
      "(10, 15199, b'SHI.ASHI', 897)\n",
      "(10, 15214, b'SHI.KOKO', 898)\n",
      "(10, 15393, b'JI.TSUGU', 899)\n",
      "(10, 15420, b'SHITSU.H', 900)\n",
      "(10, 15457, b'SYAKU.TO', 901)\n",
      "(10, 15480, b'JU.SAZUK', 902)\n",
      "(10, 15658, b'SYUU.OWA', 903)\n",
      "(10, 15691, b'SYUKU.HA', 904)\n",
      "(10, 15722, b'SYO.TOKO', 905)\n",
      "(10, 15911, b'SYOU.TON', 907)\n",
      "(10, 15950, b'SYOU.HAK', 908)\n",
      "(10, 15986, b'JOU.EDA ', 909)\n",
      "(10, 16185, b'SHIN.MOR', 910)\n",
      "(10, 16206, b'JIN.NASA', 911)\n",
      "(10, 16430, b'SEI.TAIR', 912)\n",
      "(10, 16444, b'SEI.KOE ', 913)\n",
      "(10, 16467, b'SEKI.TSU', 914)\n",
      "(10, 16484, b'ZETSU.TA', 915)\n",
      "(10, 16677, b'SEN.FUNE', 916)\n",
      "(10, 16719, b'SOU.KIZU', 917)\n",
      "(10, 16764, b'ZOU.KATA', 918)\n",
      "(10, 16943, b'ZOKU.NAR', 919)\n",
      "(10, 16958, b'TA.HOKA ', 920)\n",
      "(10, 16992, b'TAI.SHIR', 922)\n",
      "(10, 17210, b'TAN.SUMI', 923)\n",
      "(10, 17243, b'CHIKU.KI', 924)\n",
      "(10, 17272, b'CYO.TSUK', 925)\n",
      "(10, 17467, b'CYOU.TOR', 926)\n",
      "(10, 17519, b'TEI.OTOU', 927)\n",
      "(10, 17721, b'TEN.MISE', 928)\n",
      "(10, 17753, b'DO.HAKAR', 929)\n",
      "(10, 17782, b'TOU.ATAR', 930)\n",
      "(10, 17971, b'DOU.MICH', 931)\n",
      "(10, 17999, b'TODOKE.K', 932)\n",
      "(10, 18215, b'NIN.MITO', 933)\n",
      "(10, 18251, b'HA.YABUR', 934)\n",
      "(10, 18302, b'BAKU.MUG', 935)\n",
      "(10, 18515, b'HAN.MESH', 937)\n",
      "(10, 18551, b'BI.SONAE', 938)\n",
      "(10, 18749, b'HYOU.UWA', 939)\n",
      "(10, 18777, b'FU.TOMU ', 940)\n",
      "(10, 18814, b'FUKU.KIR', 941)\n",
      "(10, 19004, b'HEI.TSUW', 942)\n",
      "(10, 19033, b'BEN.TSUT', 943)\n",
      "(10, 19069, b'HOU.KATA', 944)\n",
      "(10, 19301, b'MAI.IMOU', 945)\n",
      "(10, 19509, b'MU.NAI  ', 946)\n",
      "(10, 19546, b'MOKU.KI ', 947)\n",
      "(10, 19581, b'YU.ABURA', 948)\n",
      "(10, 19778, b'YO.ARAKA', 949)\n",
      "(10, 19807, b'YOKU.HOS', 950)\n",
      "(10, 20009, b'RITSU.TA', 952)\n",
      "(10, 20047, b'RYOKU.CH', 953)\n",
      "(10, 20082, b'REKI.HER', 954)\n",
      "(10, 20290, b'WA.YAWAR', 955)\n"
     ]
    }
   ],
   "source": [
    "visualize_kanji()"
   ]
  },
  {
   "cell_type": "code",
   "execution_count": 26,
   "id": "1f167492",
   "metadata": {
    "ExecuteTime": {
     "end_time": "2021-05-03T20:37:37.402827Z",
     "start_time": "2021-05-03T20:37:37.397837Z"
    }
   },
   "outputs": [],
   "source": [
    "def one_kanji():\n",
    "    filename = 'data/ETL8G/ETL8G_01'\n",
    "    counter = 0\n",
    "    with open(filename, 'rb') as f:\n",
    "        for id_dataset in range(5):\n",
    "            for i in range(956):\n",
    "                r = read_ETL8G(f)\n",
    "                if not (b'.HIRA' in r[2] or b'.WO.' in r[2]):\n",
    "                    iE = Image.eval(r[-1], lambda x: 255-x*16)\n",
    "                    fn = 'img/kanji_visualization.png'.format((r[0]-1)%20+1, hex(r[1])[-4:])\n",
    "                    # iE.save(fn, 'PNG')"
   ]
  },
  {
   "cell_type": "code",
   "execution_count": 27,
   "id": "4ab812a3",
   "metadata": {
    "ExecuteTime": {
     "end_time": "2021-05-03T20:37:39.163184Z",
     "start_time": "2021-05-03T20:37:38.334621Z"
    }
   },
   "outputs": [],
   "source": [
    "one_kanji()"
   ]
  },
  {
   "cell_type": "markdown",
   "id": "6238d06f",
   "metadata": {
    "ExecuteTime": {
     "end_time": "2021-04-20T17:26:30.969721Z",
     "start_time": "2021-04-20T17:26:30.749589Z"
    }
   },
   "source": [
    "- Kanji Sample Visualization: ![kanji](img/kanji_visualization.png)"
   ]
  },
  {
   "cell_type": "markdown",
   "id": "4e151f06",
   "metadata": {},
   "source": [
    "## Feature Engineering"
   ]
  },
  {
   "cell_type": "markdown",
   "id": "889d48fa",
   "metadata": {},
   "source": [
    "- The image dimensions need to be resized for the ML model to work on them. Initially images were resized to 32x32, but due to model performance, they were upsized to be 64x64."
   ]
  },
  {
   "cell_type": "markdown",
   "id": "160a3530",
   "metadata": {},
   "source": [
    "### Joining Datasets"
   ]
  },
  {
   "cell_type": "code",
   "execution_count": 30,
   "id": "c51e2cca",
   "metadata": {
    "ExecuteTime": {
     "end_time": "2021-05-03T20:45:18.068807Z",
     "start_time": "2021-05-03T20:45:18.060828Z"
    }
   },
   "outputs": [],
   "source": [
    "japanese_files = ['data/hiragana.npz', 'data/kanji.npz', 'data/katakana.npz']"
   ]
  },
  {
   "cell_type": "code",
   "execution_count": 33,
   "id": "1c5e747d",
   "metadata": {
    "ExecuteTime": {
     "end_time": "2021-05-03T20:54:06.493590Z",
     "start_time": "2021-05-03T20:53:51.678816Z"
    }
   },
   "outputs": [],
   "source": [
    "# merged_data = [np.load(file) for file in japanese_files]\n",
    "# merged_dict = {}\n",
    "# for data in merged_data:\n",
    "#     [merged_dict.update({k: v}) for k, v in data.items()]\n",
    "# np.savez_compressed('data/japanese.npz', **merged_dict)"
   ]
  },
  {
   "cell_type": "code",
   "execution_count": 39,
   "id": "82ff22f8",
   "metadata": {
    "ExecuteTime": {
     "end_time": "2021-05-03T21:12:30.746043Z",
     "start_time": "2021-05-03T21:12:30.006193Z"
    }
   },
   "outputs": [],
   "source": [
    "japanese_data = np.load('data/japanese.npz')['arr_0']"
   ]
  },
  {
   "cell_type": "code",
   "execution_count": 40,
   "id": "14ae9e20",
   "metadata": {
    "ExecuteTime": {
     "end_time": "2021-05-03T21:12:32.399167Z",
     "start_time": "2021-05-03T21:12:32.379194Z"
    }
   },
   "outputs": [
    {
     "data": {
      "text/plain": [
       "(46, 1411, 63, 64)"
      ]
     },
     "execution_count": 40,
     "metadata": {},
     "output_type": "execute_result"
    }
   ],
   "source": [
    "japanese_data.shape"
   ]
  },
  {
   "cell_type": "markdown",
   "id": "801f162f",
   "metadata": {},
   "source": [
    "### Resizing Hiragana Images"
   ]
  },
  {
   "cell_type": "code",
   "execution_count": 41,
   "id": "52c879bb",
   "metadata": {
    "ExecuteTime": {
     "end_time": "2021-05-03T21:15:50.513970Z",
     "start_time": "2021-05-03T21:15:50.496019Z"
    }
   },
   "outputs": [],
   "source": [
    "# 71 unique classes of hiragana (including dipthongs)\n",
    "hiragana_class = 71\n",
    "\n",
    "# Image dimensions\n",
    "img_row, img_col = 64, 64"
   ]
  },
  {
   "cell_type": "code",
   "execution_count": 42,
   "id": "4fb2c11c",
   "metadata": {
    "ExecuteTime": {
     "end_time": "2021-05-03T21:15:55.802804Z",
     "start_time": "2021-05-03T21:15:54.832127Z"
    }
   },
   "outputs": [],
   "source": [
    "hiragana_table = np.load('data/hiragana.npz')['arr_0'].reshape([-1, 127, 128]).astype(np.float32)\n",
    "hiragana_table = hiragana_table/np.max(hiragana_table)"
   ]
  },
  {
   "cell_type": "code",
   "execution_count": 43,
   "id": "56a07c43",
   "metadata": {
    "ExecuteTime": {
     "end_time": "2021-05-03T21:16:55.035875Z",
     "start_time": "2021-05-03T21:16:43.235445Z"
    }
   },
   "outputs": [],
   "source": [
    "hiragana_train = np.zeros([hiragana_class * 160, img_row, img_col], dtype = np.float32)\n",
    "\n",
    "for i in range(hiragana_class * 160):\n",
    "    hiragana_train[i] = skimage.transform.resize(hiragana_table[i], (img_row, img_col))"
   ]
  },
  {
   "cell_type": "markdown",
   "id": "fe78379e",
   "metadata": {},
   "source": [
    "### Resizing Kanji Images"
   ]
  },
  {
   "cell_type": "code",
   "execution_count": 44,
   "id": "24a60792",
   "metadata": {
    "ExecuteTime": {
     "end_time": "2021-05-03T21:17:01.936206Z",
     "start_time": "2021-05-03T21:17:01.919252Z"
    }
   },
   "outputs": [],
   "source": [
    "# 879 unique classes of kanji (most daily used kanji)\n",
    "kanji_class = 873"
   ]
  },
  {
   "cell_type": "code",
   "execution_count": 45,
   "id": "e387d683",
   "metadata": {
    "ExecuteTime": {
     "end_time": "2021-05-03T21:20:07.553935Z",
     "start_time": "2021-05-03T21:17:03.495294Z"
    }
   },
   "outputs": [],
   "source": [
    "kanji_table = np.load('data/kanji.npz')['arr_0'].reshape([-1, 127, 128]).astype(np.float32)\n",
    "kanji_table = kanji_table/np.max(kanji_table)"
   ]
  },
  {
   "cell_type": "markdown",
   "id": "9cc908c8",
   "metadata": {},
   "source": [
    "- The kanji and hiragana characters share the ECT8 dataset, and they are not intuitively arranged. This accounts for this so hiragana are not mistakenly classified as kanji characters."
   ]
  },
  {
   "cell_type": "code",
   "execution_count": null,
   "id": "4656a170",
   "metadata": {
    "ExecuteTime": {
     "end_time": "2021-04-22T14:00:48.238786Z",
     "start_time": "2021-04-22T13:59:57.841605Z"
    }
   },
   "outputs": [],
   "source": [
    "kanji_train = np.zeros([kanji_class * 160, img_row, img_col], dtype = np.float32)\n",
    "\n",
    "for i in range((kanji_class + 4) * 160):\n",
    "    if int(i / 160) != 88 and int( i / 160) != 219 and int( i / 160) != 349 and int( i / 160) != 457:\n",
    "        if int(i / 160) < 88:\n",
    "            kanji_train[i] = skimage.transform.resize(kanji_table[i], (img_row, img_col))\n",
    "        if int(i/160) > 88 and int(i/160) < 219:\n",
    "            kanji_train[i-160] = skimage.transform.resize(kanji_table[i], (img_row, img_col))\n",
    "        if int(i/160) > 219 and int(i/160) < 349:\n",
    "            kanji_train[i-320] = skimage.transform.resize(kanji_table[i], (img_row, img_col))\n",
    "        if int(i/160) > 349 and int(i/160) < 457:\n",
    "            if int(i/160) > 457:\n",
    "                kanji_train[i-640] = skimage.transform.resize(kanji_table[i], (img_row, img_col))"
   ]
  },
  {
   "cell_type": "markdown",
   "id": "cd8646d6",
   "metadata": {},
   "source": [
    "### Resizing Katakana Images"
   ]
  },
  {
   "cell_type": "code",
   "execution_count": null,
   "id": "e5fa934c",
   "metadata": {
    "ExecuteTime": {
     "end_time": "2021-04-22T14:01:29.937834Z",
     "start_time": "2021-04-22T14:01:29.929856Z"
    }
   },
   "outputs": [],
   "source": [
    "# 71 frequently used katakana characters (including dipthongs)\n",
    "katakana_class = 46"
   ]
  },
  {
   "cell_type": "code",
   "execution_count": null,
   "id": "6b03e5a7",
   "metadata": {
    "ExecuteTime": {
     "end_time": "2021-04-22T14:01:32.328261Z",
     "start_time": "2021-04-22T14:01:30.457040Z"
    }
   },
   "outputs": [],
   "source": [
    "katakana_table = np.load('data/katakana.npz')['arr_0'].reshape([-1, 63, 64]).astype(np.float32)\n",
    "katakana_table = katakana_table/np.max(katakana_table)"
   ]
  },
  {
   "cell_type": "code",
   "execution_count": null,
   "id": "2b1346ff",
   "metadata": {
    "ExecuteTime": {
     "end_time": "2021-04-22T14:07:08.662194Z",
     "start_time": "2021-04-22T14:06:22.960426Z"
    }
   },
   "outputs": [],
   "source": [
    "katakana_train = np.zeros([katakana_class * 1411, img_row, img_col], dtype = np.float32)\n",
    "\n",
    "for i in range(katakana_class * 1411):\n",
    "    katakana_train[i] = skimage.transform.resize(katakana_table[i], (img_row, img_col))"
   ]
  },
  {
   "cell_type": "code",
   "execution_count": null,
   "id": "5b0e2688",
   "metadata": {},
   "outputs": [],
   "source": []
  }
 ],
 "metadata": {
  "kernelspec": {
   "display_name": "Python 3",
   "language": "python",
   "name": "python3"
  },
  "language_info": {
   "codemirror_mode": {
    "name": "ipython",
    "version": 3
   },
   "file_extension": ".py",
   "mimetype": "text/x-python",
   "name": "python",
   "nbconvert_exporter": "python",
   "pygments_lexer": "ipython3",
   "version": "3.8.5"
  },
  "toc": {
   "base_numbering": 1,
   "nav_menu": {},
   "number_sections": true,
   "sideBar": true,
   "skip_h1_title": true,
   "title_cell": "Table of Contents",
   "title_sidebar": "Contents",
   "toc_cell": false,
   "toc_position": {},
   "toc_section_display": true,
   "toc_window_display": false
  }
 },
 "nbformat": 4,
 "nbformat_minor": 5
}
