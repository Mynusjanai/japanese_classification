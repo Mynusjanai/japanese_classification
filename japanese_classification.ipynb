{
 "cells": [
  {
   "cell_type": "code",
   "execution_count": 1,
   "id": "c0c9b140",
   "metadata": {
    "ExecuteTime": {
     "end_time": "2021-05-11T17:49:50.593093Z",
     "start_time": "2021-05-11T17:49:44.292604Z"
    }
   },
   "outputs": [],
   "source": [
    "import seaborn as sns\n",
    "import matplotlib.pyplot as plt\n",
    "# ^^^ pyforest auto-imports - don't write above this line\n",
    "import pyforest\n",
    "import struct\n",
    "import skimage.transform\n",
    "import tensorflow as tf\n",
    "import datetime\n",
    "import pandas as pd\n",
    "import pickle\n",
    "import warnings\n",
    "warnings.filterwarnings('ignore')\n",
    "\n",
    "# Dependency imports\n",
    "from tensorflow.keras import models\n",
    "from tensorflow.keras import backend as K\n",
    "from tensorflow.keras.wrappers import scikit_learn\n",
    "from tensorflow.keras.preprocessing.image import ImageDataGenerator\n",
    "from PIL import Image\n",
    "from sklearn.metrics import confusion_matrix, f1_score, recall_score, precision_score, accuracy_score\n",
    "from sklearn.neighbors import KNeighborsClassifier, NearestNeighbors\n",
    "from sklearn.tree import DecisionTreeClassifier\n",
    "from sklearn.ensemble import RandomForestClassifier\n",
    "from sklearn.model_selection import train_test_split\n",
    "from sklearn.preprocessing import OneHotEncoder\n",
    "from string import ascii_uppercase"
   ]
  },
  {
   "cell_type": "code",
   "execution_count": 2,
   "id": "b533fd22",
   "metadata": {
    "ExecuteTime": {
     "end_time": "2021-05-11T17:50:25.901786Z",
     "start_time": "2021-05-11T17:50:25.896876Z"
    }
   },
   "outputs": [
    {
     "name": "stdout",
     "output_type": "stream",
     "text": [
      "1.19.2\n"
     ]
    }
   ],
   "source": [
    "print(np.__version__)"
   ]
  },
  {
   "cell_type": "markdown",
   "id": "f560d4d6",
   "metadata": {},
   "source": [
    "# Japanese Language Classification"
   ]
  },
  {
   "cell_type": "markdown",
   "id": "57204c88",
   "metadata": {},
   "source": [
    "![title_banner](img/title_banner.jpg)"
   ]
  },
  {
   "cell_type": "markdown",
   "id": "c9e590b2",
   "metadata": {
    "heading_collapsed": true
   },
   "source": [
    "## Agenda"
   ]
  },
  {
   "cell_type": "markdown",
   "id": "6a7f16f0",
   "metadata": {
    "hidden": true
   },
   "source": [
    "- This project is designed to take image recognition of Japanese characters, and create a learning model that can classify the characters based on the read input.\n",
    "- Using the three main Japanese language writing systems (Kanji, Hiragana, Katakana), as well as the linguistically depreciated writing system of kuzushiji - used in Japan for over a thousand years since the 8th century.\n",
    "- The data is from the [ETL Character Database](http://etlcdb.db.aist.go.jp/), which includes over a billion total of Japanese characters hand-written and reorganized by the [National Institute of Advanced Industrial Science and Technology (AIST)](http://www.jeita.or.jp/english/)."
   ]
  },
  {
   "cell_type": "markdown",
   "id": "c1dce2cc",
   "metadata": {
    "hidden": true
   },
   "source": [
    "### The Writing Systems of Japan"
   ]
  },
  {
   "cell_type": "markdown",
   "id": "b9f73357",
   "metadata": {
    "hidden": true
   },
   "source": [
    "- **Kanji:**\n",
    "    - Kanji entered Japan in the 8th century via Chinese monks who also brought other traditions with them such as tea and Buddhism. Kanji is based on comparable Chinese characters that convey meaning from pictographic images.<br><br>\n",
    "\n",
    "- **Hiragana:**\n",
    "    - Phonetic writing system taking the mostly curviture root aspects of some kanji characters to represent a phonetic representation of sounds. There are 46 individual hiragana characters used today (alongside 29 diphthongs).<br><br>\n",
    "\n",
    "- **Katakana:**\n",
    "    - Much like hiragana, katakana is phonetically identical to hiragana. Katakana takes the angular aspects of some kanji characters and is mainly used for foreign words, onamatepeia, and sounds. Katakana contains the same amound of phonetic characters as hiragana.<br><br>\n",
    "\n",
    "- **Kuzushiji:**\n",
    "    - A cursive writing style, over 3 million books, on a diverse array of topics such as literature, science, mathematics and cooking written in kuzushiji are preserved today. However, the standardization of Japanese textbooks known as the “Elementary School Order” in 1900, removed Kuzushiji from regular school curriculum, as modern japanese print became popular. As a result, most Japanese natives today cannot read books written or printed in kuzushiji just 120 years ago."
   ]
  },
  {
   "cell_type": "markdown",
   "id": "f7fa9ee5",
   "metadata": {
    "heading_collapsed": true
   },
   "source": [
    "## Data"
   ]
  },
  {
   "cell_type": "markdown",
   "id": "7cd05476",
   "metadata": {
    "heading_collapsed": true,
    "hidden": true
   },
   "source": [
    "### Data Information"
   ]
  },
  {
   "cell_type": "markdown",
   "id": "75bc8a53",
   "metadata": {
    "hidden": true
   },
   "source": [
    "- Each file contains 5 data sets except ETL8G_33.\n",
    "- Each data set contains 956 characters written by a writer.\n",
    "- Each writer wrote 10 sheets (genkouyoushi) per data set."
   ]
  },
  {
   "cell_type": "markdown",
   "id": "bca660c9",
   "metadata": {
    "heading_collapsed": true,
    "hidden": true
   },
   "source": [
    "### Japanese Character Dataset Information"
   ]
  },
  {
   "cell_type": "markdown",
   "id": "fe87b462",
   "metadata": {
    "hidden": true
   },
   "source": [
    "- **Hiragana (ETL 8):**\n",
    "    - 71 hiragana characters (46 unique + 29 diphthongs)\n",
    "    - 160 writers\n",
    "    - 8199 records (genkouyoushi sheets) \n",
    "    - 1,254,120,000 unique handwritten hiragana characters (shared with kanji chars in the same files)<br><br>\n",
    "    \n",
    "- **Kanji (ETL 8):**\n",
    "    - 883 daily use kanji\n",
    "    - 160 writers\n",
    "    - 8199 records \n",
    "    - 152,878,411 unique handwritten kanji (shared with hiragana chars in the same files)<br><br>\n",
    "    \n",
    "- **Katakana (ETL 1):**\n",
    "    - 46 katakana characters (46 unique, dipthongs not included as they are phonetically identical to hiragana)\n",
    "    - 1411 writers\n",
    "    - 2052 records\n",
    "    - 2,436,366 unique handwritten katakana characters"
   ]
  },
  {
   "cell_type": "markdown",
   "id": "bbd5cef2",
   "metadata": {
    "heading_collapsed": true,
    "hidden": true
   },
   "source": [
    "### Import & Read Hiragana"
   ]
  },
  {
   "cell_type": "code",
   "execution_count": 2,
   "id": "a2883d10",
   "metadata": {
    "ExecuteTime": {
     "end_time": "2021-05-04T16:10:18.012855Z",
     "start_time": "2021-05-04T16:10:18.005873Z"
    },
    "hidden": true
   },
   "outputs": [],
   "source": [
    "hira_kanji_record = 8199"
   ]
  },
  {
   "cell_type": "code",
   "execution_count": null,
   "id": "7c483343",
   "metadata": {
    "ExecuteTime": {
     "end_time": "2021-05-03T20:36:30.761957Z",
     "start_time": "2021-05-03T20:36:30.750956Z"
    },
    "hidden": true
   },
   "outputs": [],
   "source": [
    "# Reading the Hiragana ETL8G File\n",
    "def read_ETL8G(f):\n",
    "    s = f.read(hira_kanji_record)\n",
    "    r = struct.unpack('>2H8sI4B4H2B30x8128s11x', s)\n",
    "    iF = Image.frombytes('F', (128, 127), r[14], 'bit', 4)\n",
    "    iL = iF.convert('L')\n",
    "    return r + (iL,)"
   ]
  },
  {
   "cell_type": "code",
   "execution_count": null,
   "id": "52cb61d0",
   "metadata": {
    "ExecuteTime": {
     "end_time": "2021-05-03T20:36:31.306057Z",
     "start_time": "2021-05-03T20:36:31.286107Z"
    },
    "hidden": true
   },
   "outputs": [],
   "source": [
    "# Function to read the binary code present in each of the 33 files included in the ETL8G folder\n",
    "def read_hiragana():\n",
    "    # Characters = 71, writers = 160, y = 127, x = 128\n",
    "    hiragana = np.zeros([71, 160, 127, 128], dtype = np.uint8)\n",
    "\n",
    "    for j in range(1, 33):\n",
    "        filename = 'data/ETL8G/ETL8G_{:02d}'.format(j)\n",
    "        with open(filename, 'rb') as f:\n",
    "            for id_dataset in range(5):\n",
    "                moji = 0\n",
    "                for i in range(956):\n",
    "                    r = read_ETL8G(f)\n",
    "                    if b'.HIRA' in r[2] or b'.WO.' in r[2]:\n",
    "                        if not b'KAI' in r[2] and not b'HEI' in r[2]:\n",
    "                            hiragana[moji, (j - 1) * 5 + id_dataset] = np.array(r[-1])\n",
    "                            moji += 1\n",
    "    np.savez_compressed('data/hiragana.npz', hiragana)"
   ]
  },
  {
   "cell_type": "code",
   "execution_count": null,
   "id": "2f84f05d",
   "metadata": {
    "ExecuteTime": {
     "end_time": "2021-05-03T20:36:35.310520Z",
     "start_time": "2021-05-03T20:36:35.300547Z"
    },
    "hidden": true
   },
   "outputs": [],
   "source": [
    "# Running the Function Above\n",
    "# read_hiragana()"
   ]
  },
  {
   "cell_type": "code",
   "execution_count": null,
   "id": "308e9251",
   "metadata": {
    "ExecuteTime": {
     "end_time": "2021-05-03T20:36:36.340952Z",
     "start_time": "2021-05-03T20:36:35.886984Z"
    },
    "hidden": true
   },
   "outputs": [],
   "source": [
    "hiragana_data = np.load('data/hiragana.npz')\n",
    "hira_test = hiragana_data.f.arr_0"
   ]
  },
  {
   "cell_type": "code",
   "execution_count": null,
   "id": "3b77e214",
   "metadata": {
    "ExecuteTime": {
     "end_time": "2021-05-03T20:36:37.133293Z",
     "start_time": "2021-05-03T20:36:37.117334Z"
    },
    "hidden": true
   },
   "outputs": [],
   "source": [
    "hira_test.shape"
   ]
  },
  {
   "cell_type": "markdown",
   "id": "0592d628",
   "metadata": {
    "heading_collapsed": true,
    "hidden": true
   },
   "source": [
    "### Import & Read Kanji"
   ]
  },
  {
   "cell_type": "code",
   "execution_count": null,
   "id": "adfbf098",
   "metadata": {
    "ExecuteTime": {
     "end_time": "2021-05-03T20:36:40.159471Z",
     "start_time": "2021-05-03T20:36:40.153487Z"
    },
    "hidden": true
   },
   "outputs": [],
   "source": [
    "def read_kanji():\n",
    "    # Characters = 883, writers = 160, y = 127, x = 128\n",
    "    kanji = np.zeros([883, 160, 127, 128], dtype=np.uint8)\n",
    "    for i in range(1, 33):\n",
    "        filename = 'data/ETL8G/ETL8G_{:02d}'.format(i)\n",
    "        with open(filename, 'rb') as f:\n",
    "            for dataset in range(5):\n",
    "                char = 0\n",
    "                for j in range(956):\n",
    "                    r = read_ETL8G(f)\n",
    "                    if not (b'.HIRA' in r[2] or b'.WO.' in r[2]): \n",
    "                        kanji[char, (i - 1) * 5 + dataset] = np.array(r[-1])\n",
    "                        char += 1\n",
    "    np.savez_compressed('data/kanji.npz', kanji)"
   ]
  },
  {
   "cell_type": "code",
   "execution_count": null,
   "id": "c368f203",
   "metadata": {
    "ExecuteTime": {
     "end_time": "2021-05-03T20:36:40.794556Z",
     "start_time": "2021-05-03T20:36:40.777572Z"
    },
    "hidden": true,
    "scrolled": true
   },
   "outputs": [],
   "source": [
    "# read_kanji()"
   ]
  },
  {
   "cell_type": "code",
   "execution_count": null,
   "id": "9ccb6bb8",
   "metadata": {
    "ExecuteTime": {
     "end_time": "2021-05-03T20:36:47.375080Z",
     "start_time": "2021-05-03T20:36:41.243897Z"
    },
    "hidden": true
   },
   "outputs": [],
   "source": [
    "kanji_data = np.load('data/kanji.npz')\n",
    "kanji_test = kanji_data.f.arr_0"
   ]
  },
  {
   "cell_type": "code",
   "execution_count": null,
   "id": "55343f91",
   "metadata": {
    "ExecuteTime": {
     "end_time": "2021-05-03T20:36:49.861707Z",
     "start_time": "2021-05-03T20:36:49.848741Z"
    },
    "hidden": true
   },
   "outputs": [],
   "source": [
    "kanji_test.shape"
   ]
  },
  {
   "cell_type": "markdown",
   "id": "5645ba60",
   "metadata": {
    "heading_collapsed": true,
    "hidden": true
   },
   "source": [
    "### Import & Read Katakana"
   ]
  },
  {
   "cell_type": "code",
   "execution_count": null,
   "id": "d0aba732",
   "metadata": {
    "ExecuteTime": {
     "end_time": "2021-05-03T20:36:52.996000Z",
     "start_time": "2021-05-03T20:36:52.979983Z"
    },
    "hidden": true
   },
   "outputs": [],
   "source": [
    "kana_record = 2052"
   ]
  },
  {
   "cell_type": "code",
   "execution_count": null,
   "id": "92c70d2a",
   "metadata": {
    "ExecuteTime": {
     "end_time": "2021-05-03T20:36:53.443697Z",
     "start_time": "2021-05-03T20:36:53.425746Z"
    },
    "hidden": true
   },
   "outputs": [],
   "source": [
    "# Reading in the Katakana ETL1 File\n",
    "def read_ETL1(total_sheets, f):\n",
    "    s = f.read(kana_record)\n",
    "    r = struct.unpack('>H2sH6BI4H4B4x2016s4x', s)\n",
    "    iF = Image.frombytes('F', (64, 63), r[18], 'bit', 4)\n",
    "    iL = iF.convert('L')\n",
    "    return r + (iL,)"
   ]
  },
  {
   "cell_type": "code",
   "execution_count": null,
   "id": "c231d2f3",
   "metadata": {
    "ExecuteTime": {
     "end_time": "2021-05-03T20:36:54.065204Z",
     "start_time": "2021-05-03T20:36:53.978437Z"
    },
    "hidden": true
   },
   "outputs": [],
   "source": [
    "def read_katakana():\n",
    "    # Character type = 46, writers = 1411, y = 63, x = 64\n",
    "    katakana = np.zeros([46, 1411, 63, 64], dtype=np.uint8)\n",
    "    counter = 0\n",
    "    moji = 0\n",
    "    for k in range(7, 14):\n",
    "        filename = 'data/ETL1/ETL1C_{:02d}'.format(k)\n",
    "        with open(filename, 'rb') as f:\n",
    "            total_sheets = 0\n",
    "            categories = 8\n",
    "            if k == 13:\n",
    "                categories = 3\n",
    "            for j in range(categories):\n",
    "                incrimenter = 0\n",
    "                person = 0\n",
    "                sheets = 1411\n",
    "                if k == 9 and j == 4:\n",
    "                    sheets = 1410\n",
    "                elif k == 12 and j == 1:\n",
    "                    sheets = 1410\n",
    "                for i in range(sheets):\n",
    "                    r = read_ETL1(total_sheets, f)\n",
    "                    total_sheets += sheets\n",
    "                    if k < 11 or (k >= 11 and b' I' not in r[1] and b' E' not in r[1] and b'WI' not in r[1] and b' U' not in r[1] and b'WE' not in r[1]):\n",
    "                        pixels = np.array(r[-1])\n",
    "                        for row in pixels:\n",
    "                            for i in range(len(row)):\n",
    "                                if row[i] == 1 or row[i] == 2:\n",
    "                                    row[i] = 0\n",
    "                        katakana[moji, person] = pixels\n",
    "                        incrimenter = 1\n",
    "                        person += 1\n",
    "                moji += incrimenter\n",
    "    np.savez_compressed('data/katakana.npz', katakana)"
   ]
  },
  {
   "cell_type": "code",
   "execution_count": null,
   "id": "24c8761c",
   "metadata": {
    "ExecuteTime": {
     "end_time": "2021-05-03T20:36:55.810323Z",
     "start_time": "2021-05-03T20:36:55.804339Z"
    },
    "hidden": true
   },
   "outputs": [],
   "source": [
    "# read_katakana()"
   ]
  },
  {
   "cell_type": "code",
   "execution_count": null,
   "id": "b8c16d49",
   "metadata": {
    "ExecuteTime": {
     "end_time": "2021-05-03T20:36:57.725876Z",
     "start_time": "2021-05-03T20:36:57.007023Z"
    },
    "hidden": true
   },
   "outputs": [],
   "source": [
    "katakana_data = np.load('data/katakana.npz')\n",
    "kana_test = katakana_data.f.arr_0"
   ]
  },
  {
   "cell_type": "code",
   "execution_count": null,
   "id": "b42edbb7",
   "metadata": {
    "ExecuteTime": {
     "end_time": "2021-05-03T20:36:58.270987Z",
     "start_time": "2021-05-03T20:36:58.253007Z"
    },
    "hidden": true
   },
   "outputs": [],
   "source": [
    "kana_test.shape"
   ]
  },
  {
   "cell_type": "markdown",
   "id": "06b4a3ed",
   "metadata": {
    "heading_collapsed": true
   },
   "source": [
    "## Visualizing Characters"
   ]
  },
  {
   "cell_type": "markdown",
   "id": "458dfc1e",
   "metadata": {
    "heading_collapsed": true,
    "hidden": true
   },
   "source": [
    "### Visualizing Hiragana"
   ]
  },
  {
   "cell_type": "code",
   "execution_count": null,
   "id": "411c2edf",
   "metadata": {
    "ExecuteTime": {
     "end_time": "2021-05-03T20:37:05.884581Z",
     "start_time": "2021-05-03T20:37:05.869622Z"
    },
    "hidden": true
   },
   "outputs": [],
   "source": [
    "# Visualizing Hiragana\n",
    "def visualize_hiragana():\n",
    "    for j in range(1, 2):\n",
    "        filename = 'data/ETL8G/ETL8G_{:02d}'.format(j)\n",
    "        with open(filename, 'rb') as f:\n",
    "            for id_dataset in range(1):\n",
    "                new_img = Image.new('L', (128*32, 128*30))\n",
    "                for i in range(956):\n",
    "                    r = read_ETL8G(f)\n",
    "                    if b'.HIRA' in r[2]:\n",
    "                        print(r[:4])"
   ]
  },
  {
   "cell_type": "code",
   "execution_count": null,
   "id": "90e5c587",
   "metadata": {
    "ExecuteTime": {
     "end_time": "2021-05-03T20:37:12.560099Z",
     "start_time": "2021-05-03T20:37:12.428421Z"
    },
    "hidden": true
   },
   "outputs": [],
   "source": [
    "visualize_hiragana()"
   ]
  },
  {
   "cell_type": "code",
   "execution_count": null,
   "id": "7cf10ab9",
   "metadata": {
    "ExecuteTime": {
     "end_time": "2021-05-03T20:37:28.272135Z",
     "start_time": "2021-05-03T20:37:28.264158Z"
    },
    "hidden": true
   },
   "outputs": [],
   "source": [
    "def one_kana():\n",
    "    filename = 'data/ETL8G/ETL8G_01'\n",
    "    counter = 0\n",
    "    with open(filename, 'rb') as f:\n",
    "        for id_dataset in range(5):\n",
    "            for i in range(956):\n",
    "                r = read_ETL8G(f)\n",
    "                if b'.WO.' in r[2]:\n",
    "                    iE = Image.eval(r[-1], lambda x: 255-x*16)\n",
    "                    fn = 'img/kana_visualization.png'.format((r[0]-1)%20+1, hex(r[1])[-4:])\n",
    "                    # iE.save(fn, 'PNG')"
   ]
  },
  {
   "cell_type": "code",
   "execution_count": null,
   "id": "19de8e70",
   "metadata": {
    "ExecuteTime": {
     "end_time": "2021-05-03T20:37:29.625863Z",
     "start_time": "2021-05-03T20:37:29.109213Z"
    },
    "hidden": true
   },
   "outputs": [],
   "source": [
    "one_kana()"
   ]
  },
  {
   "cell_type": "markdown",
   "id": "b1e2f07d",
   "metadata": {
    "hidden": true
   },
   "source": [
    "- Kana Sample Visualization ![kana](img/kana_visualization.png)"
   ]
  },
  {
   "cell_type": "markdown",
   "id": "5fb5da4f",
   "metadata": {
    "heading_collapsed": true,
    "hidden": true
   },
   "source": [
    "### Visualizing Kanji"
   ]
  },
  {
   "cell_type": "code",
   "execution_count": null,
   "id": "544c9bf1",
   "metadata": {
    "ExecuteTime": {
     "end_time": "2021-05-03T20:37:31.543039Z",
     "start_time": "2021-05-03T20:37:31.526083Z"
    },
    "hidden": true
   },
   "outputs": [],
   "source": [
    "def visualize_kanji():\n",
    "    for j in range(1, 2):\n",
    "        filename = 'data/ETL8G/ETL8G_{:02d}'.format(j)\n",
    "        with open(filename, 'rb') as f:\n",
    "            for id_dataset in range(1):\n",
    "                new_img = Image.new('L', (128*32, 128*30))\n",
    "                for i in range(956):\n",
    "                    r = read_ETL8G(f)\n",
    "                    if not (b'.HIRA' in r[2] or b'.WO.' in r[2]):\n",
    "                        print(r[:4])"
   ]
  },
  {
   "cell_type": "code",
   "execution_count": null,
   "id": "7fb5b669",
   "metadata": {
    "ExecuteTime": {
     "end_time": "2021-05-03T20:37:36.386041Z",
     "start_time": "2021-05-03T20:37:36.133716Z"
    },
    "hidden": true
   },
   "outputs": [],
   "source": [
    "visualize_kanji()"
   ]
  },
  {
   "cell_type": "code",
   "execution_count": null,
   "id": "1f167492",
   "metadata": {
    "ExecuteTime": {
     "end_time": "2021-05-03T20:37:37.402827Z",
     "start_time": "2021-05-03T20:37:37.397837Z"
    },
    "hidden": true
   },
   "outputs": [],
   "source": [
    "def one_kanji():\n",
    "    filename = 'data/ETL8G/ETL8G_01'\n",
    "    counter = 0\n",
    "    with open(filename, 'rb') as f:\n",
    "        for id_dataset in range(5):\n",
    "            for i in range(956):\n",
    "                r = read_ETL8G(f)\n",
    "                if not (b'.HIRA' in r[2] or b'.WO.' in r[2]):\n",
    "                    iE = Image.eval(r[-1], lambda x: 255-x*16)\n",
    "                    fn = 'img/kanji_visualization.png'.format((r[0]-1)%20+1, hex(r[1])[-4:])\n",
    "                    # iE.save(fn, 'PNG')"
   ]
  },
  {
   "cell_type": "code",
   "execution_count": null,
   "id": "4ab812a3",
   "metadata": {
    "ExecuteTime": {
     "end_time": "2021-05-03T20:37:39.163184Z",
     "start_time": "2021-05-03T20:37:38.334621Z"
    },
    "hidden": true
   },
   "outputs": [],
   "source": [
    "one_kanji()"
   ]
  },
  {
   "cell_type": "markdown",
   "id": "6238d06f",
   "metadata": {
    "ExecuteTime": {
     "end_time": "2021-04-20T17:26:30.969721Z",
     "start_time": "2021-04-20T17:26:30.749589Z"
    },
    "hidden": true
   },
   "source": [
    "- Kanji Sample Visualization: ![kanji](img/kanji_visualization.png)"
   ]
  },
  {
   "cell_type": "markdown",
   "id": "4e151f06",
   "metadata": {
    "heading_collapsed": true
   },
   "source": [
    "## Feature Engineering"
   ]
  },
  {
   "cell_type": "markdown",
   "id": "889d48fa",
   "metadata": {
    "hidden": true
   },
   "source": [
    "- The image dimensions need to be resized for the ML model to work on them. Initially images were resized to 32x32, but due to model performance, they were upsized to be 64x64."
   ]
  },
  {
   "cell_type": "code",
   "execution_count": 11,
   "id": "460af7b6",
   "metadata": {
    "ExecuteTime": {
     "end_time": "2021-05-11T17:59:09.661796Z",
     "start_time": "2021-05-11T17:59:09.657864Z"
    },
    "hidden": true
   },
   "outputs": [],
   "source": [
    "# Image dimensions\n",
    "img_row, img_col = 64, 64"
   ]
  },
  {
   "cell_type": "markdown",
   "id": "801f162f",
   "metadata": {
    "heading_collapsed": true,
    "hidden": true
   },
   "source": [
    "### Resizing Hiragana Images"
   ]
  },
  {
   "cell_type": "code",
   "execution_count": 8,
   "id": "52c879bb",
   "metadata": {
    "ExecuteTime": {
     "end_time": "2021-05-11T16:04:28.788325Z",
     "start_time": "2021-05-11T16:04:28.778325Z"
    },
    "hidden": true
   },
   "outputs": [],
   "source": [
    "# 71 unique classes of hiragana (including dipthongs)\n",
    "hiragana_class = 71"
   ]
  },
  {
   "cell_type": "code",
   "execution_count": 9,
   "id": "dbf38313",
   "metadata": {
    "ExecuteTime": {
     "end_time": "2021-05-11T16:04:29.548522Z",
     "start_time": "2021-05-11T16:04:29.536568Z"
    },
    "hidden": true
   },
   "outputs": [],
   "source": [
    "hiragana_writers = 160"
   ]
  },
  {
   "cell_type": "code",
   "execution_count": 10,
   "id": "4fb2c11c",
   "metadata": {
    "ExecuteTime": {
     "end_time": "2021-05-11T16:04:32.011835Z",
     "start_time": "2021-05-11T16:04:30.319535Z"
    },
    "hidden": true
   },
   "outputs": [],
   "source": [
    "hiragana_table = np.load('data/hiragana.npz')['arr_0'].reshape([-1, 127, 128]).astype(np.float32)\n",
    "hiragana_table = hiragana_table/np.max(hiragana_table)"
   ]
  },
  {
   "cell_type": "code",
   "execution_count": 11,
   "id": "56a07c43",
   "metadata": {
    "ExecuteTime": {
     "end_time": "2021-05-11T16:04:44.426004Z",
     "start_time": "2021-05-11T16:04:34.122595Z"
    },
    "hidden": true
   },
   "outputs": [],
   "source": [
    "hiragana_images = np.zeros([hiragana_class * hiragana_writers, img_row, img_col], dtype = np.float32)\n",
    "\n",
    "for i in range(hiragana_class * hiragana_writers):\n",
    "    hiragana_images[i] = skimage.transform.resize(hiragana_table[i], (img_row, img_col))"
   ]
  },
  {
   "cell_type": "code",
   "execution_count": 12,
   "id": "a05c7fd1",
   "metadata": {
    "ExecuteTime": {
     "end_time": "2021-05-11T16:04:46.509599Z",
     "start_time": "2021-05-11T16:04:46.496635Z"
    },
    "hidden": true
   },
   "outputs": [
    {
     "data": {
      "text/plain": [
       "(11360, 64, 64)"
      ]
     },
     "execution_count": 12,
     "metadata": {},
     "output_type": "execute_result"
    }
   ],
   "source": [
    "hiragana_images.shape"
   ]
  },
  {
   "cell_type": "markdown",
   "id": "fe78379e",
   "metadata": {
    "heading_collapsed": true,
    "hidden": true
   },
   "source": [
    "### Resizing Kanji Images"
   ]
  },
  {
   "cell_type": "code",
   "execution_count": 3,
   "id": "24a60792",
   "metadata": {
    "ExecuteTime": {
     "end_time": "2021-05-11T15:59:23.567636Z",
     "start_time": "2021-05-11T15:59:23.557636Z"
    },
    "hidden": true
   },
   "outputs": [],
   "source": [
    "# 879 unique classes of kanji (most daily used kanji)\n",
    "kanji_class = 873"
   ]
  },
  {
   "cell_type": "code",
   "execution_count": 4,
   "id": "cd6baf89",
   "metadata": {
    "ExecuteTime": {
     "end_time": "2021-05-11T15:59:24.402512Z",
     "start_time": "2021-05-11T15:59:24.386554Z"
    },
    "hidden": true
   },
   "outputs": [],
   "source": [
    "kanji_writers = 160"
   ]
  },
  {
   "cell_type": "code",
   "execution_count": 5,
   "id": "e387d683",
   "metadata": {
    "ExecuteTime": {
     "end_time": "2021-05-11T16:00:28.753521Z",
     "start_time": "2021-05-11T15:59:27.666651Z"
    },
    "hidden": true
   },
   "outputs": [],
   "source": [
    "kanji_table = np.load('data/kanji.npz')['arr_0'].reshape([-1, 127, 128]).astype(np.float32)\n",
    "kanji_table = kanji_table/np.max(kanji_table)"
   ]
  },
  {
   "cell_type": "markdown",
   "id": "9cc908c8",
   "metadata": {
    "hidden": true
   },
   "source": [
    "- The kanji and hiragana characters share the ECT8 dataset, and they are not intuitively arranged. This accounts for this so hiragana are not mistakenly classified as kanji characters."
   ]
  },
  {
   "cell_type": "code",
   "execution_count": 6,
   "id": "4656a170",
   "metadata": {
    "ExecuteTime": {
     "end_time": "2021-05-11T16:04:18.033388Z",
     "start_time": "2021-05-11T16:03:18.789733Z"
    },
    "hidden": true
   },
   "outputs": [],
   "source": [
    "kanji_images = np.zeros([kanji_class * kanji_writers, img_row, img_col], dtype = np.float32)\n",
    "\n",
    "for i in range((kanji_class + 4) * kanji_writers):\n",
    "    if int(i / 160) != 88 and int( i / kanji_writers) != 219 and int( i / kanji_writers) != 349 and int( i / kanji_writers) != 457:\n",
    "        if int(i / kanji_writers) < 88:\n",
    "            kanji_images[i] = skimage.transform.resize(kanji_table[i], (img_row, img_col))\n",
    "        if int(i / kanji_writers) > 88 and int(i / kanji_writers) < 219:\n",
    "            kanji_images[i - kanji_writers] = skimage.transform.resize(kanji_table[i], (img_row, img_col))\n",
    "        if int(i / kanji_writers) > 219 and int(i / kanji_writers) < 349:\n",
    "            kanji_images[i - (kanji_writers * 2)] = skimage.transform.resize(kanji_table[i], (img_row, img_col))\n",
    "        if int(i / kanji_writers) > 349 and int(i/160) < 457:\n",
    "            if int(i / kanji_writers) > 457:\n",
    "                kanji_images[i - (kanji_writers * 4)] = skimage.transform.resize(kanji_table[i], (img_row, img_col))"
   ]
  },
  {
   "cell_type": "code",
   "execution_count": 7,
   "id": "22a34498",
   "metadata": {
    "ExecuteTime": {
     "end_time": "2021-05-11T16:04:22.739496Z",
     "start_time": "2021-05-11T16:04:22.658722Z"
    },
    "hidden": true
   },
   "outputs": [
    {
     "data": {
      "text/plain": [
       "(139680, 64, 64)"
      ]
     },
     "execution_count": 7,
     "metadata": {},
     "output_type": "execute_result"
    }
   ],
   "source": [
    "kanji_images.shape"
   ]
  },
  {
   "cell_type": "markdown",
   "id": "cd8646d6",
   "metadata": {
    "heading_collapsed": true,
    "hidden": true
   },
   "source": [
    "### Resizing Katakana Images"
   ]
  },
  {
   "cell_type": "code",
   "execution_count": 13,
   "id": "e5fa934c",
   "metadata": {
    "ExecuteTime": {
     "end_time": "2021-05-11T16:05:00.387249Z",
     "start_time": "2021-05-11T16:05:00.377277Z"
    },
    "hidden": true
   },
   "outputs": [],
   "source": [
    "# 71 frequently used katakana characters (including dipthongs)\n",
    "katakana_class = 46"
   ]
  },
  {
   "cell_type": "code",
   "execution_count": 14,
   "id": "2ca99e9c",
   "metadata": {
    "ExecuteTime": {
     "end_time": "2021-05-11T16:05:01.252572Z",
     "start_time": "2021-05-11T16:05:01.244593Z"
    },
    "hidden": true
   },
   "outputs": [],
   "source": [
    "katakana_writers = 1411"
   ]
  },
  {
   "cell_type": "code",
   "execution_count": 15,
   "id": "6b03e5a7",
   "metadata": {
    "ExecuteTime": {
     "end_time": "2021-05-11T16:05:04.283953Z",
     "start_time": "2021-05-11T16:05:02.301264Z"
    },
    "hidden": true
   },
   "outputs": [],
   "source": [
    "katakana_table = np.load('data/katakana.npz')['arr_0'].reshape([-1, 63, 64]).astype(np.float32)\n",
    "katakana_table = katakana_table/np.max(katakana_table)"
   ]
  },
  {
   "cell_type": "code",
   "execution_count": 16,
   "id": "2b1346ff",
   "metadata": {
    "ExecuteTime": {
     "end_time": "2021-05-11T16:05:51.606496Z",
     "start_time": "2021-05-11T16:05:05.877770Z"
    },
    "hidden": true
   },
   "outputs": [],
   "source": [
    "katakana_images = np.zeros([katakana_class * katakana_writers, img_row, img_col], dtype = np.float32)\n",
    "\n",
    "for i in range(katakana_class * katakana_writers):\n",
    "    katakana_images[i] = skimage.transform.resize(katakana_table[i], (img_row, img_col))"
   ]
  },
  {
   "cell_type": "code",
   "execution_count": 17,
   "id": "5b0e2688",
   "metadata": {
    "ExecuteTime": {
     "end_time": "2021-05-11T16:05:54.402497Z",
     "start_time": "2021-05-11T16:05:54.385543Z"
    },
    "hidden": true
   },
   "outputs": [
    {
     "data": {
      "text/plain": [
       "(64906, 64, 64)"
      ]
     },
     "execution_count": 17,
     "metadata": {},
     "output_type": "execute_result"
    }
   ],
   "source": [
    "katakana_images.shape"
   ]
  },
  {
   "cell_type": "markdown",
   "id": "514917b3",
   "metadata": {
    "heading_collapsed": true
   },
   "source": [
    "## Model Preparation"
   ]
  },
  {
   "cell_type": "markdown",
   "id": "f8717ddf",
   "metadata": {
    "hidden": true
   },
   "source": [
    "### Creating Labels"
   ]
  },
  {
   "cell_type": "markdown",
   "id": "9a7d990e",
   "metadata": {
    "hidden": true
   },
   "source": [
    "- Creating labels for multiclass classification for the three writing systems and merged datasets of them."
   ]
  },
  {
   "cell_type": "code",
   "execution_count": 18,
   "id": "33f55076",
   "metadata": {
    "ExecuteTime": {
     "end_time": "2021-05-11T16:06:05.118641Z",
     "start_time": "2021-05-11T16:06:05.109695Z"
    },
    "hidden": true
   },
   "outputs": [],
   "source": [
    "# Three classification types\n",
    "\n",
    "y_labels_hiragana = np.zeros(hiragana_images.shape[0]) + 0\n",
    "y_labels_kanji = np.zeros(kanji_images.shape[0]) + 1\n",
    "y_labels_katakana = np.zeros(katakana_images.shape[0]) + 2"
   ]
  },
  {
   "cell_type": "markdown",
   "id": "8108dc18",
   "metadata": {
    "hidden": true
   },
   "source": [
    "#### Merging Labels"
   ]
  },
  {
   "cell_type": "code",
   "execution_count": 19,
   "id": "bb45b4ac",
   "metadata": {
    "ExecuteTime": {
     "end_time": "2021-05-11T16:06:07.346509Z",
     "start_time": "2021-05-11T16:06:07.330553Z"
    },
    "hidden": true
   },
   "outputs": [],
   "source": [
    "merged_labels = np.concatenate([y_labels_hiragana, y_labels_kanji, y_labels_katakana])"
   ]
  },
  {
   "cell_type": "code",
   "execution_count": 20,
   "id": "7037ecd8",
   "metadata": {
    "ExecuteTime": {
     "end_time": "2021-05-11T16:07:21.572419Z",
     "start_time": "2021-05-11T16:07:21.534520Z"
    },
    "hidden": true
   },
   "outputs": [],
   "source": [
    "# np.savez_compressed('data/merged_labels.npz', merged_labels)"
   ]
  },
  {
   "cell_type": "code",
   "execution_count": 21,
   "id": "72c40531",
   "metadata": {
    "ExecuteTime": {
     "end_time": "2021-05-11T16:07:27.448564Z",
     "start_time": "2021-05-11T16:07:27.435599Z"
    },
    "hidden": true
   },
   "outputs": [
    {
     "data": {
      "text/plain": [
       "(215946,)"
      ]
     },
     "execution_count": 21,
     "metadata": {},
     "output_type": "execute_result"
    }
   ],
   "source": [
    "merged_labels.shape"
   ]
  },
  {
   "cell_type": "markdown",
   "id": "81d27bb7",
   "metadata": {
    "hidden": true
   },
   "source": [
    "### Merging Dataset Images"
   ]
  },
  {
   "cell_type": "code",
   "execution_count": 22,
   "id": "768e1cca",
   "metadata": {
    "ExecuteTime": {
     "end_time": "2021-05-11T16:08:36.972774Z",
     "start_time": "2021-05-11T16:07:54.117485Z"
    },
    "hidden": true
   },
   "outputs": [],
   "source": [
    "merged_images = np.vstack([hiragana_images, kanji_images, katakana_images])\n",
    "# np.savez_compressed('data/merged_images.npz', merged_images)"
   ]
  },
  {
   "cell_type": "code",
   "execution_count": 23,
   "id": "832bc6f3",
   "metadata": {
    "ExecuteTime": {
     "end_time": "2021-05-11T16:08:49.971429Z",
     "start_time": "2021-05-11T16:08:49.952480Z"
    },
    "hidden": true
   },
   "outputs": [
    {
     "data": {
      "text/plain": [
       "(215946, 64, 64)"
      ]
     },
     "execution_count": 23,
     "metadata": {},
     "output_type": "execute_result"
    }
   ],
   "source": [
    "merged_images.shape"
   ]
  },
  {
   "cell_type": "markdown",
   "id": "69817205",
   "metadata": {
    "hidden": true
   },
   "source": [
    "### Train-Test Split"
   ]
  },
  {
   "cell_type": "markdown",
   "id": "94b39a28",
   "metadata": {
    "hidden": true
   },
   "source": [
    "#### Merged Train-Test Split"
   ]
  },
  {
   "cell_type": "code",
   "execution_count": 6,
   "id": "f02fb1ee",
   "metadata": {
    "ExecuteTime": {
     "end_time": "2021-05-11T17:56:12.513123Z",
     "start_time": "2021-05-11T17:55:59.094216Z"
    },
    "hidden": true
   },
   "outputs": [],
   "source": [
    "final_images = np.load('data/merged_images.npz')['arr_0']\n",
    "final_labels = np.load('data/merged_labels.npz')['arr_0']"
   ]
  },
  {
   "cell_type": "code",
   "execution_count": 7,
   "id": "edcf74cd",
   "metadata": {
    "ExecuteTime": {
     "end_time": "2021-05-11T17:57:18.107509Z",
     "start_time": "2021-05-11T17:57:16.085325Z"
    },
    "hidden": true
   },
   "outputs": [],
   "source": [
    "japanese_train, japanese_test, japanese_labels, japanese_test_labels = train_test_split(\n",
    "                                                    final_images,\n",
    "                                                    final_labels,\n",
    "                                                    random_state=42,\n",
    "                                                    test_size=0.2)"
   ]
  },
  {
   "cell_type": "markdown",
   "id": "5631a0ae",
   "metadata": {
    "hidden": true
   },
   "source": [
    "#### Creating Validation Set"
   ]
  },
  {
   "cell_type": "markdown",
   "id": "1dfa4842",
   "metadata": {
    "hidden": true
   },
   "source": [
    "- For classification of multiple input types and target variables, we need to create a cross-validation set as well as OneHotEncode our y values (y_train, y_val (validation set), y_test (labels)\n",
    "- We will divide our X values by the number of classes to normalize our pixel values to be between 0 & 1"
   ]
  },
  {
   "cell_type": "code",
   "execution_count": 8,
   "id": "21cddb84",
   "metadata": {
    "ExecuteTime": {
     "end_time": "2021-05-11T17:57:48.394649Z",
     "start_time": "2021-05-11T17:57:40.006390Z"
    },
    "hidden": true
   },
   "outputs": [],
   "source": [
    "X_train, X_val, y_train, y_val =\\\n",
    "    train_test_split(japanese_train, japanese_labels, random_state = 42, test_size = 0.2)\n",
    "\n",
    "X_train, X_val, X_test = X_train/np.max(X_train), X_val/np.max(X_val),\\\n",
    "                                        japanese_test/np.max(japanese_test)"
   ]
  },
  {
   "cell_type": "code",
   "execution_count": 9,
   "id": "e6fc53b7",
   "metadata": {
    "ExecuteTime": {
     "end_time": "2021-05-11T17:58:29.096343Z",
     "start_time": "2021-05-11T17:58:29.045562Z"
    },
    "hidden": true,
    "scrolled": false
   },
   "outputs": [],
   "source": [
    "# One Hot Encode our y values. Fit & transform on y train and only transform on our CV and test data.\n",
    "\n",
    "japanese_ohe = OneHotEncoder(sparse = False, handle_unknown = 'ignore')\n",
    "y_train = japanese_ohe.fit_transform(y_train.reshape(-1, 1))\n",
    "y_val = japanese_ohe.transform(y_val.reshape(-1, 1))\n",
    "y_test = japanese_ohe.transform(japanese_test_labels.reshape(-1, 1))"
   ]
  },
  {
   "cell_type": "code",
   "execution_count": 28,
   "id": "db5d9329",
   "metadata": {
    "ExecuteTime": {
     "end_time": "2021-05-11T16:14:00.566601Z",
     "start_time": "2021-05-11T16:14:00.412863Z"
    },
    "hidden": true
   },
   "outputs": [
    {
     "data": {
      "text/plain": [
       "(34552, 3)"
      ]
     },
     "execution_count": 28,
     "metadata": {},
     "output_type": "execute_result"
    }
   ],
   "source": [
    "y_val.shape"
   ]
  },
  {
   "cell_type": "code",
   "execution_count": 29,
   "id": "25a52ea5",
   "metadata": {
    "ExecuteTime": {
     "end_time": "2021-05-11T16:14:01.972691Z",
     "start_time": "2021-05-11T16:14:01.955736Z"
    },
    "hidden": true
   },
   "outputs": [
    {
     "data": {
      "text/plain": [
       "(138204, 3)"
      ]
     },
     "execution_count": 29,
     "metadata": {},
     "output_type": "execute_result"
    }
   ],
   "source": [
    "y_train.shape"
   ]
  },
  {
   "cell_type": "code",
   "execution_count": 30,
   "id": "30ebea6c",
   "metadata": {
    "ExecuteTime": {
     "end_time": "2021-05-11T16:14:02.722710Z",
     "start_time": "2021-05-11T16:14:02.705757Z"
    },
    "hidden": true
   },
   "outputs": [
    {
     "data": {
      "text/plain": [
       "(43190, 3)"
      ]
     },
     "execution_count": 30,
     "metadata": {},
     "output_type": "execute_result"
    }
   ],
   "source": [
    "y_test.shape"
   ]
  },
  {
   "cell_type": "code",
   "execution_count": 31,
   "id": "c2d502b5",
   "metadata": {
    "ExecuteTime": {
     "end_time": "2021-05-11T16:14:03.281539Z",
     "start_time": "2021-05-11T16:14:03.272563Z"
    },
    "hidden": true
   },
   "outputs": [
    {
     "data": {
      "text/plain": [
       "(43190, 64, 64)"
      ]
     },
     "execution_count": 31,
     "metadata": {},
     "output_type": "execute_result"
    }
   ],
   "source": [
    "X_test.shape"
   ]
  },
  {
   "cell_type": "markdown",
   "id": "3da3c8b4",
   "metadata": {
    "hidden": true
   },
   "source": [
    "#### Saving the Final Image Data"
   ]
  },
  {
   "cell_type": "code",
   "execution_count": null,
   "id": "ddb5da15",
   "metadata": {
    "hidden": true
   },
   "outputs": [],
   "source": [
    "# np.savez_compressed('data/japanese_X_train.npz', X_train)\n",
    "# np.savez_compressed('data/japanese_X_validation.npz', X_val)\n",
    "# np.savez_compressed('data/japanese_X_test.npz', X_test)\n",
    "# np.savez_compressed('data/japanese_y_train.npz', y_train)\n",
    "# np.savez_compressed('data/japanese_y_validation.npz', y_val)\n",
    "# np.savez_compressed('data/japanese_y_test.npz', y_test)"
   ]
  },
  {
   "cell_type": "markdown",
   "id": "de5c4bb4",
   "metadata": {
    "heading_collapsed": true
   },
   "source": [
    "## Visualization Tables"
   ]
  },
  {
   "cell_type": "markdown",
   "id": "0d43bcb0",
   "metadata": {
    "hidden": true
   },
   "source": [
    "- Checking that our finalized data was extracted and correctly, and is readable in the correct visual format."
   ]
  },
  {
   "cell_type": "code",
   "execution_count": 81,
   "id": "3eaaea26",
   "metadata": {
    "ExecuteTime": {
     "end_time": "2021-05-06T12:57:09.520038Z",
     "start_time": "2021-05-06T12:57:08.690965Z"
    },
    "hidden": true,
    "scrolled": false
   },
   "outputs": [
    {
     "data": {
      "image/png": "[encoded data removed]",
      "text/plain": [
       "<Figure size 432x432 with 25 Axes>"
      ]
     },
     "metadata": {},
     "output_type": "display_data"
    }
   ],
   "source": [
    "plt.figure(figsize = (6, 6)).patch.set_facecolor('black')\n",
    "for i in range(25):\n",
    "    plt.subplot(5, 5, i+1)\n",
    "    plt.xticks([])\n",
    "    plt.yticks([])\n",
    "    plt.grid(False)\n",
    "    plt.imshow(japanese_train[i], cmap = plt.cm.binary)\n",
    "# plt.savefig('img/merged_images.png')\n",
    "plt.show();"
   ]
  },
  {
   "cell_type": "markdown",
   "id": "7999914a",
   "metadata": {},
   "source": [
    "## Model Evaluation & Results"
   ]
  },
  {
   "cell_type": "markdown",
   "id": "087f01c1",
   "metadata": {},
   "source": [
    "### Shallow Algorithms"
   ]
  },
  {
   "cell_type": "code",
   "execution_count": 32,
   "id": "324cabec",
   "metadata": {
    "ExecuteTime": {
     "end_time": "2021-05-11T16:14:27.909247Z",
     "start_time": "2021-05-11T16:14:27.830454Z"
    }
   },
   "outputs": [],
   "source": [
    "# Adjusting image dimensions for shallow algorithm results. \n",
    "# This was done to training & validation data on KNN & Random Forest Notebooks.\n",
    "\n",
    "test_samples, test_sample_X, test_sample_y = X_test.shape\n",
    "shallow_X_test = X_test.reshape((test_samples, test_sample_X * test_sample_y))"
   ]
  },
  {
   "cell_type": "markdown",
   "id": "62efb72e",
   "metadata": {},
   "source": [
    "#### KNN Model Results"
   ]
  },
  {
   "cell_type": "code",
   "execution_count": 33,
   "id": "35e08953",
   "metadata": {
    "ExecuteTime": {
     "end_time": "2021-05-11T16:14:48.666418Z",
     "start_time": "2021-05-11T16:14:31.968578Z"
    }
   },
   "outputs": [],
   "source": [
    "knn_infile = open('models/knn.pickle', 'rb')\n",
    "knn_model = pickle.load(knn_infile)\n",
    "knn_infile.close()"
   ]
  },
  {
   "cell_type": "code",
   "execution_count": 35,
   "id": "ca3c892a",
   "metadata": {
    "ExecuteTime": {
     "end_time": "2021-05-11T17:01:50.275049Z",
     "start_time": "2021-05-11T16:53:21.829918Z"
    }
   },
   "outputs": [],
   "source": [
    "knn_y_pred = knn_model.predict(shallow_X_test)"
   ]
  },
  {
   "cell_type": "code",
   "execution_count": 44,
   "id": "5e88a5ae",
   "metadata": {
    "ExecuteTime": {
     "end_time": "2021-05-11T17:27:43.137040Z",
     "start_time": "2021-05-11T17:27:43.018358Z"
    }
   },
   "outputs": [
    {
     "data": {
      "text/html": [
       "<div>\n",
       "<style scoped>\n",
       "    .dataframe tbody tr th:only-of-type {\n",
       "        vertical-align: middle;\n",
       "    }\n",
       "\n",
       "    .dataframe tbody tr th {\n",
       "        vertical-align: top;\n",
       "    }\n",
       "\n",
       "    .dataframe thead th {\n",
       "        text-align: right;\n",
       "    }\n",
       "</style>\n",
       "<table border=\"1\" class=\"dataframe\">\n",
       "  <thead>\n",
       "    <tr style=\"text-align: right;\">\n",
       "      <th></th>\n",
       "      <th>Model</th>\n",
       "      <th>Accuracy</th>\n",
       "      <th>Precision</th>\n",
       "      <th>Recall</th>\n",
       "      <th>F1 Score</th>\n",
       "    </tr>\n",
       "  </thead>\n",
       "  <tbody>\n",
       "    <tr>\n",
       "      <th>0</th>\n",
       "      <td>KNN</td>\n",
       "      <td>0.959528</td>\n",
       "      <td>0.966848</td>\n",
       "      <td>0.959528</td>\n",
       "      <td>0.963174</td>\n",
       "    </tr>\n",
       "  </tbody>\n",
       "</table>\n",
       "</div>"
      ],
      "text/plain": [
       "  Model  Accuracy  Precision    Recall  F1 Score\n",
       "0   KNN  0.959528   0.966848  0.959528  0.963174"
      ]
     },
     "execution_count": 44,
     "metadata": {},
     "output_type": "execute_result"
    }
   ],
   "source": [
    "knn_acc = accuracy_score(y_test, knn_y_pred)\n",
    "knn_prec = precision_score(y_test, knn_y_pred, average = 'micro')\n",
    "knn_rec = recall_score(y_test, knn_y_pred, average = 'micro')\n",
    "knn_f1 = f1_score(y_test, knn_y_pred, average = 'micro')\n",
    "\n",
    "shallow_results = pd.DataFrame([['KNN', knn_acc, knn_prec, knn_rec, knn_f1]],\n",
    "               columns = ['Model', 'Accuracy', 'Precision', 'Recall', 'F1 Score'])\n",
    "shallow_results"
   ]
  },
  {
   "cell_type": "markdown",
   "id": "b2fb1070",
   "metadata": {},
   "source": [
    "#### Random Forest Model Results"
   ]
  },
  {
   "cell_type": "code",
   "execution_count": 45,
   "id": "e0a1742b",
   "metadata": {
    "ExecuteTime": {
     "end_time": "2021-05-11T17:30:12.932916Z",
     "start_time": "2021-05-11T17:30:12.382086Z"
    }
   },
   "outputs": [],
   "source": [
    "rf_infile = open('models/random_forest.pickle', 'rb')\n",
    "rf_model = pickle.load(rf_infile)\n",
    "rf_infile.close()"
   ]
  },
  {
   "cell_type": "code",
   "execution_count": 46,
   "id": "fcbb10cc",
   "metadata": {
    "ExecuteTime": {
     "end_time": "2021-05-11T17:31:30.482706Z",
     "start_time": "2021-05-11T17:31:28.299743Z"
    }
   },
   "outputs": [],
   "source": [
    "rf_y_pred = rf_model.predict(shallow_X_test)"
   ]
  },
  {
   "cell_type": "code",
   "execution_count": 47,
   "id": "bfe7a4f8",
   "metadata": {
    "ExecuteTime": {
     "end_time": "2021-05-11T17:35:19.672380Z",
     "start_time": "2021-05-11T17:35:19.559352Z"
    }
   },
   "outputs": [
    {
     "data": {
      "text/html": [
       "<div>\n",
       "<style scoped>\n",
       "    .dataframe tbody tr th:only-of-type {\n",
       "        vertical-align: middle;\n",
       "    }\n",
       "\n",
       "    .dataframe tbody tr th {\n",
       "        vertical-align: top;\n",
       "    }\n",
       "\n",
       "    .dataframe thead th {\n",
       "        text-align: right;\n",
       "    }\n",
       "</style>\n",
       "<table border=\"1\" class=\"dataframe\">\n",
       "  <thead>\n",
       "    <tr style=\"text-align: right;\">\n",
       "      <th></th>\n",
       "      <th>Model</th>\n",
       "      <th>Accuracy</th>\n",
       "      <th>Precision</th>\n",
       "      <th>Recall</th>\n",
       "      <th>F1 Score</th>\n",
       "    </tr>\n",
       "  </thead>\n",
       "  <tbody>\n",
       "    <tr>\n",
       "      <th>0</th>\n",
       "      <td>KNN</td>\n",
       "      <td>0.959528</td>\n",
       "      <td>0.966848</td>\n",
       "      <td>0.959528</td>\n",
       "      <td>0.963174</td>\n",
       "    </tr>\n",
       "    <tr>\n",
       "      <th>1</th>\n",
       "      <td>Random Forest</td>\n",
       "      <td>0.949572</td>\n",
       "      <td>0.963469</td>\n",
       "      <td>0.949572</td>\n",
       "      <td>0.956470</td>\n",
       "    </tr>\n",
       "  </tbody>\n",
       "</table>\n",
       "</div>"
      ],
      "text/plain": [
       "           Model  Accuracy  Precision    Recall  F1 Score\n",
       "0            KNN  0.959528   0.966848  0.959528  0.963174\n",
       "1  Random Forest  0.949572   0.963469  0.949572  0.956470"
      ]
     },
     "execution_count": 47,
     "metadata": {},
     "output_type": "execute_result"
    }
   ],
   "source": [
    "rf_acc = accuracy_score(y_test, rf_y_pred)\n",
    "rf_prec = precision_score(y_test, rf_y_pred, average = 'micro')\n",
    "rf_rec = recall_score(y_test, rf_y_pred, average = 'micro')\n",
    "rf_f1 = f1_score(y_test, rf_y_pred, average = 'micro')\n",
    "\n",
    "rf_metrics = pd.DataFrame([['Random Forest', rf_acc, rf_prec, rf_rec, rf_f1]],\n",
    "               columns = ['Model', 'Accuracy', 'Precision', 'Recall', 'F1 Score'])\n",
    "shallow_results = shallow_results.append(rf_metrics, ignore_index = True)\n",
    "shallow_results"
   ]
  },
  {
   "cell_type": "markdown",
   "id": "34d3e7fb",
   "metadata": {},
   "source": [
    "### Deep Learning Models"
   ]
  },
  {
   "cell_type": "markdown",
   "id": "50dffd05",
   "metadata": {},
   "source": [
    "#### CNN Model Results"
   ]
  },
  {
   "cell_type": "code",
   "execution_count": 46,
   "id": "442e0697",
   "metadata": {
    "ExecuteTime": {
     "end_time": "2021-05-05T23:53:44.294750Z",
     "start_time": "2021-05-05T23:53:40.473576Z"
    }
   },
   "outputs": [],
   "source": [
    "# Loading/importing the CNN model trained on the 'cnn_model notebook'\n",
    "\n",
    "cnn_model = tf.keras.models.load_model('models/cnn_model.h5')"
   ]
  },
  {
   "cell_type": "code",
   "execution_count": 85,
   "id": "6260f59e",
   "metadata": {
    "ExecuteTime": {
     "end_time": "2021-05-11T14:00:39.134217Z",
     "start_time": "2021-05-11T14:00:39.020664Z"
    }
   },
   "outputs": [],
   "source": [
    "# Reshaping test set. Default shape for CNN is 'channels_last', this makes sure everything is in the right order\n",
    "\n",
    "if K.image_data_format() == 'channels_first':\n",
    "    cnn_X_test = X_test.reshape(X_test.shape[0], 1, img_row, img_col)\n",
    "else:\n",
    "    cnn_X_test = X_test.reshape(X_test.shape[0], img_row, img_col, 1)"
   ]
  },
  {
   "cell_type": "code",
   "execution_count": 74,
   "id": "b0cdfb3b",
   "metadata": {
    "ExecuteTime": {
     "end_time": "2021-05-06T01:28:03.335994Z",
     "start_time": "2021-05-06T01:27:26.987153Z"
    }
   },
   "outputs": [
    {
     "data": {
      "text/plain": [
       "''"
      ]
     },
     "execution_count": 74,
     "metadata": {},
     "output_type": "execute_result"
    },
    {
     "data": {
      "image/png": "[encoded data removed]",
      "text/plain": [
       "<Figure size 432x288 with 2 Axes>"
      ]
     },
     "metadata": {
      "needs_background": "light"
     },
     "output_type": "display_data"
    }
   ],
   "source": [
    "cnn_y_hat_test = np.argmax(cnn_model.predict(cnn_X_test), axis = -1)\n",
    "cnn_test_restore = japanese_ohe.inverse_transform(y_test)\n",
    "cnn_matrix = confusion_matrix(cnn_test_restore, cnn_y_hat_test)\n",
    "\n",
    "sns.heatmap(cnn_matrix, cmap = 'mako', annot = True)\n",
    "# plt.savefig('img/cnn_model_cm.png')\n",
    ";"
   ]
  },
  {
   "cell_type": "code",
   "execution_count": 58,
   "id": "91f146f0",
   "metadata": {
    "ExecuteTime": {
     "end_time": "2021-05-06T00:14:03.777792Z",
     "start_time": "2021-05-06T00:13:24.509347Z"
    }
   },
   "outputs": [
    {
     "name": "stdout",
     "output_type": "stream",
     "text": [
      "1350/1350 [==============================] - 38s 28ms/step - loss: 0.0090 - accuracy: 0.9973\n"
     ]
    }
   ],
   "source": [
    "# cnn_test_loss, cnn_test_acc = cnn_model.evaluate(cnn_X_test, y_test)"
   ]
  },
  {
   "cell_type": "code",
   "execution_count": 59,
   "id": "e901ba38",
   "metadata": {
    "ExecuteTime": {
     "end_time": "2021-05-06T00:14:52.629821Z",
     "start_time": "2021-05-06T00:14:52.611869Z"
    },
    "scrolled": true
   },
   "outputs": [
    {
     "name": "stdout",
     "output_type": "stream",
     "text": [
      "We acheived a test accuracy of 0.9973% on our CNN model for our Japanese dataset.\n"
     ]
    }
   ],
   "source": [
    "print(f'We acheived a test accuracy of {round(cnn_test_acc, 4)}% on our CNN model for our Japanese dataset.')"
   ]
  },
  {
   "cell_type": "markdown",
   "id": "1b547757",
   "metadata": {},
   "source": [
    "#### cuDNN Model Results"
   ]
  },
  {
   "cell_type": "code",
   "execution_count": 3,
   "id": "1a9bbe91",
   "metadata": {
    "ExecuteTime": {
     "end_time": "2021-05-11T17:50:45.643429Z",
     "start_time": "2021-05-11T17:50:40.923228Z"
    }
   },
   "outputs": [],
   "source": [
    "# Loading/importing the cuDNN model trained on the 'cuDNN_model notebook'\n",
    "# This model required downgrading numpy to version 1.19.2 and hence was done in a separate environment in the cloud\n",
    "\n",
    "cudnn_model = tf.keras.models.load_model('models/cudnn_model.h5')"
   ]
  },
  {
   "cell_type": "code",
   "execution_count": 23,
   "id": "03684316",
   "metadata": {
    "ExecuteTime": {
     "end_time": "2021-05-11T18:06:06.348423Z",
     "start_time": "2021-05-11T18:05:17.368508Z"
    }
   },
   "outputs": [
    {
     "data": {
      "text/plain": [
       "''"
      ]
     },
     "execution_count": 23,
     "metadata": {},
     "output_type": "execute_result"
    },
    {
     "data": {
      "image/png": "[encoded data removed]",
      "text/plain": [
       "<Figure size 432x288 with 2 Axes>"
      ]
     },
     "metadata": {
      "needs_background": "light"
     },
     "output_type": "display_data"
    }
   ],
   "source": [
    "cudnn_y_hat_test = np.argmax(cudnn_model.predict(X_test), axis = -1)\n",
    "cudnn_test_restore = japanese_ohe.inverse_transform(y_test)\n",
    "cudnn_matrix = confusion_matrix(cudnn_test_restore, cudnn_y_hat_test)\n",
    "\n",
    "sns.heatmap(cudnn_matrix, cmap = 'mako', annot = True)\n",
    "plt.savefig('img/cudnn_model_cm.png')\n",
    ";"
   ]
  },
  {
   "cell_type": "code",
   "execution_count": 25,
   "id": "5f6768a9",
   "metadata": {
    "ExecuteTime": {
     "end_time": "2021-05-11T18:07:11.867878Z",
     "start_time": "2021-05-11T18:06:21.600438Z"
    }
   },
   "outputs": [
    {
     "name": "stdout",
     "output_type": "stream",
     "text": [
      "1350/1350 [==============================] - 49s 36ms/step - loss: 0.0199 - accuracy: 0.9948\n"
     ]
    }
   ],
   "source": [
    "cudnn_test_loss, cudnn_test_acc = cudnn_model.evaluate(X_test, y_test)"
   ]
  },
  {
   "cell_type": "code",
   "execution_count": 26,
   "id": "25c7efc5",
   "metadata": {
    "ExecuteTime": {
     "end_time": "2021-05-11T18:07:29.161783Z",
     "start_time": "2021-05-11T18:07:29.156883Z"
    }
   },
   "outputs": [
    {
     "name": "stdout",
     "output_type": "stream",
     "text": [
      "We acheived a test accuracy of 0.9948% on our cuDNN model for our Japanese dataset.\n"
     ]
    }
   ],
   "source": [
    "print(f'We acheived a test accuracy of {round(cudnn_test_acc, 4)}% on our cuDNN model for our Japanese dataset.')"
   ]
  },
  {
   "cell_type": "markdown",
   "id": "344ae0ee",
   "metadata": {
    "heading_collapsed": true
   },
   "source": [
    "## Conclusions & Next Steps"
   ]
  },
  {
   "cell_type": "markdown",
   "id": "6014cf25",
   "metadata": {
    "heading_collapsed": true,
    "hidden": true
   },
   "source": [
    "### Conclusions:"
   ]
  },
  {
   "cell_type": "markdown",
   "id": "fc4a6bf8",
   "metadata": {
    "hidden": true
   },
   "source": [
    "- Kanji model may be underperforming due to sheer amount of separate classes in the dataset (883)\n",
    "- Kanji are composed in “parts” called radicals. These radicals are also the basis for many original hiragana & katakana characters\n",
    "- Less variation in Hiragana and Katakana characters could be why those models performed so well\n",
    "- Many kanji are quite similar to each other, especially with radicals combinations that express similar ideas. Would be interesting to see the way radicals or structural components of kanji affect the model\n",
    "- Further upsizing the kanji images to 64x64 or higher may improve the model"
   ]
  },
  {
   "cell_type": "markdown",
   "id": "e2fbd618",
   "metadata": {
    "heading_collapsed": true,
    "hidden": true
   },
   "source": [
    "### Next Steps:"
   ]
  },
  {
   "cell_type": "markdown",
   "id": "1233b7c8",
   "metadata": {
    "hidden": true
   },
   "source": [
    "- Fine tune model params for kanji model to achieve higher accuracy\n",
    "- Further dive into Tensorboard to view for live modeling (did post model in this notebook)\n",
    "- Implement cloud-based modeling using other model techniques. Running in the cloud on multiple GPUs will speed up production time and lessen the strain on my work rig\n",
    "- Combine datasets in the future to work on an image classification model that can identify the type of character (hiragana, katakana, kanji, romanji, numerals) for capstone\n",
    "- Expand model for touchscreen API integration for language education (iOS app) "
   ]
  },
  {
   "cell_type": "code",
   "execution_count": null,
   "id": "768827e3",
   "metadata": {
    "hidden": true
   },
   "outputs": [],
   "source": []
  }
 ],
 "metadata": {
  "kernelspec": {
   "display_name": "Python 3",
   "language": "python",
   "name": "python3"
  },
  "language_info": {
   "codemirror_mode": {
    "name": "ipython",
    "version": 3
   },
   "file_extension": ".py",
   "mimetype": "text/x-python",
   "name": "python",
   "nbconvert_exporter": "python",
   "pygments_lexer": "ipython3",
   "version": "3.8.8"
  },
  "toc": {
   "base_numbering": 1,
   "nav_menu": {},
   "number_sections": true,
   "sideBar": true,
   "skip_h1_title": true,
   "title_cell": "Table of Contents",
   "title_sidebar": "Contents",
   "toc_cell": false,
   "toc_position": {},
   "toc_section_display": true,
   "toc_window_display": true
  },
  "varInspector": {
   "cols": {
    "lenName": 16,
    "lenType": 16,
    "lenVar": 40
   },
   "kernels_config": {
    "python": {
     "delete_cmd_postfix": "",
     "delete_cmd_prefix": "del ",
     "library": "var_list.py",
     "varRefreshCmd": "print(var_dic_list())"
    },
    "r": {
     "delete_cmd_postfix": ") ",
     "delete_cmd_prefix": "rm(",
     "library": "var_list.r",
     "varRefreshCmd": "cat(var_dic_list()) "
    }
   },
   "types_to_exclude": [
    "module",
    "function",
    "builtin_function_or_method",
    "instance",
    "_Feature"
   ],
   "window_display": false
  }
 },
 "nbformat": 4,
 "nbformat_minor": 5
}
