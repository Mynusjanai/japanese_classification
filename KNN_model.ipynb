{
 "cells": [
  {
   "cell_type": "code",
   "execution_count": 18,
   "id": "4eff8b57",
   "metadata": {
    "ExecuteTime": {
     "end_time": "2021-05-10T16:13:31.596245Z",
     "start_time": "2021-05-10T16:13:31.580592Z"
    }
   },
   "outputs": [
    {
     "name": "stdout",
     "output_type": "stream",
     "text": [
      "The tensorboard extension is already loaded. To reload it, use:\n",
      "  %reload_ext tensorboard\n"
     ]
    }
   ],
   "source": [
    "import pandas as pd\n",
    "# ^^^ pyforest auto-imports - don't write above this line\n",
    "import pyforest\n",
    "import struct\n",
    "import skimage.transform\n",
    "import tensorflow as tf\n",
    "import datetime\n",
    "import warnings\n",
    "import pickle\n",
    "\n",
    "# Dependency imports\n",
    "from collections import Counter\n",
    "from PIL import Image\n",
    "from imblearn.over_sampling import SMOTE\n",
    "from sklearn.neighbors import KNeighborsClassifier, NearestNeighbors\n",
    "from sklearn.preprocessing import OneHotEncoder, StandardScaler, MinMaxScaler\n",
    "from sklearn.model_selection import train_test_split, KFold, GridSearchCV,\\\n",
    "cross_val_score, RandomizedSearchCV\n",
    "from sklearn.metrics import f1_score, confusion_matrix,\\\n",
    "recall_score, precision_score, accuracy_score, log_loss,\\\n",
    "roc_curve, roc_auc_score, classification_report\n",
    "\n",
    "\n",
    "# Notebook Extentions\n",
    "%load_ext tensorboard\n",
    "%matplotlib inline\n",
    "\n",
    "warnings.filterwarnings('ignore')\n",
    "pd.options.display.max_columns = 100"
   ]
  },
  {
   "cell_type": "markdown",
   "id": "d8e6934c",
   "metadata": {},
   "source": [
    "# KNN Model"
   ]
  },
  {
   "cell_type": "code",
   "execution_count": 4,
   "id": "1d17c52c",
   "metadata": {
    "ExecuteTime": {
     "end_time": "2021-05-10T15:46:57.977160Z",
     "start_time": "2021-05-10T15:46:06.160357Z"
    }
   },
   "outputs": [],
   "source": [
    "X_train = np.load('data/japanese_X_train.npz')['arr_0']\n",
    "X_val = np.load('data/japanese_X_validation.npz')['arr_0']\n",
    "y_train = np.load('data/japanese_y_train.npz')['arr_0']\n",
    "y_val = np.load('data/japanese_y_validation.npz')['arr_0']"
   ]
  },
  {
   "cell_type": "code",
   "execution_count": 7,
   "id": "c031be2c",
   "metadata": {
    "ExecuteTime": {
     "end_time": "2021-05-10T15:55:55.827876Z",
     "start_time": "2021-05-10T15:55:55.823015Z"
    }
   },
   "outputs": [],
   "source": [
    "# Adjusting image dimensions\n",
    "train_samples, train_sample_X, train_sample_y = X_train.shape\n",
    "X_train = X_train.reshape((train_samples, train_sample_X * train_sample_y))\n",
    "\n",
    "val_samples, val_sample_X, val_sample_y = X_val.shape\n",
    "X_val = X_val.reshape((val_samples, val_sample_X * val_sample_y))"
   ]
  },
  {
   "cell_type": "code",
   "execution_count": 11,
   "id": "9d656d15",
   "metadata": {
    "ExecuteTime": {
     "end_time": "2021-05-10T15:57:47.123739Z",
     "start_time": "2021-05-10T15:57:46.303419Z"
    }
   },
   "outputs": [
    {
     "data": {
      "text/plain": [
       "KNeighborsClassifier(n_neighbors=10, weights='distance')"
      ]
     },
     "execution_count": 11,
     "metadata": {},
     "output_type": "execute_result"
    }
   ],
   "source": [
    "knn = KNeighborsClassifier(n_neighbors = 10, weights = 'distance')\n",
    "knn.fit(X_train, y_train)"
   ]
  },
  {
   "cell_type": "code",
   "execution_count": 13,
   "id": "6df2da6e",
   "metadata": {
    "ExecuteTime": {
     "end_time": "2021-05-10T16:01:07.401788Z",
     "start_time": "2021-05-10T15:59:10.705411Z"
    }
   },
   "outputs": [
    {
     "data": {
      "text/plain": [
       "array([0.92678339, 0.92750687, 0.92069465, 0.91852388, 0.92402315])"
      ]
     },
     "execution_count": 13,
     "metadata": {},
     "output_type": "execute_result"
    }
   ],
   "source": [
    "cross_val_score(knn, X_val, y_val, cv = 5)"
   ]
  },
  {
   "cell_type": "code",
   "execution_count": 19,
   "id": "4b88b57c",
   "metadata": {
    "ExecuteTime": {
     "end_time": "2021-05-10T16:13:55.662011Z",
     "start_time": "2021-05-10T16:13:36.555310Z"
    }
   },
   "outputs": [],
   "source": [
    "pickle_out = open('models/knn.pickle','wb')\n",
    "pickle.dump(knn, pickle_out)\n",
    "pickle_out.close()"
   ]
  },
  {
   "cell_type": "code",
   "execution_count": null,
   "id": "b08269b4",
   "metadata": {},
   "outputs": [],
   "source": []
  }
 ],
 "metadata": {
  "kernelspec": {
   "display_name": "Python 3",
   "language": "python",
   "name": "python3"
  },
  "language_info": {
   "codemirror_mode": {
    "name": "ipython",
    "version": 3
   },
   "file_extension": ".py",
   "mimetype": "text/x-python",
   "name": "python",
   "nbconvert_exporter": "python",
   "pygments_lexer": "ipython3",
   "version": "3.8.8"
  },
  "toc": {
   "base_numbering": 1,
   "nav_menu": {},
   "number_sections": true,
   "sideBar": true,
   "skip_h1_title": false,
   "title_cell": "Table of Contents",
   "title_sidebar": "Contents",
   "toc_cell": false,
   "toc_position": {},
   "toc_section_display": true,
   "toc_window_display": false
  },
  "varInspector": {
   "cols": {
    "lenName": 16,
    "lenType": 16,
    "lenVar": 40
   },
   "kernels_config": {
    "python": {
     "delete_cmd_postfix": "",
     "delete_cmd_prefix": "del ",
     "library": "var_list.py",
     "varRefreshCmd": "print(var_dic_list())"
    },
    "r": {
     "delete_cmd_postfix": ") ",
     "delete_cmd_prefix": "rm(",
     "library": "var_list.r",
     "varRefreshCmd": "cat(var_dic_list()) "
    }
   },
   "types_to_exclude": [
    "module",
    "function",
    "builtin_function_or_method",
    "instance",
    "_Feature"
   ],
   "window_display": false
  }
 },
 "nbformat": 4,
 "nbformat_minor": 5
}
