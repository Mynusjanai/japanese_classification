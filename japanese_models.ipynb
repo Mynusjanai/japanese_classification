{
 "cells": [
  {
   "cell_type": "code",
   "execution_count": 5,
   "id": "e4f170cd",
   "metadata": {},
   "outputs": [],
   "source": [
    "import numpy as np\n",
    "# ^^^ pyforest auto-imports - don't write above this line\n",
    "import pyforest\n",
    "import struct\n",
    "import skimage.transform\n",
    "import tensorflow as tf\n",
    "import datetime\n",
    "\n",
    "# Dependency imports\n",
    "from tensorflow.keras import datasets, layers, models\n",
    "from tensorflow.keras import backend as K\n",
    "from tensorflow.keras.regularizers import l2\n",
    "from tensorflow.keras.optimizers import SGD\n",
    "from tensorflow.keras.wrappers import scikit_learn\n",
    "from tensorflow.keras.callbacks import EarlyStopping, ReduceLROnPlateau\n",
    "from tensorflow.keras.preprocessing.image import ImageDataGenerator\n",
    "from tensorflow.keras.layers import Dense, Dropout, Activation, Flatten\n",
    "from PIL import Image\n",
    "from sklearn.metrics import confusion_matrix\n",
    "from sklearn.model_selection import train_test_split, cross_val_score\n",
    "from sklearn.preprocessing import OneHotEncoder\n",
    "\n",
    "# Notebook Extentions\n",
    "%load_ext tensorboard"
   ]
  },
  {
   "cell_type": "markdown",
   "id": "6ab2aea1",
   "metadata": {},
   "source": [
    "## CNN Model"
   ]
  },
  {
   "cell_type": "markdown",
   "id": "067072f0",
   "metadata": {},
   "source": [
    "#### CNN Model Prep"
   ]
  },
  {
   "cell_type": "code",
   "execution_count": 6,
   "id": "c6974393",
   "metadata": {},
   "outputs": [
    {
     "data": {
      "application/javascript": [
       "\n",
       "        if (window._pyforest_update_imports_cell) { window._pyforest_update_imports_cell('import numpy as np'); }\n",
       "    "
      ],
      "text/plain": [
       "<IPython.core.display.Javascript object>"
      ]
     },
     "metadata": {},
     "output_type": "display_data"
    },
    {
     "data": {
      "application/javascript": [
       "\n",
       "        if (window._pyforest_update_imports_cell) { window._pyforest_update_imports_cell('import numpy as np'); }\n",
       "    "
      ],
      "text/plain": [
       "<IPython.core.display.Javascript object>"
      ]
     },
     "metadata": {},
     "output_type": "display_data"
    },
    {
     "data": {
      "application/javascript": [
       "\n",
       "        if (window._pyforest_update_imports_cell) { window._pyforest_update_imports_cell('import numpy as np'); }\n",
       "    "
      ],
      "text/plain": [
       "<IPython.core.display.Javascript object>"
      ]
     },
     "metadata": {},
     "output_type": "display_data"
    },
    {
     "data": {
      "application/javascript": [
       "\n",
       "        if (window._pyforest_update_imports_cell) { window._pyforest_update_imports_cell('import numpy as np'); }\n",
       "    "
      ],
      "text/plain": [
       "<IPython.core.display.Javascript object>"
      ]
     },
     "metadata": {},
     "output_type": "display_data"
    }
   ],
   "source": [
    "X_train = np.load('data/japanese_X_train.npz')['arr_0']\n",
    "X_val = np.load('data/japanese_X_validation.npz')['arr_0']\n",
    "y_train = np.load('data/japanese_y_train.npz')['arr_0']\n",
    "y_val = np.load('data/japanese_X_validation.npz')['arr_0']"
   ]
  },
  {
   "cell_type": "code",
   "execution_count": 10,
   "id": "623fb188",
   "metadata": {},
   "outputs": [],
   "source": [
    "# Image dimensions\n",
    "img_row, img_col = 64, 64\n",
    "\n",
    "# Classes\n",
    "japanese_class = 3"
   ]
  },
  {
   "cell_type": "code",
   "execution_count": 8,
   "id": "25f4a315",
   "metadata": {},
   "outputs": [],
   "source": [
    "# Default shape for CNN is 'channels_last', this makes sure everything is in the right order\n",
    "\n",
    "if K.image_data_format() == 'channels_first':\n",
    "    japanese_X_train = X_train.reshape(X_train.shape[0], 1, img_row, img_col)\n",
    "    japanese_X_val = X_val.reshape(X_val.shape[0], 1, img_row, img_col)\n",
    "    japanese_shape = (1, img_row, img_col) \n",
    "else:\n",
    "    japanese_X_train = X_train.reshape(X_train.shape[0], img_row, img_col, 1)\n",
    "    japanese_X_val = X_val.reshape(X_val.shape[0], img_row, img_col, 1)\n",
    "    japanese_shape = (img_row, img_col, 1)"
   ]
  },
  {
   "cell_type": "code",
   "execution_count": 11,
   "id": "b6a3c4b2",
   "metadata": {},
   "outputs": [],
   "source": [
    "cnn_model = models.Sequential()\n",
    "\n",
    "cnn_model.add(layers.Conv2D(32, (3, 3), activation = 'relu', padding = 'same', input_shape = japanese_shape, data_format = 'channels_last'))\n",
    "cnn_model.add(layers.MaxPooling2D((2, 2)))\n",
    "cnn_model.add(layers.Conv2D(32, (3, 3), activation = 'relu', padding = 'same'))\n",
    "cnn_model.add(Dropout(0.2))\n",
    "\n",
    "cnn_model.add(layers.Conv2D(64, (3, 3), activation = 'relu', padding = 'same'))\n",
    "cnn_model.add(layers.MaxPooling2D((2, 2)))\n",
    "cnn_model.add(layers.Conv2D(128, (3, 3), activation = 'relu', padding = 'same'))\n",
    "cnn_model.add(Dropout(0.2))\n",
    "\n",
    "cnn_model.add(Flatten())\n",
    "cnn_model.add(Dense(256, activation = 'relu'))\n",
    "cnn_model.add(Dropout(0.2))\n",
    "cnn_model.add(Dense(japanese_class, activation = 'softmax'))"
   ]
  },
  {
   "cell_type": "code",
   "execution_count": 12,
   "id": "9db15d6c",
   "metadata": {
    "scrolled": true
   },
   "outputs": [
    {
     "name": "stdout",
     "output_type": "stream",
     "text": [
      "Model: \"sequential_1\"\n",
      "_________________________________________________________________\n",
      "Layer (type)                 Output Shape              Param #   \n",
      "=================================================================\n",
      "conv2d_4 (Conv2D)            (None, 64, 64, 32)        320       \n",
      "_________________________________________________________________\n",
      "max_pooling2d_2 (MaxPooling2 (None, 32, 32, 32)        0         \n",
      "_________________________________________________________________\n",
      "conv2d_5 (Conv2D)            (None, 32, 32, 32)        9248      \n",
      "_________________________________________________________________\n",
      "dropout_3 (Dropout)          (None, 32, 32, 32)        0         \n",
      "_________________________________________________________________\n",
      "conv2d_6 (Conv2D)            (None, 32, 32, 64)        18496     \n",
      "_________________________________________________________________\n",
      "max_pooling2d_3 (MaxPooling2 (None, 16, 16, 64)        0         \n",
      "_________________________________________________________________\n",
      "conv2d_7 (Conv2D)            (None, 16, 16, 128)       73856     \n",
      "_________________________________________________________________\n",
      "dropout_4 (Dropout)          (None, 16, 16, 128)       0         \n",
      "_________________________________________________________________\n",
      "flatten_1 (Flatten)          (None, 32768)             0         \n",
      "_________________________________________________________________\n",
      "dense_1 (Dense)              (None, 256)               8388864   \n",
      "_________________________________________________________________\n",
      "dropout_5 (Dropout)          (None, 256)               0         \n",
      "_________________________________________________________________\n",
      "dense_2 (Dense)              (None, 3)                 771       \n",
      "=================================================================\n",
      "Total params: 8,491,555\n",
      "Trainable params: 8,491,555\n",
      "Non-trainable params: 0\n",
      "_________________________________________________________________\n"
     ]
    }
   ],
   "source": [
    "cnn_model.summary()"
   ]
  },
  {
   "cell_type": "code",
   "execution_count": 13,
   "id": "5492cb2f",
   "metadata": {},
   "outputs": [],
   "source": [
    "# Callbacks\n",
    "japanese_es = EarlyStopping(patience = 5, verbose = 1, restore_best_weights = True)\n",
    "japanese_lr = ReduceLROnPlateau(factor = 0.5, patience = 3, verbose = 1)\n",
    "\n",
    "# Tensorboard Callback\n",
    "japanese_log_dir = 'logs/CNN/' + datetime.datetime.now().strftime('Y%m%d-%H%M%S')\n",
    "tensorboard_callback = tf.keras.callbacks.TensorBoard(log_dir = japanese_log_dir, histogram_freq = 1)"
   ]
  },
  {
   "cell_type": "markdown",
   "id": "fdbeaf55",
   "metadata": {},
   "source": [
    "#### Adding Variation with ImageDataGenerator\n",
    "- Tensorflow's ImageDataGenerator can augment images to create new vesions of the data, essentially artificially inserting variation into the data\n",
    "- Images can be rotated, zoomed, and flipped\n",
    "- This variation is used to avoid overfitting on the training set\n",
    "- Following augmentation is for a 2D CNN"
   ]
  },
  {
   "cell_type": "code",
   "execution_count": null,
   "id": "53971219",
   "metadata": {},
   "outputs": [],
   "source": [
    "datagen = ImageDataGenerator(rotation_range=15,zoom_range=0.2)\n",
    "datagen.fit(japanese_X_train)\n",
    "\n",
    "cnn_model.compile(loss = 'categorical_crossentropy', optimizer = 'adam', metrics = ['accuracy'])\n",
    "\n",
    "cnn_results = cnn_model.fit(datagen.flow(japanese_X_train, japanese_y_train, batch_size = 32),\n",
    "          epochs = 30, callbacks = (japanese_es, japanese_lr, tensorboard_callback), validation_data = (japanese_X_val, japanese_y_val))"
   ]
  }
 ],
 "metadata": {
  "kernelspec": {
   "display_name": "Python 3",
   "language": "python",
   "name": "python3"
  },
  "language_info": {
   "codemirror_mode": {
    "name": "ipython",
    "version": 3
   },
   "file_extension": ".py",
   "mimetype": "text/x-python",
   "name": "python",
   "nbconvert_exporter": "python",
   "pygments_lexer": "ipython3",
   "version": "3.8.8"
  }
 },
 "nbformat": 4,
 "nbformat_minor": 5
}
